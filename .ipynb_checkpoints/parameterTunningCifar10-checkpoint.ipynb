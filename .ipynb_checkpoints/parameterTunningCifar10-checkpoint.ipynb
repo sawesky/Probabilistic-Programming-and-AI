{
  "nbformat": 4,
  "nbformat_minor": 0,
  "metadata": {
    "colab": {
      "provenance": [],
      "gpuType": "T4"
    },
    "kernelspec": {
      "name": "python3",
      "display_name": "Python 3"
    },
    "language_info": {
      "name": "python"
    },
    "accelerator": "GPU"
  },
  "cells": [
    {
      "cell_type": "code",
      "execution_count": 6,
      "metadata": {
        "colab": {
          "base_uri": "https://localhost:8080/"
        },
        "id": "QghFK8f9SY0_",
        "outputId": "86936bed-acc5-482e-c3d3-8bfc86333463"
      },
      "outputs": [
        {
          "output_type": "stream",
          "name": "stdout",
          "text": [
            "Drive already mounted at /content/drive; to attempt to forcibly remount, call drive.mount(\"/content/drive\", force_remount=True).\n",
            "/content/drive/My Drive/CVAE\n"
          ]
        }
      ],
      "source": [
        "import sys\n",
        "#sys.path.append(\"./CVAE\")\n",
        "from google.colab import drive\n",
        "drive.mount('/content/drive')\n",
        "%cd '/content/drive/My Drive/CVAE'"
      ]
    },
    {
      "cell_type": "code",
      "source": [
        "!pip install pyro-ppl\n",
        "from main import main\n",
        "import argparse\n",
        "import itertools\n",
        "import pandas as pd\n",
        "import shutil\n",
        "import os\n",
        "import glob\n",
        "import os"
      ],
      "metadata": {
        "id": "sImqpIA_Si3m",
        "colab": {
          "base_uri": "https://localhost:8080/"
        },
        "outputId": "87b80760-6210-4a07-c6c3-fc7c3a56fc8b"
      },
      "execution_count": 9,
      "outputs": [
        {
          "output_type": "stream",
          "name": "stdout",
          "text": [
            "Requirement already satisfied: pyro-ppl in /usr/local/lib/python3.10/dist-packages (1.9.1)\n",
            "Requirement already satisfied: numpy>=1.7 in /usr/local/lib/python3.10/dist-packages (from pyro-ppl) (1.26.4)\n",
            "Requirement already satisfied: opt-einsum>=2.3.2 in /usr/local/lib/python3.10/dist-packages (from pyro-ppl) (3.4.0)\n",
            "Requirement already satisfied: pyro-api>=0.1.1 in /usr/local/lib/python3.10/dist-packages (from pyro-ppl) (0.1.2)\n",
            "Requirement already satisfied: torch>=2.0 in /usr/local/lib/python3.10/dist-packages (from pyro-ppl) (2.5.1+cu121)\n",
            "Requirement already satisfied: tqdm>=4.36 in /usr/local/lib/python3.10/dist-packages (from pyro-ppl) (4.67.1)\n",
            "Requirement already satisfied: filelock in /usr/local/lib/python3.10/dist-packages (from torch>=2.0->pyro-ppl) (3.16.1)\n",
            "Requirement already satisfied: typing-extensions>=4.8.0 in /usr/local/lib/python3.10/dist-packages (from torch>=2.0->pyro-ppl) (4.12.2)\n",
            "Requirement already satisfied: networkx in /usr/local/lib/python3.10/dist-packages (from torch>=2.0->pyro-ppl) (3.4.2)\n",
            "Requirement already satisfied: jinja2 in /usr/local/lib/python3.10/dist-packages (from torch>=2.0->pyro-ppl) (3.1.5)\n",
            "Requirement already satisfied: fsspec in /usr/local/lib/python3.10/dist-packages (from torch>=2.0->pyro-ppl) (2024.10.0)\n",
            "Requirement already satisfied: sympy==1.13.1 in /usr/local/lib/python3.10/dist-packages (from torch>=2.0->pyro-ppl) (1.13.1)\n",
            "Requirement already satisfied: mpmath<1.4,>=1.1.0 in /usr/local/lib/python3.10/dist-packages (from sympy==1.13.1->torch>=2.0->pyro-ppl) (1.3.0)\n",
            "Requirement already satisfied: MarkupSafe>=2.0 in /usr/local/lib/python3.10/dist-packages (from jinja2->torch>=2.0->pyro-ppl) (3.0.2)\n"
          ]
        }
      ]
    },
    {
      "cell_type": "code",
      "source": [
        "# Define the hyperparameter search space\n",
        "learning_rates = [1e-4]\n",
        "num_epochs_list = [50]\n",
        "num_particles_list = [20]\n",
        "#0.0001, 50, 20 - 1 quadrant\n",
        "\n",
        "# Create a directory to store results\n",
        "if not os.path.exists(\"tuning_results\"):\n",
        "    os.mkdir(\"tuning_results\")\n",
        "\n",
        "# Iterate over all combinations of hyperparameters\n",
        "for lr, num_epochs, num_particles in itertools.product(learning_rates, num_epochs_list, num_particles_list):\n",
        "    # Set up arguments\n",
        "    args = argparse.Namespace(\n",
        "        num_quadrant_inputs=[1],\n",
        "        num_epochs=num_epochs,\n",
        "        early_stop_patience=3,\n",
        "        learning_rate=lr,\n",
        "        cuda=True,\n",
        "        num_images=10,\n",
        "        num_samples=10,\n",
        "        num_particles=num_particles,\n",
        "        dataset='cifar10'\n",
        "    )\n",
        "\n",
        "    # Log the current configuration\n",
        "    print(f\"Running with lr={lr}, num_epochs={num_epochs}, num_particles={num_particles}\")\n",
        "\n",
        "    # Run the main function\n",
        "    try:\n",
        "        main(args)\n",
        "    except Exception as e:\n",
        "        print(f\"Error with configuration lr={lr}, num_epochs={num_epochs}, num_particles={num_particles}: {e}\")\n",
        "        continue\n",
        "\n",
        "    # Save the results\n",
        "    if os.path.exists(\"results.csv\"):\n",
        "        output_file = f\"tuning_results/results_lr_{lr}_epochs_{num_epochs}_particles_{num_particles}.csv\"\n",
        "        shutil.copy(\"results.csv\", output_file)\n",
        "        print(f\"Results saved to {output_file}\")\n",
        "    else:\n",
        "        print(f\"No 'results.csv' file generated for lr={lr}, num_epochs={num_epochs}, num_particles={num_particles}.\")\n",
        "    # Backup important files before starting\n",
        "    if os.path.exists(\"cvae_plot_q1.png\"):\n",
        "        output_file = f\"tuning_results/cvae_ploth_q1_lr_{lr}_epochs_{num_epochs}_particles_{num_particles}.png\"\n",
        "        shutil.copy(\"cvae_plot_q1.png\", output_file)\n",
        "        print(\"Backup created for 'cvae_plot_q1.png'.\")\n",
        "    if os.path.exists(\"cvae_plot_q2.png\"):\n",
        "        output_file = f\"tuning_results/cvae_ploth_q2_lr_{lr}_epochs_{num_epochs}_particles_{num_particles}.png\"\n",
        "        shutil.copy(\"cvae_plot_q2.png\", output_file)\n",
        "        print(\"Backup created for 'cvae_plot_q2.png'.\")\n",
        "    if os.path.exists(\"cvae_plot_q3.png\"):\n",
        "        output_file = f\"tuning_results/cvae_ploth_q3_lr_{lr}_epochs_{num_epochs}_particles_{num_particles}.png\"\n",
        "        shutil.copy(\"cvae_plot_q3.png\", output_file)\n",
        "        print(\"Backup created for 'cvae_plot_q3.png'.\")\n"
      ],
      "metadata": {
        "colab": {
          "base_uri": "https://localhost:8080/"
        },
        "id": "kouYN9f0SoIJ",
        "outputId": "a2145289-a9e6-4074-be01-f275f5f3ccff"
      },
      "execution_count": null,
      "outputs": [
        {
          "output_type": "stream",
          "name": "stdout",
          "text": [
            "Running with lr=0.0001, num_epochs=50, num_particles=20\n",
            "Training with 1 quadrant as input...\n",
            "Files already downloaded and verified\n",
            "Files already downloaded and verified\n"
          ]
        },
        {
          "output_type": "stream",
          "name": "stderr",
          "text": [
            "NN Epoch 0 train    : 100%|██████████| 391/391 [00:18<00:00, 21.37it/s, early_stop_count=0, loss=1542.51]\n",
            "NN Epoch 0 val      : 100%|██████████| 79/79 [00:02<00:00, 27.56it/s, early_stop_count=0, loss=1518.86]\n",
            "NN Epoch 1 train    : 100%|██████████| 391/391 [00:17<00:00, 22.38it/s, early_stop_count=0, loss=1514.16]\n",
            "NN Epoch 1 val      : 100%|██████████| 79/79 [00:03<00:00, 22.26it/s, early_stop_count=0, loss=1509.34]\n",
            "NN Epoch 2 train    : 100%|██████████| 391/391 [00:16<00:00, 23.33it/s, early_stop_count=0, loss=1509.10]\n",
            "NN Epoch 2 val      : 100%|██████████| 79/79 [00:02<00:00, 27.76it/s, early_stop_count=0, loss=1506.56]\n",
            "NN Epoch 3 train    : 100%|██████████| 391/391 [00:16<00:00, 23.47it/s, early_stop_count=0, loss=1506.40]\n",
            "NN Epoch 3 val      : 100%|██████████| 79/79 [00:03<00:00, 20.62it/s, early_stop_count=0, loss=1504.80]\n",
            "NN Epoch 4 train    : 100%|██████████| 391/391 [00:16<00:00, 23.03it/s, early_stop_count=0, loss=1504.20]\n",
            "NN Epoch 4 val      : 100%|██████████| 79/79 [00:02<00:00, 28.17it/s, early_stop_count=0, loss=1503.21]\n",
            "NN Epoch 5 train    : 100%|██████████| 391/391 [00:16<00:00, 23.30it/s, early_stop_count=0, loss=1502.39]\n",
            "NN Epoch 5 val      : 100%|██████████| 79/79 [00:03<00:00, 23.43it/s, early_stop_count=0, loss=1501.14]\n",
            "NN Epoch 6 train    : 100%|██████████| 391/391 [00:17<00:00, 22.52it/s, early_stop_count=0, loss=1501.27]\n",
            "NN Epoch 6 val      : 100%|██████████| 79/79 [00:02<00:00, 27.92it/s, early_stop_count=0, loss=1500.04]\n",
            "NN Epoch 7 train    : 100%|██████████| 391/391 [00:16<00:00, 23.30it/s, early_stop_count=0, loss=1499.92]\n",
            "NN Epoch 7 val      : 100%|██████████| 79/79 [00:02<00:00, 27.42it/s, early_stop_count=0, loss=1503.28]\n",
            "NN Epoch 8 train    : 100%|██████████| 391/391 [00:17<00:00, 22.03it/s, early_stop_count=1, loss=1499.15]\n",
            "NN Epoch 8 val      : 100%|██████████| 79/79 [00:02<00:00, 28.09it/s, early_stop_count=1, loss=1498.33]\n",
            "NN Epoch 9 train    : 100%|██████████| 391/391 [00:16<00:00, 23.69it/s, early_stop_count=0, loss=1498.48]\n",
            "NN Epoch 9 val      : 100%|██████████| 79/79 [00:02<00:00, 27.92it/s, early_stop_count=0, loss=1497.31]\n",
            "NN Epoch 10 train   : 100%|██████████| 391/391 [00:17<00:00, 22.56it/s, early_stop_count=0, loss=1497.77]\n",
            "NN Epoch 10 val     : 100%|██████████| 79/79 [00:03<00:00, 22.46it/s, early_stop_count=0, loss=1497.86]\n",
            "NN Epoch 11 train   : 100%|██████████| 391/391 [00:16<00:00, 23.44it/s, early_stop_count=1, loss=1497.16]\n",
            "NN Epoch 11 val     : 100%|██████████| 79/79 [00:02<00:00, 27.82it/s, early_stop_count=1, loss=1496.36]\n",
            "NN Epoch 12 train   : 100%|██████████| 391/391 [00:16<00:00, 23.42it/s, early_stop_count=0, loss=1496.06]\n",
            "NN Epoch 12 val     : 100%|██████████| 79/79 [00:04<00:00, 19.75it/s, early_stop_count=0, loss=1495.34]\n",
            "NN Epoch 13 train   : 100%|██████████| 391/391 [00:16<00:00, 23.49it/s, early_stop_count=0, loss=1495.20]\n",
            "NN Epoch 13 val     : 100%|██████████| 79/79 [00:02<00:00, 27.72it/s, early_stop_count=0, loss=1495.37]\n",
            "NN Epoch 14 train   : 100%|██████████| 391/391 [00:16<00:00, 23.47it/s, early_stop_count=1, loss=1494.85]\n",
            "NN Epoch 14 val     : 100%|██████████| 79/79 [00:03<00:00, 23.64it/s, early_stop_count=1, loss=1494.11]\n",
            "NN Epoch 15 train   : 100%|██████████| 391/391 [00:17<00:00, 22.87it/s, early_stop_count=0, loss=1494.46]\n",
            "NN Epoch 15 val     : 100%|██████████| 79/79 [00:02<00:00, 28.10it/s, early_stop_count=0, loss=1494.96]\n",
            "NN Epoch 16 train   : 100%|██████████| 391/391 [00:16<00:00, 23.43it/s, early_stop_count=1, loss=1493.87]\n",
            "NN Epoch 16 val     : 100%|██████████| 79/79 [00:02<00:00, 28.08it/s, early_stop_count=1, loss=1493.53]\n",
            "NN Epoch 17 train   : 100%|██████████| 391/391 [00:17<00:00, 22.25it/s, early_stop_count=0, loss=1493.70]\n",
            "NN Epoch 17 val     : 100%|██████████| 79/79 [00:02<00:00, 26.78it/s, early_stop_count=0, loss=1500.47]\n",
            "NN Epoch 18 train   : 100%|██████████| 391/391 [00:16<00:00, 23.43it/s, early_stop_count=1, loss=1493.39]\n",
            "NN Epoch 18 val     : 100%|██████████| 79/79 [00:02<00:00, 28.17it/s, early_stop_count=1, loss=1492.75]\n",
            "NN Epoch 19 train   : 100%|██████████| 391/391 [00:16<00:00, 23.09it/s, early_stop_count=0, loss=1492.82]\n",
            "NN Epoch 19 val     : 100%|██████████| 79/79 [00:03<00:00, 22.29it/s, early_stop_count=0, loss=1495.73]\n",
            "NN Epoch 20 train   : 100%|██████████| 391/391 [00:16<00:00, 23.51it/s, early_stop_count=1, loss=1493.10]\n",
            "NN Epoch 20 val     : 100%|██████████| 79/79 [00:02<00:00, 28.53it/s, early_stop_count=1, loss=1493.24]\n",
            "NN Epoch 21 train   : 100%|██████████| 391/391 [00:16<00:00, 23.60it/s, early_stop_count=2, loss=1492.04]\n",
            "NN Epoch 21 val     : 100%|██████████| 79/79 [00:03<00:00, 21.61it/s, early_stop_count=2, loss=1491.69]\n",
            "NN Epoch 22 train   : 100%|██████████| 391/391 [00:16<00:00, 23.04it/s, early_stop_count=0, loss=1492.04]\n",
            "NN Epoch 22 val     : 100%|██████████| 79/79 [00:02<00:00, 28.43it/s, early_stop_count=0, loss=1492.90]\n",
            "NN Epoch 23 train   : 100%|██████████| 391/391 [00:16<00:00, 23.49it/s, early_stop_count=1, loss=1491.43]\n",
            "NN Epoch 23 val     : 100%|██████████| 79/79 [00:03<00:00, 25.56it/s, early_stop_count=1, loss=1491.24]\n",
            "NN Epoch 24 train   : 100%|██████████| 391/391 [00:17<00:00, 22.32it/s, early_stop_count=0, loss=1491.05]\n",
            "NN Epoch 24 val     : 100%|██████████| 79/79 [00:02<00:00, 28.49it/s, early_stop_count=0, loss=1494.08]\n",
            "NN Epoch 25 train   : 100%|██████████| 391/391 [00:16<00:00, 23.24it/s, early_stop_count=1, loss=1490.93]\n",
            "NN Epoch 25 val     : 100%|██████████| 79/79 [00:02<00:00, 28.26it/s, early_stop_count=1, loss=1491.49]\n",
            "NN Epoch 26 train   : 100%|██████████| 391/391 [00:17<00:00, 22.62it/s, early_stop_count=2, loss=1490.84]\n",
            "NN Epoch 26 val     : 100%|██████████| 79/79 [00:03<00:00, 24.27it/s, early_stop_count=2, loss=1490.07]\n",
            "NN Epoch 27 train   : 100%|██████████| 391/391 [00:16<00:00, 23.43it/s, early_stop_count=0, loss=1490.63]\n",
            "NN Epoch 27 val     : 100%|██████████| 79/79 [00:02<00:00, 28.14it/s, early_stop_count=0, loss=1491.92]\n",
            "NN Epoch 28 train   : 100%|██████████| 391/391 [00:16<00:00, 23.29it/s, early_stop_count=1, loss=1490.31]\n",
            "NN Epoch 28 val     : 100%|██████████| 79/79 [00:03<00:00, 21.00it/s, early_stop_count=1, loss=1493.19]\n",
            "NN Epoch 29 train   : 100%|██████████| 391/391 [00:16<00:00, 23.58it/s, early_stop_count=2, loss=1490.00]\n",
            "NN Epoch 29 val     : 100%|██████████| 79/79 [00:02<00:00, 28.64it/s, early_stop_count=2, loss=1496.06]\n",
            "CVAE Epoch 0 train  : 100%|██████████| 391/391 [00:23<00:00, 16.53it/s, early_stop_count=0, loss=1540.50]\n",
            "CVAE Epoch 0 val    : 100%|██████████| 79/79 [00:03<00:00, 24.66it/s, early_stop_count=0, loss=1474.53]\n",
            "CVAE Epoch 1 train  : 100%|██████████| 391/391 [00:22<00:00, 17.47it/s, early_stop_count=0, loss=1470.16]\n",
            "CVAE Epoch 1 val    : 100%|██████████| 79/79 [00:04<00:00, 18.89it/s, early_stop_count=0, loss=1471.21]\n",
            "CVAE Epoch 2 train  : 100%|██████████| 391/391 [00:22<00:00, 17.40it/s, early_stop_count=0, loss=1467.95]\n",
            "CVAE Epoch 2 val    : 100%|██████████| 79/79 [00:03<00:00, 20.92it/s, early_stop_count=0, loss=1467.08]\n",
            "CVAE Epoch 3 train  : 100%|██████████| 391/391 [00:22<00:00, 17.04it/s, early_stop_count=0, loss=1452.44]\n",
            "CVAE Epoch 3 val    : 100%|██████████| 79/79 [00:03<00:00, 22.45it/s, early_stop_count=0, loss=1449.92]\n",
            "CVAE Epoch 4 train  : 100%|██████████| 391/391 [00:23<00:00, 16.87it/s, early_stop_count=0, loss=1446.38]\n",
            "CVAE Epoch 4 val    : 100%|██████████| 79/79 [00:03<00:00, 24.37it/s, early_stop_count=0, loss=1445.02]\n",
            "CVAE Epoch 5 train  : 100%|██████████| 391/391 [00:23<00:00, 16.69it/s, early_stop_count=0, loss=1437.36]\n",
            "CVAE Epoch 5 val    : 100%|██████████| 79/79 [00:03<00:00, 24.35it/s, early_stop_count=0, loss=1435.44]\n",
            "CVAE Epoch 6 train  : 100%|██████████| 391/391 [00:23<00:00, 16.39it/s, early_stop_count=0, loss=1427.22]\n",
            "CVAE Epoch 6 val    : 100%|██████████| 79/79 [00:03<00:00, 24.90it/s, early_stop_count=0, loss=1424.95]\n",
            "CVAE Epoch 7 train  : 100%|██████████| 391/391 [00:23<00:00, 16.74it/s, early_stop_count=0, loss=1419.11]\n",
            "CVAE Epoch 7 val    : 100%|██████████| 79/79 [00:03<00:00, 24.68it/s, early_stop_count=0, loss=1419.71]\n",
            "CVAE Epoch 8 train  : 100%|██████████| 391/391 [00:23<00:00, 16.69it/s, early_stop_count=0, loss=1417.32]\n",
            "CVAE Epoch 8 val    : 100%|██████████| 79/79 [00:03<00:00, 24.77it/s, early_stop_count=0, loss=1418.59]\n",
            "CVAE Epoch 9 train  : 100%|██████████| 391/391 [00:23<00:00, 16.72it/s, early_stop_count=0, loss=1416.40]\n",
            "CVAE Epoch 9 val    : 100%|██████████| 79/79 [00:03<00:00, 24.52it/s, early_stop_count=0, loss=1417.92]\n",
            "CVAE Epoch 10 train : 100%|██████████| 391/391 [00:23<00:00, 16.72it/s, early_stop_count=0, loss=1415.39]\n",
            "CVAE Epoch 10 val   : 100%|██████████| 79/79 [00:03<00:00, 24.52it/s, early_stop_count=0, loss=1416.51]\n",
            "CVAE Epoch 11 train : 100%|██████████| 391/391 [00:23<00:00, 16.66it/s, early_stop_count=0, loss=1411.86]\n",
            "CVAE Epoch 11 val   : 100%|██████████| 79/79 [00:03<00:00, 24.83it/s, early_stop_count=0, loss=1412.81]\n",
            "CVAE Epoch 12 train : 100%|██████████| 391/391 [00:23<00:00, 16.74it/s, early_stop_count=0, loss=1409.59]\n",
            "CVAE Epoch 12 val   : 100%|██████████| 79/79 [00:03<00:00, 25.20it/s, early_stop_count=0, loss=1409.66]\n",
            "CVAE Epoch 13 train : 100%|██████████| 391/391 [00:23<00:00, 16.85it/s, early_stop_count=0, loss=1404.40]\n",
            "CVAE Epoch 13 val   : 100%|██████████| 79/79 [00:03<00:00, 23.90it/s, early_stop_count=0, loss=1404.37]\n",
            "CVAE Epoch 14 train : 100%|██████████| 391/391 [00:22<00:00, 17.09it/s, early_stop_count=0, loss=1401.01]\n",
            "CVAE Epoch 14 val   : 100%|██████████| 79/79 [00:03<00:00, 21.08it/s, early_stop_count=0, loss=1402.11]\n",
            "CVAE Epoch 15 train : 100%|██████████| 391/391 [00:22<00:00, 17.36it/s, early_stop_count=0, loss=1398.60]\n",
            "CVAE Epoch 15 val   : 100%|██████████| 79/79 [00:04<00:00, 19.12it/s, early_stop_count=0, loss=1398.97]\n",
            "CVAE Epoch 16 train : 100%|██████████| 391/391 [00:22<00:00, 17.55it/s, early_stop_count=0, loss=1395.58]\n",
            "CVAE Epoch 16 val   : 100%|██████████| 79/79 [00:04<00:00, 18.30it/s, early_stop_count=0, loss=1397.38]\n",
            "CVAE Epoch 17 train : 100%|██████████| 391/391 [00:22<00:00, 17.71it/s, early_stop_count=0, loss=1394.25]\n",
            "CVAE Epoch 17 val   : 100%|██████████| 79/79 [00:03<00:00, 20.31it/s, early_stop_count=0, loss=1396.34]\n",
            "CVAE Epoch 18 train : 100%|██████████| 391/391 [00:22<00:00, 17.19it/s, early_stop_count=0, loss=1393.57]\n",
            "CVAE Epoch 18 val   : 100%|██████████| 79/79 [00:03<00:00, 21.98it/s, early_stop_count=0, loss=1396.43]\n",
            "CVAE Epoch 19 train : 100%|██████████| 391/391 [00:23<00:00, 16.87it/s, early_stop_count=1, loss=1393.16]\n",
            "CVAE Epoch 19 val   : 100%|██████████| 79/79 [00:03<00:00, 24.48it/s, early_stop_count=1, loss=1395.94]\n",
            "CVAE Epoch 20 train : 100%|██████████| 391/391 [00:23<00:00, 16.71it/s, early_stop_count=0, loss=1392.70]\n",
            "CVAE Epoch 20 val   : 100%|██████████| 79/79 [00:03<00:00, 24.33it/s, early_stop_count=0, loss=1395.36]\n",
            "CVAE Epoch 21 train : 100%|██████████| 391/391 [00:23<00:00, 16.68it/s, early_stop_count=0, loss=1392.15]\n",
            "CVAE Epoch 21 val   : 100%|██████████| 79/79 [00:03<00:00, 24.82it/s, early_stop_count=0, loss=1394.53]\n",
            "CVAE Epoch 22 train : 100%|██████████| 391/391 [00:23<00:00, 16.75it/s, early_stop_count=0, loss=1391.26]\n",
            "CVAE Epoch 22 val   : 100%|██████████| 79/79 [00:03<00:00, 24.36it/s, early_stop_count=0, loss=1392.81]\n",
            "CVAE Epoch 23 train : 100%|██████████| 391/391 [00:23<00:00, 16.64it/s, early_stop_count=0, loss=1389.90]\n",
            "CVAE Epoch 23 val   : 100%|██████████| 79/79 [00:03<00:00, 24.65it/s, early_stop_count=0, loss=1392.17]\n",
            "CVAE Epoch 24 train : 100%|██████████| 391/391 [00:23<00:00, 16.74it/s, early_stop_count=0, loss=1389.35]\n",
            "CVAE Epoch 24 val   : 100%|██████████| 79/79 [00:03<00:00, 24.72it/s, early_stop_count=0, loss=1391.39]\n",
            "CVAE Epoch 25 train : 100%|██████████| 391/391 [00:23<00:00, 16.73it/s, early_stop_count=0, loss=1388.80]\n",
            "CVAE Epoch 25 val   : 100%|██████████| 79/79 [00:03<00:00, 24.41it/s, early_stop_count=0, loss=1391.29]\n",
            "CVAE Epoch 26 train : 100%|██████████| 391/391 [00:23<00:00, 16.86it/s, early_stop_count=0, loss=1388.47]\n",
            "CVAE Epoch 26 val   : 100%|██████████| 79/79 [00:03<00:00, 24.73it/s, early_stop_count=0, loss=1391.03]\n",
            "CVAE Epoch 27 train : 100%|██████████| 391/391 [00:23<00:00, 16.77it/s, early_stop_count=0, loss=1388.03]\n",
            "CVAE Epoch 27 val   : 100%|██████████| 79/79 [00:03<00:00, 24.32it/s, early_stop_count=0, loss=1390.18]\n",
            "CVAE Epoch 28 train : 100%|██████████| 391/391 [00:22<00:00, 17.01it/s, early_stop_count=0, loss=1387.27]\n",
            "CVAE Epoch 28 val   : 100%|██████████| 79/79 [00:03<00:00, 21.26it/s, early_stop_count=0, loss=1389.62]\n",
            "CVAE Epoch 29 train : 100%|██████████| 391/391 [00:22<00:00, 17.14it/s, early_stop_count=0, loss=1386.40]\n",
            "CVAE Epoch 29 val   : 100%|██████████| 79/79 [00:03<00:00, 20.05it/s, early_stop_count=0, loss=1388.74]\n",
            "CVAE Epoch 30 train : 100%|██████████| 391/391 [00:22<00:00, 17.65it/s, early_stop_count=0, loss=1385.35]\n",
            "CVAE Epoch 30 val   : 100%|██████████| 79/79 [00:04<00:00, 18.20it/s, early_stop_count=0, loss=1388.03]\n",
            "CVAE Epoch 31 train : 100%|██████████| 391/391 [00:22<00:00, 17.52it/s, early_stop_count=0, loss=1384.62]\n",
            "CVAE Epoch 31 val   : 100%|██████████| 79/79 [00:04<00:00, 19.40it/s, early_stop_count=0, loss=1387.54]\n",
            "CVAE Epoch 32 train : 100%|██████████| 391/391 [00:22<00:00, 17.33it/s, early_stop_count=0, loss=1384.22]\n",
            "CVAE Epoch 32 val   : 100%|██████████| 79/79 [00:03<00:00, 21.39it/s, early_stop_count=0, loss=1386.24]\n",
            "CVAE Epoch 33 train : 100%|██████████| 391/391 [00:22<00:00, 17.01it/s, early_stop_count=0, loss=1383.67]\n",
            "CVAE Epoch 33 val   : 100%|██████████| 79/79 [00:03<00:00, 22.26it/s, early_stop_count=0, loss=1385.86]\n",
            "CVAE Epoch 34 train : 100%|██████████| 391/391 [00:23<00:00, 16.92it/s, early_stop_count=0, loss=1383.21]\n",
            "CVAE Epoch 34 val   : 100%|██████████| 79/79 [00:03<00:00, 24.78it/s, early_stop_count=0, loss=1385.66]\n",
            "CVAE Epoch 35 train : 100%|██████████| 391/391 [00:23<00:00, 16.75it/s, early_stop_count=0, loss=1382.72]\n",
            "CVAE Epoch 35 val   : 100%|██████████| 79/79 [00:03<00:00, 24.91it/s, early_stop_count=0, loss=1385.02]\n",
            "CVAE Epoch 36 train : 100%|██████████| 391/391 [00:23<00:00, 16.80it/s, early_stop_count=0, loss=1382.18]\n",
            "CVAE Epoch 36 val   : 100%|██████████| 79/79 [00:03<00:00, 24.26it/s, early_stop_count=0, loss=1385.82]\n",
            "CVAE Epoch 37 train : 100%|██████████| 391/391 [00:23<00:00, 16.94it/s, early_stop_count=1, loss=1381.39]\n",
            "CVAE Epoch 37 val   : 100%|██████████| 79/79 [00:03<00:00, 24.96it/s, early_stop_count=1, loss=1384.49]\n",
            "CVAE Epoch 38 train : 100%|██████████| 391/391 [00:23<00:00, 16.75it/s, early_stop_count=0, loss=1380.48]\n",
            "CVAE Epoch 38 val   : 100%|██████████| 79/79 [00:03<00:00, 24.86it/s, early_stop_count=0, loss=1383.01]\n",
            "CVAE Epoch 39 train : 100%|██████████| 391/391 [00:23<00:00, 16.69it/s, early_stop_count=0, loss=1379.64]\n",
            "CVAE Epoch 39 val   : 100%|██████████| 79/79 [00:03<00:00, 24.61it/s, early_stop_count=0, loss=1382.14]\n",
            "CVAE Epoch 40 train : 100%|██████████| 391/391 [00:23<00:00, 16.73it/s, early_stop_count=0, loss=1378.63]\n",
            "CVAE Epoch 40 val   : 100%|██████████| 79/79 [00:03<00:00, 24.55it/s, early_stop_count=0, loss=1381.60]\n",
            "CVAE Epoch 41 train : 100%|██████████| 391/391 [00:23<00:00, 16.74it/s, early_stop_count=0, loss=1378.03]\n",
            "CVAE Epoch 41 val   : 100%|██████████| 79/79 [00:03<00:00, 24.59it/s, early_stop_count=0, loss=1380.63]\n",
            "CVAE Epoch 42 train : 100%|██████████| 391/391 [00:22<00:00, 17.01it/s, early_stop_count=0, loss=1377.41]\n",
            "CVAE Epoch 42 val   : 100%|██████████| 79/79 [00:03<00:00, 21.17it/s, early_stop_count=0, loss=1379.85]\n",
            "CVAE Epoch 43 train : 100%|██████████| 391/391 [00:23<00:00, 16.99it/s, early_stop_count=0, loss=1376.85]\n",
            "CVAE Epoch 43 val   : 100%|██████████| 79/79 [00:03<00:00, 20.43it/s, early_stop_count=0, loss=1379.09]\n",
            "CVAE Epoch 44 train : 100%|██████████| 391/391 [00:22<00:00, 17.39it/s, early_stop_count=0, loss=1376.43]\n",
            "CVAE Epoch 44 val   : 100%|██████████| 79/79 [00:04<00:00, 18.34it/s, early_stop_count=0, loss=1378.95]\n",
            "CVAE Epoch 45 train : 100%|██████████| 391/391 [00:22<00:00, 17.57it/s, early_stop_count=0, loss=1375.91]\n",
            "CVAE Epoch 45 val   : 100%|██████████| 79/79 [00:04<00:00, 18.55it/s, early_stop_count=0, loss=1378.36]\n",
            "CVAE Epoch 46 train : 100%|██████████| 391/391 [00:22<00:00, 17.49it/s, early_stop_count=0, loss=1375.34]\n",
            "CVAE Epoch 46 val   : 100%|██████████| 79/79 [00:03<00:00, 20.76it/s, early_stop_count=0, loss=1377.82]\n",
            "CVAE Epoch 47 train : 100%|██████████| 391/391 [00:22<00:00, 17.07it/s, early_stop_count=0, loss=1374.80]\n",
            "CVAE Epoch 47 val   : 100%|██████████| 79/79 [00:03<00:00, 22.41it/s, early_stop_count=0, loss=1377.84]\n",
            "CVAE Epoch 48 train : 100%|██████████| 391/391 [00:23<00:00, 16.85it/s, early_stop_count=0, loss=1374.36]\n",
            "CVAE Epoch 48 val   : 100%|██████████| 79/79 [00:03<00:00, 24.48it/s, early_stop_count=0, loss=1377.29]\n",
            "CVAE Epoch 49 train : 100%|██████████| 391/391 [00:23<00:00, 16.68it/s, early_stop_count=0, loss=1373.85]\n",
            "CVAE Epoch 49 val   : 100%|██████████| 79/79 [00:03<00:00, 24.70it/s, early_stop_count=0, loss=1376.33]\n"
          ]
        },
        {
          "output_type": "stream",
          "name": "stdout",
          "text": [
            "Files already downloaded and verified\n",
            "Files already downloaded and verified\n"
          ]
        },
        {
          "output_type": "stream",
          "name": "stderr",
          "text": [
            "WARNING:matplotlib.image:Clipping input data to the valid range for imshow with RGB data ([0..1] for floats or [0..255] for integers). Got range [-1.0..1.0].\n"
          ]
        },
        {
          "output_type": "stream",
          "name": "stdout",
          "text": [
            "Files already downloaded and verified\n",
            "Files already downloaded and verified\n"
          ]
        },
        {
          "output_type": "stream",
          "name": "stderr",
          "text": [
            "Generating predictions: 100%|██████████| 313/313 [00:40<00:00,  7.69it/s]\n"
          ]
        },
        {
          "output_type": "stream",
          "name": "stdout",
          "text": [
            "Df:                       1 quadrant\n",
            "NN (baseline)       1490.018502\n",
            "CVAE (Monte Carlo)  1375.664995\n",
            "Columns:  ['1 quadrant']\n",
            "Results saved to tuning_results/results_lr_0.0001_epochs_50_particles_20.csv\n",
            "Backup created for 'cvae_plot_q1.png'.\n"
          ]
        },
        {
          "output_type": "display_data",
          "data": {
            "text/plain": [
              "<Figure size 640x480 with 0 Axes>"
            ]
          },
          "metadata": {}
        }
      ]
    },
    {
      "cell_type": "code",
      "source": [
        "# Combine all results for analysis\n",
        "result_files = glob.glob(\"tuning_results/*.csv\")\n",
        "if result_files:\n",
        "    combined_results = []\n",
        "\n",
        "    for file in result_files:\n",
        "        # Read each result file\n",
        "        df = pd.read_csv(file)\n",
        "\n",
        "        # Rename the first column if necessary\n",
        "        if 'Unnamed: 0' in df.columns:\n",
        "            df.rename(columns={'Unnamed: 0': 'Method'}, inplace=True)\n",
        "\n",
        "        print(df)\n",
        "\n",
        "        # Extract performance gaps and compute the aggregate gap\n",
        "        performance_gap_row = df.loc[df['Method'] == 'Performance gap']\n",
        "        aggregate_gap = performance_gap_row[['1 quadrant', '2 quadrants', '3 quadrants']].sum(axis=1).values[0]\n",
        "\n",
        "        # Store results with the file name and aggregate gap\n",
        "        combined_results.append({\n",
        "            \"file\": file,\n",
        "            \"aggregate_gap\": aggregate_gap\n",
        "        })\n",
        "\n",
        "    # Convert to a DataFrame for sorting and analysis\n",
        "    combined_results_df = pd.DataFrame(combined_results)\n",
        "\n",
        "    # Sort by aggregate gap in descending order (largest gap first)\n",
        "    combined_results_df = combined_results_df.sort_values(by=\"aggregate_gap\", ascending=False)\n",
        "\n",
        "    # Save the combined results to a file\n",
        "    combined_results_df.to_csv(\"tuning_results/combined_results.csv\", index=False)\n",
        "    print(\"All results combined and saved to 'tuning_results/combined_results.csv'.\")\n",
        "\n",
        "    # Display the best configuration\n",
        "    print(\"Best configuration:\")\n",
        "    best_file = combined_results_df.iloc[0]['file']\n",
        "    print(f\"File: {best_file}, Aggregate Performance Gap: {combined_results_df.iloc[0]['aggregate_gap']}\")\n",
        "\n",
        "    # Optionally, load and display the details of the best result\n",
        "    best_result = pd.read_csv(best_file)\n",
        "    print(\"\\nDetails of the best configuration:\")\n",
        "    print(best_result)\n",
        "else:\n",
        "    print(\"No results to combine.\")\n"
      ],
      "metadata": {
        "id": "NTelD3I3Sqgt",
        "colab": {
          "base_uri": "https://localhost:8080/"
        },
        "outputId": "378d6170-38f7-47df-9423-a538b035bdcb"
      },
      "execution_count": 12,
      "outputs": [
        {
          "output_type": "stream",
          "name": "stdout",
          "text": [
            "               Method   1 quadrant  2 quadrants  3 quadrants\n",
            "0       NN (baseline)  1491.323099   966.171187   478.206788\n",
            "1  CVAE (Monte Carlo)  1374.539472   918.415958   467.096107\n",
            "2     Performance gap   116.783627    47.755229    11.110681\n",
            "               Method   1 quadrant  2 quadrants  3 quadrants\n",
            "0       NN (baseline)  1490.018502   961.548612   478.029661\n",
            "1  CVAE (Monte Carlo)  1375.664995   920.457620   467.103964\n",
            "2     Performance gap   114.353510    41.090992    10.925697\n",
            "               Method   1 quadrant  2 quadrants  3 quadrants\n",
            "0       NN (baseline)  1493.474965   961.197532   477.878032\n",
            "1  CVAE (Monte Carlo)  1372.308717   924.508222   464.486902\n",
            "2     Performance gap   121.166250    36.689310    13.391129\n",
            "               Method   1 quadrant  2 quadrants  3 quadrants\n",
            "0       NN (baseline)  1492.274204   961.664205   478.447068\n",
            "1  CVAE (Monte Carlo)  1373.189543   921.618564   466.305629\n",
            "2     Performance gap   119.084661    40.045641    12.141440\n",
            "               Method   1 quadrant  2 quadrants  3 quadrants\n",
            "0       NN (baseline)  1493.650800   962.176467   478.706797\n",
            "1  CVAE (Monte Carlo)  1371.521453   922.406164   469.721723\n",
            "2     Performance gap   122.129347    39.770302     8.985073\n",
            "               Method   1 quadrant  2 quadrants  3 quadrants\n",
            "0       NN (baseline)  1494.844973   961.001104   478.255645\n",
            "1  CVAE (Monte Carlo)  1370.403313   919.113422   466.898639\n",
            "2     Performance gap   124.441660    41.887682    11.357006\n",
            "               Method   1 quadrant  2 quadrants  3 quadrants\n",
            "0       NN (baseline)  1492.225266   961.089742   479.272383\n",
            "1  CVAE (Monte Carlo)  1375.771791   920.367716   468.208401\n",
            "2     Performance gap   116.453476    40.722026    11.063982\n",
            "               Method   1 quadrant  2 quadrants  3 quadrants\n",
            "0       NN (baseline)  1493.774551   962.250635   478.530605\n",
            "1  CVAE (Monte Carlo)  1376.372664   922.843465   467.276432\n",
            "2     Performance gap   117.401886    39.407170    11.254173\n",
            "All results combined and saved to 'tuning_results/combined_results.csv'.\n",
            "Best configuration:\n",
            "File: tuning_results/results_lr_0.0001_epochs_101_particles_10.csv, Aggregate Performance Gap: 177.6863475039001\n",
            "\n",
            "Details of the best configuration:\n",
            "           Unnamed: 0   1 quadrant  2 quadrants  3 quadrants\n",
            "0       NN (baseline)  1494.844973   961.001104   478.255645\n",
            "1  CVAE (Monte Carlo)  1370.403313   919.113422   466.898639\n",
            "2     Performance gap   124.441660    41.887682    11.357006\n"
          ]
        }
      ]
    }
  ]
}