{
 "cells": [
  {
   "cell_type": "code",
   "execution_count": 1,
   "id": "c13b282a-d821-4307-9e9f-679f0079b2f1",
   "metadata": {
    "editable": true,
    "slideshow": {
     "slide_type": ""
    },
    "tags": []
   },
   "outputs": [],
   "source": [
    "import sys\n",
    "sys.path.append(\"./CVAE\")"
   ]
  },
  {
   "cell_type": "code",
   "execution_count": 2,
   "id": "6b6feea9-bc48-4b0f-9241-c5676fe69398",
   "metadata": {
    "editable": true,
    "slideshow": {
     "slide_type": ""
    },
    "tags": []
   },
   "outputs": [],
   "source": [
    "from main import main\n",
    "import argparse"
   ]
  },
  {
   "cell_type": "code",
   "execution_count": 5,
   "id": "f80c4eec-449d-4743-bac5-8d179d13d5c6",
   "metadata": {
    "editable": true,
    "slideshow": {
     "slide_type": ""
    },
    "tags": []
   },
   "outputs": [
    {
     "name": "stdout",
     "output_type": "stream",
     "text": [
      "Device:  cuda:0\n",
      "Using random mask\n",
      "Training with 1 quadrant as input...\n",
      "Files already downloaded and verified\n",
      "Files already downloaded and verified\n"
     ]
    },
    {
     "name": "stderr",
     "output_type": "stream",
     "text": [
      "NN Epoch 0 train    : 100%|██████████| 391/391 [00:09<00:00, 43.07it/s, early_stop_count=0, loss=1514.58]\n",
      "NN Epoch 0 val      : 100%|██████████| 79/79 [00:01<00:00, 45.62it/s, early_stop_count=0, loss=1498.72]\n",
      "CVAE Epoch 0 train  : 100%|██████████| 391/391 [00:12<00:00, 31.90it/s, early_stop_count=0, loss=1496.87]\n",
      "CVAE Epoch 0 val    : 100%|██████████| 79/79 [00:01<00:00, 40.57it/s, early_stop_count=0, loss=1467.40]\n"
     ]
    },
    {
     "name": "stdout",
     "output_type": "stream",
     "text": [
      "Files already downloaded and verified\n",
      "Files already downloaded and verified\n"
     ]
    },
    {
     "name": "stderr",
     "output_type": "stream",
     "text": [
      "Clipping input data to the valid range for imshow with RGB data ([0..1] for floats or [0..255] for integers). Got range [-1.0..1.0].\n"
     ]
    },
    {
     "name": "stdout",
     "output_type": "stream",
     "text": [
      "Files already downloaded and verified\n",
      "Files already downloaded and verified\n"
     ]
    },
    {
     "name": "stderr",
     "output_type": "stream",
     "text": [
      "Generating predictions: 100%|██████████| 313/313 [00:11<00:00, 26.96it/s]\n"
     ]
    },
    {
     "name": "stdout",
     "output_type": "stream",
     "text": [
      "Df:                       1 quadrant\n",
      "NN (baseline)       2238.348364\n",
      "CVAE (Monte Carlo)  1497.289599\n",
      "Columns:  ['1 quadrant']\n",
      "Training with 2 quadrants as input...\n",
      "Files already downloaded and verified\n",
      "Files already downloaded and verified\n"
     ]
    },
    {
     "name": "stderr",
     "output_type": "stream",
     "text": [
      "NN Epoch 0 train    : 100%|██████████| 391/391 [00:10<00:00, 37.72it/s, early_stop_count=0, loss=984.80] \n",
      "NN Epoch 0 val      : 100%|██████████| 79/79 [00:02<00:00, 39.46it/s, early_stop_count=0, loss=968.42]\n",
      "CVAE Epoch 0 train  : 100%|██████████| 391/391 [00:13<00:00, 29.15it/s, early_stop_count=0, loss=1003.28]\n",
      "CVAE Epoch 0 val    : 100%|██████████| 79/79 [00:02<00:00, 35.76it/s, early_stop_count=0, loss=986.73]\n"
     ]
    },
    {
     "name": "stdout",
     "output_type": "stream",
     "text": [
      "Files already downloaded and verified\n",
      "Files already downloaded and verified\n"
     ]
    },
    {
     "name": "stderr",
     "output_type": "stream",
     "text": [
      "Clipping input data to the valid range for imshow with RGB data ([0..1] for floats or [0..255] for integers). Got range [-1.0..1.0].\n"
     ]
    },
    {
     "name": "stdout",
     "output_type": "stream",
     "text": [
      "Files already downloaded and verified\n",
      "Files already downloaded and verified\n"
     ]
    },
    {
     "name": "stderr",
     "output_type": "stream",
     "text": [
      "Generating predictions:  39%|███▉      | 123/313 [00:04<00:07, 27.08it/s]\n"
     ]
    },
    {
     "ename": "KeyboardInterrupt",
     "evalue": "",
     "output_type": "error",
     "traceback": [
      "\u001b[0;31m---------------------------------------------------------------------------\u001b[0m",
      "\u001b[0;31mKeyboardInterrupt\u001b[0m                         Traceback (most recent call last)",
      "Cell \u001b[0;32mIn[5], line 20\u001b[0m\n\u001b[1;32m      1\u001b[0m args \u001b[38;5;241m=\u001b[39m argparse\u001b[38;5;241m.\u001b[39mNamespace(\n\u001b[1;32m      2\u001b[0m     num_quadrant_inputs\u001b[38;5;241m=\u001b[39m[\u001b[38;5;241m1\u001b[39m, \u001b[38;5;241m2\u001b[39m, \u001b[38;5;241m3\u001b[39m],\n\u001b[1;32m      3\u001b[0m     num_epochs\u001b[38;5;241m=\u001b[39m\u001b[38;5;241m1\u001b[39m,\n\u001b[0;32m   (...)\u001b[0m\n\u001b[1;32m     17\u001b[0m     use_conv\u001b[38;5;241m=\u001b[39m\u001b[38;5;28;01mFalse\u001b[39;00m\n\u001b[1;32m     18\u001b[0m )\n\u001b[0;32m---> 20\u001b[0m \u001b[43mmain\u001b[49m\u001b[43m(\u001b[49m\u001b[43margs\u001b[49m\u001b[43m)\u001b[49m\n",
      "File \u001b[0;32m~/lectures/194.150-2024W/CVAE/Probabilistic-Programming-and-AI/./CVAE/main.py:163\u001b[0m, in \u001b[0;36mmain\u001b[0;34m(args)\u001b[0m\n\u001b[1;32m    153\u001b[0m     df \u001b[38;5;241m=\u001b[39m generate_table(\n\u001b[1;32m    154\u001b[0m         device\u001b[38;5;241m=\u001b[39mdevice,\n\u001b[1;32m    155\u001b[0m         num_quadrant_inputs\u001b[38;5;241m=\u001b[39mnum_quadrant_inputs,\n\u001b[0;32m   (...)\u001b[0m\n\u001b[1;32m    159\u001b[0m         col_name\u001b[38;5;241m=\u001b[39m\u001b[38;5;124m\"\u001b[39m\u001b[38;5;132;01m{}\u001b[39;00m\u001b[38;5;124m quadrant\u001b[39m\u001b[38;5;132;01m{}\u001b[39;00m\u001b[38;5;124m\"\u001b[39m\u001b[38;5;241m.\u001b[39mformat(num_quadrant_inputs, maybes),\n\u001b[1;32m    160\u001b[0m     )\n\u001b[1;32m    161\u001b[0m \u001b[38;5;28;01melif\u001b[39;00m args\u001b[38;5;241m.\u001b[39mdataset \u001b[38;5;241m==\u001b[39m \u001b[38;5;124m\"\u001b[39m\u001b[38;5;124mcifar10\u001b[39m\u001b[38;5;124m\"\u001b[39m:\n\u001b[1;32m    162\u001b[0m     \u001b[38;5;66;03m# Retrieve conditional log likelihood\u001b[39;00m\n\u001b[0;32m--> 163\u001b[0m     df \u001b[38;5;241m=\u001b[39m \u001b[43mgenerate_table_CIFAR10\u001b[49m\u001b[43m(\u001b[49m\n\u001b[1;32m    164\u001b[0m \u001b[43m        \u001b[49m\u001b[43mdevice\u001b[49m\u001b[38;5;241;43m=\u001b[39;49m\u001b[43mdevice\u001b[49m\u001b[43m,\u001b[49m\n\u001b[1;32m    165\u001b[0m \u001b[43m        \u001b[49m\u001b[43mnum_quadrant_inputs\u001b[49m\u001b[38;5;241;43m=\u001b[39;49m\u001b[43mnum_quadrant_inputs\u001b[49m\u001b[43m,\u001b[49m\n\u001b[1;32m    166\u001b[0m \u001b[43m        \u001b[49m\u001b[43mpre_trained_baseline\u001b[49m\u001b[38;5;241;43m=\u001b[39;49m\u001b[43mbaseline_net\u001b[49m\u001b[43m,\u001b[49m\n\u001b[1;32m    167\u001b[0m \u001b[43m        \u001b[49m\u001b[43mpre_trained_cvae\u001b[49m\u001b[38;5;241;43m=\u001b[39;49m\u001b[43mcvae_net\u001b[49m\u001b[43m,\u001b[49m\n\u001b[1;32m    168\u001b[0m \u001b[43m        \u001b[49m\u001b[43mnum_particles\u001b[49m\u001b[38;5;241;43m=\u001b[39;49m\u001b[43margs\u001b[49m\u001b[38;5;241;43m.\u001b[39;49m\u001b[43mnum_particles\u001b[49m\u001b[43m,\u001b[49m\n\u001b[1;32m    169\u001b[0m \u001b[43m        \u001b[49m\u001b[43mcol_name\u001b[49m\u001b[38;5;241;43m=\u001b[39;49m\u001b[38;5;124;43m\"\u001b[39;49m\u001b[38;5;132;43;01m{}\u001b[39;49;00m\u001b[38;5;124;43m quadrant\u001b[39;49m\u001b[38;5;132;43;01m{}\u001b[39;49;00m\u001b[38;5;124;43m\"\u001b[39;49m\u001b[38;5;241;43m.\u001b[39;49m\u001b[43mformat\u001b[49m\u001b[43m(\u001b[49m\u001b[43mnum_quadrant_inputs\u001b[49m\u001b[43m,\u001b[49m\u001b[43m \u001b[49m\u001b[43mmaybes\u001b[49m\u001b[43m)\u001b[49m\u001b[43m,\u001b[49m\n\u001b[1;32m    170\u001b[0m \u001b[43m    \u001b[49m\u001b[43m)\u001b[49m\n\u001b[1;32m    171\u001b[0m \u001b[38;5;28;01melif\u001b[39;00m args\u001b[38;5;241m.\u001b[39mdataset \u001b[38;5;241m==\u001b[39m \u001b[38;5;124m\"\u001b[39m\u001b[38;5;124mfashionmnist\u001b[39m\u001b[38;5;124m\"\u001b[39m:\n\u001b[1;32m    172\u001b[0m     \u001b[38;5;66;03m# Retrieve conditional log likelihood\u001b[39;00m\n\u001b[1;32m    173\u001b[0m     df \u001b[38;5;241m=\u001b[39m generate_table(\n\u001b[1;32m    174\u001b[0m         device\u001b[38;5;241m=\u001b[39mdevice,\n\u001b[1;32m    175\u001b[0m         num_quadrant_inputs\u001b[38;5;241m=\u001b[39mnum_quadrant_inputs,\n\u001b[0;32m   (...)\u001b[0m\n\u001b[1;32m    180\u001b[0m         dataset\u001b[38;5;241m=\u001b[39m\u001b[38;5;124m\"\u001b[39m\u001b[38;5;124mfashionmnist\u001b[39m\u001b[38;5;124m\"\u001b[39m,\n\u001b[1;32m    181\u001b[0m     )\n",
      "File \u001b[0;32m~/lectures/194.150-2024W/CVAE/Probabilistic-Programming-and-AI/./CVAE/util.py:288\u001b[0m, in \u001b[0;36mgenerate_table_CIFAR10\u001b[0;34m(device, num_quadrant_inputs, pre_trained_baseline, pre_trained_cvae, num_particles, col_name, dataset_name)\u001b[0m\n\u001b[1;32m    285\u001b[0m     baseline_cll \u001b[38;5;241m+\u001b[39m\u001b[38;5;241m=\u001b[39m criterion(preds, outputs)\u001b[38;5;241m.\u001b[39mitem() \u001b[38;5;241m/\u001b[39m inputs\u001b[38;5;241m.\u001b[39msize(\u001b[38;5;241m0\u001b[39m)\n\u001b[1;32m    287\u001b[0m     \u001b[38;5;66;03m# Compute the negative conditional log-likelihood for the CVAE\u001b[39;00m\n\u001b[0;32m--> 288\u001b[0m     cvae_mc_cll \u001b[38;5;241m+\u001b[39m\u001b[38;5;241m=\u001b[39m \u001b[43mloss_fn\u001b[49m\u001b[43m(\u001b[49m\n\u001b[1;32m    289\u001b[0m \u001b[43m        \u001b[49m\u001b[43mpre_trained_cvae\u001b[49m\u001b[38;5;241;43m.\u001b[39;49m\u001b[43mmodel\u001b[49m\u001b[43m,\u001b[49m\u001b[43m \u001b[49m\u001b[43mpre_trained_cvae\u001b[49m\u001b[38;5;241;43m.\u001b[39;49m\u001b[43mguide\u001b[49m\u001b[43m,\u001b[49m\u001b[43m \u001b[49m\u001b[43minputs\u001b[49m\u001b[43m,\u001b[49m\u001b[43m \u001b[49m\u001b[43moutputs\u001b[49m\n\u001b[1;32m    290\u001b[0m \u001b[43m    \u001b[49m\u001b[43m)\u001b[49m\u001b[38;5;241m.\u001b[39mdetach()\u001b[38;5;241m.\u001b[39mitem() \u001b[38;5;241m/\u001b[39m inputs\u001b[38;5;241m.\u001b[39msize(\u001b[38;5;241m0\u001b[39m)\n\u001b[1;32m    292\u001b[0m \u001b[38;5;66;03m# Calculate average losses\u001b[39;00m\n\u001b[1;32m    293\u001b[0m df\u001b[38;5;241m.\u001b[39miloc[\u001b[38;5;241m0\u001b[39m, \u001b[38;5;241m0\u001b[39m] \u001b[38;5;241m=\u001b[39m baseline_cll \u001b[38;5;241m/\u001b[39m num_preds\n",
      "File \u001b[0;32m/opt/conda/lib/python3.11/site-packages/pyro/infer/trace_elbo.py:122\u001b[0m, in \u001b[0;36mTrace_ELBO.differentiable_loss\u001b[0;34m(self, model, guide, *args, **kwargs)\u001b[0m\n\u001b[1;32m    120\u001b[0m surrogate_loss \u001b[38;5;241m=\u001b[39m \u001b[38;5;241m0.0\u001b[39m\n\u001b[1;32m    121\u001b[0m \u001b[38;5;28;01mfor\u001b[39;00m model_trace, guide_trace \u001b[38;5;129;01min\u001b[39;00m \u001b[38;5;28mself\u001b[39m\u001b[38;5;241m.\u001b[39m_get_traces(model, guide, args, kwargs):\n\u001b[0;32m--> 122\u001b[0m     loss_particle, surrogate_loss_particle \u001b[38;5;241m=\u001b[39m \u001b[38;5;28;43mself\u001b[39;49m\u001b[38;5;241;43m.\u001b[39;49m\u001b[43m_differentiable_loss_particle\u001b[49m\u001b[43m(\u001b[49m\n\u001b[1;32m    123\u001b[0m \u001b[43m        \u001b[49m\u001b[43mmodel_trace\u001b[49m\u001b[43m,\u001b[49m\u001b[43m \u001b[49m\u001b[43mguide_trace\u001b[49m\n\u001b[1;32m    124\u001b[0m \u001b[43m    \u001b[49m\u001b[43m)\u001b[49m\n\u001b[1;32m    125\u001b[0m     surrogate_loss \u001b[38;5;241m+\u001b[39m\u001b[38;5;241m=\u001b[39m surrogate_loss_particle \u001b[38;5;241m/\u001b[39m \u001b[38;5;28mself\u001b[39m\u001b[38;5;241m.\u001b[39mnum_particles\n\u001b[1;32m    126\u001b[0m     loss \u001b[38;5;241m+\u001b[39m\u001b[38;5;241m=\u001b[39m loss_particle \u001b[38;5;241m/\u001b[39m \u001b[38;5;28mself\u001b[39m\u001b[38;5;241m.\u001b[39mnum_particles\n",
      "File \u001b[0;32m/opt/conda/lib/python3.11/site-packages/pyro/infer/trace_elbo.py:97\u001b[0m, in \u001b[0;36mTrace_ELBO._differentiable_loss_particle\u001b[0;34m(self, model_trace, guide_trace)\u001b[0m\n\u001b[1;32m     94\u001b[0m \u001b[38;5;28;01mif\u001b[39;00m site[\u001b[38;5;124m\"\u001b[39m\u001b[38;5;124mtype\u001b[39m\u001b[38;5;124m\"\u001b[39m] \u001b[38;5;241m==\u001b[39m \u001b[38;5;124m\"\u001b[39m\u001b[38;5;124msample\u001b[39m\u001b[38;5;124m\"\u001b[39m:\n\u001b[1;32m     95\u001b[0m     log_prob, score_function_term, entropy_term \u001b[38;5;241m=\u001b[39m site[\u001b[38;5;124m\"\u001b[39m\u001b[38;5;124mscore_parts\u001b[39m\u001b[38;5;124m\"\u001b[39m]\n\u001b[0;32m---> 97\u001b[0m     elbo_particle \u001b[38;5;241m=\u001b[39m elbo_particle \u001b[38;5;241m-\u001b[39m \u001b[43mtorch_item\u001b[49m\u001b[43m(\u001b[49m\u001b[43msite\u001b[49m\u001b[43m[\u001b[49m\u001b[38;5;124;43m\"\u001b[39;49m\u001b[38;5;124;43mlog_prob_sum\u001b[39;49m\u001b[38;5;124;43m\"\u001b[39;49m\u001b[43m]\u001b[49m\u001b[43m)\u001b[49m\n\u001b[1;32m     99\u001b[0m     \u001b[38;5;28;01mif\u001b[39;00m \u001b[38;5;129;01mnot\u001b[39;00m is_identically_zero(entropy_term):\n\u001b[1;32m    100\u001b[0m         surrogate_elbo_particle \u001b[38;5;241m=\u001b[39m (\n\u001b[1;32m    101\u001b[0m             surrogate_elbo_particle \u001b[38;5;241m-\u001b[39m entropy_term\u001b[38;5;241m.\u001b[39msum()\n\u001b[1;32m    102\u001b[0m         )\n",
      "File \u001b[0;32m/opt/conda/lib/python3.11/site-packages/pyro/infer/util.py:52\u001b[0m, in \u001b[0;36mtorch_item\u001b[0;34m(x)\u001b[0m\n\u001b[1;32m     48\u001b[0m \u001b[38;5;28;01mdef\u001b[39;00m \u001b[38;5;21mtorch_item\u001b[39m(x):\n\u001b[1;32m     49\u001b[0m \u001b[38;5;250m    \u001b[39m\u001b[38;5;124;03m\"\"\"\u001b[39;00m\n\u001b[1;32m     50\u001b[0m \u001b[38;5;124;03m    Like ``x.item()`` for a :class:`~torch.Tensor`, but also works with numbers.\u001b[39;00m\n\u001b[1;32m     51\u001b[0m \u001b[38;5;124;03m    \"\"\"\u001b[39;00m\n\u001b[0;32m---> 52\u001b[0m     \u001b[38;5;28;01mreturn\u001b[39;00m x \u001b[38;5;28;01mif\u001b[39;00m \u001b[38;5;28misinstance\u001b[39m(x, numbers\u001b[38;5;241m.\u001b[39mNumber) \u001b[38;5;28;01melse\u001b[39;00m \u001b[43mx\u001b[49m\u001b[38;5;241;43m.\u001b[39;49m\u001b[43mitem\u001b[49m\u001b[43m(\u001b[49m\u001b[43m)\u001b[49m\n",
      "\u001b[0;31mKeyboardInterrupt\u001b[0m: "
     ]
    },
    {
     "data": {
      "text/plain": [
       "<Figure size 640x480 with 0 Axes>"
      ]
     },
     "metadata": {},
     "output_type": "display_data"
    }
   ],
   "source": [
    "args = argparse.Namespace(\n",
    "    num_quadrant_inputs=[1, 2, 3],\n",
    "    num_epochs=101,\n",
    "    early_stop_patience=3,\n",
    "    learning_rate=1.0e-3,\n",
    "    cuda=True,\n",
    "    num_images=10,\n",
    "    num_samples=10,\n",
    "    num_particles=10,\n",
    "    dataset=\"cifar10\",\n",
    "    random_mask=True,\n",
    "    z_dim=200,\n",
    "    hidden_1=500,\n",
    "    hidden_2=500,\n",
    "    allow_baseline_reuse=False,\n",
    "    use_conv=False\n",
    ")\n",
    "\n",
    "main(args)"
   ]
  },
  {
   "cell_type": "code",
   "execution_count": null,
   "id": "df85be2d-4c33-4bd3-98ad-4d52f2c90efd",
   "metadata": {
    "editable": true,
    "slideshow": {
     "slide_type": ""
    },
    "tags": []
   },
   "outputs": [],
   "source": [
    "import cvae\n",
    "import baseline\n",
    "\n",
    "print(\"Baseline train:\", hasattr(baseline, \"train\"))\n",
    "print(\"CVAE train:\", hasattr(cvae, \"train\"))"
   ]
  },
  {
   "cell_type": "code",
   "execution_count": 8,
   "id": "4e344d48-f690-404d-811b-dedccd07374e",
   "metadata": {},
   "outputs": [
    {
     "name": "stdout",
     "output_type": "stream",
     "text": [
      "/home/e12333452/probai/./CVAE/cvae.py\n"
     ]
    }
   ],
   "source": [
    "import cvae\n",
    "print(cvae.__file__)"
   ]
  },
  {
   "cell_type": "code",
   "execution_count": null,
   "id": "f126b382-ca61-4fec-bf95-3e02ea882deb",
   "metadata": {},
   "outputs": [],
   "source": []
  }
 ],
 "metadata": {
  "kernelspec": {
   "display_name": "Python 3 (ipykernel)",
   "language": "python",
   "name": "python3"
  },
  "language_info": {
   "codemirror_mode": {
    "name": "ipython",
    "version": 3
   },
   "file_extension": ".py",
   "mimetype": "text/x-python",
   "name": "python",
   "nbconvert_exporter": "python",
   "pygments_lexer": "ipython3",
   "version": "3.11.10"
  }
 },
 "nbformat": 4,
 "nbformat_minor": 5
}
