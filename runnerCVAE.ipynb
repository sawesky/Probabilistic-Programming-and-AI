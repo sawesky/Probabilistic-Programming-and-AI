{
 "cells": [
  {
   "cell_type": "code",
   "execution_count": 1,
   "id": "c13b282a-d821-4307-9e9f-679f0079b2f1",
   "metadata": {
    "editable": true,
    "slideshow": {
     "slide_type": ""
    },
    "tags": []
   },
   "outputs": [],
   "source": [
    "import sys\n",
    "sys.path.append(\"./CVAE\")"
   ]
  },
  {
   "cell_type": "code",
   "execution_count": 2,
   "id": "6b6feea9-bc48-4b0f-9241-c5676fe69398",
   "metadata": {
    "editable": true,
    "slideshow": {
     "slide_type": ""
    },
    "tags": []
   },
   "outputs": [],
   "source": [
    "from main import main\n",
    "import argparse"
   ]
  },
  {
   "cell_type": "code",
   "execution_count": 3,
   "id": "f80c4eec-449d-4743-bac5-8d179d13d5c6",
   "metadata": {
    "editable": true,
    "slideshow": {
     "slide_type": ""
    },
    "tags": []
   },
   "outputs": [
    {
     "name": "stdout",
     "output_type": "stream",
     "text": [
      "Training with 1 quadrant as input...\n",
      "Files already downloaded and verified\n",
      "Files already downloaded and verified\n"
     ]
    },
    {
     "name": "stderr",
     "output_type": "stream",
     "text": [
      "NN Epoch 0 train    : 100%|██████████| 391/391 [00:12<00:00, 30.98it/s, early_stop_count=0, loss=1527.83]\n",
      "NN Epoch 0 val      : 100%|██████████| 79/79 [00:01<00:00, 43.27it/s, early_stop_count=0, loss=1509.95]\n",
      "NN Epoch 1 train    : 100%|██████████| 391/391 [00:10<00:00, 37.12it/s, early_stop_count=0, loss=1507.47]\n",
      "NN Epoch 1 val      : 100%|██████████| 79/79 [00:01<00:00, 43.02it/s, early_stop_count=0, loss=1504.38]\n",
      "NN Epoch 2 train    : 100%|██████████| 391/391 [00:10<00:00, 38.66it/s, early_stop_count=0, loss=1504.92]\n",
      "NN Epoch 2 val      : 100%|██████████| 79/79 [00:01<00:00, 45.72it/s, early_stop_count=0, loss=1509.79]\n",
      "NN Epoch 3 train    : 100%|██████████| 391/391 [00:09<00:00, 39.40it/s, early_stop_count=1, loss=1502.15]\n",
      "NN Epoch 3 val      : 100%|██████████| 79/79 [00:01<00:00, 46.37it/s, early_stop_count=1, loss=1500.30]\n",
      "NN Epoch 4 train    : 100%|██████████| 391/391 [00:10<00:00, 36.98it/s, early_stop_count=0, loss=1499.90]\n",
      "NN Epoch 4 val      : 100%|██████████| 79/79 [00:01<00:00, 46.24it/s, early_stop_count=0, loss=1496.02]\n",
      "NN Epoch 5 train    : 100%|██████████| 391/391 [00:09<00:00, 39.75it/s, early_stop_count=0, loss=1497.73]\n",
      "NN Epoch 5 val      : 100%|██████████| 79/79 [00:01<00:00, 48.77it/s, early_stop_count=0, loss=1497.24]\n",
      "NN Epoch 6 train    : 100%|██████████| 391/391 [00:09<00:00, 39.47it/s, early_stop_count=1, loss=1497.12]\n",
      "NN Epoch 6 val      : 100%|██████████| 79/79 [00:01<00:00, 45.26it/s, early_stop_count=1, loss=1499.82]\n",
      "NN Epoch 7 train    : 100%|██████████| 391/391 [00:09<00:00, 39.22it/s, early_stop_count=2, loss=1496.58]\n",
      "NN Epoch 7 val      : 100%|██████████| 79/79 [00:01<00:00, 46.08it/s, early_stop_count=2, loss=1496.45]\n",
      "CVAE Epoch 0 train  : 100%|██████████| 391/391 [00:14<00:00, 26.85it/s, early_stop_count=0, loss=1489.10]\n",
      "CVAE Epoch 0 val    : 100%|██████████| 79/79 [00:02<00:00, 35.91it/s, early_stop_count=0, loss=1471.18]\n",
      "CVAE Epoch 1 train  : 100%|██████████| 391/391 [00:14<00:00, 27.66it/s, early_stop_count=0, loss=1451.97]\n",
      "CVAE Epoch 1 val    : 100%|██████████| 79/79 [00:02<00:00, 38.43it/s, early_stop_count=0, loss=1445.80]\n",
      "CVAE Epoch 2 train  : 100%|██████████| 391/391 [00:14<00:00, 27.02it/s, early_stop_count=0, loss=1434.70]\n",
      "CVAE Epoch 2 val    : 100%|██████████| 79/79 [00:02<00:00, 35.93it/s, early_stop_count=0, loss=1434.06]\n",
      "CVAE Epoch 3 train  : 100%|██████████| 391/391 [00:14<00:00, 26.91it/s, early_stop_count=0, loss=1421.73]\n",
      "CVAE Epoch 3 val    : 100%|██████████| 79/79 [00:02<00:00, 36.36it/s, early_stop_count=0, loss=1415.45]\n",
      "CVAE Epoch 4 train  : 100%|██████████| 391/391 [00:14<00:00, 27.04it/s, early_stop_count=0, loss=1412.15]\n",
      "CVAE Epoch 4 val    : 100%|██████████| 79/79 [00:02<00:00, 36.70it/s, early_stop_count=0, loss=1412.78]\n",
      "CVAE Epoch 5 train  : 100%|██████████| 391/391 [00:14<00:00, 26.30it/s, early_stop_count=0, loss=1408.05]\n",
      "CVAE Epoch 5 val    : 100%|██████████| 79/79 [00:02<00:00, 36.64it/s, early_stop_count=0, loss=1407.74]\n",
      "CVAE Epoch 6 train  : 100%|██████████| 391/391 [00:14<00:00, 26.11it/s, early_stop_count=0, loss=1403.65]\n",
      "CVAE Epoch 6 val    : 100%|██████████| 79/79 [00:02<00:00, 35.90it/s, early_stop_count=0, loss=1403.05]\n",
      "CVAE Epoch 7 train  : 100%|██████████| 391/391 [00:14<00:00, 26.40it/s, early_stop_count=0, loss=1399.45]\n",
      "CVAE Epoch 7 val    : 100%|██████████| 79/79 [00:02<00:00, 36.40it/s, early_stop_count=0, loss=1399.44]\n",
      "CVAE Epoch 8 train  : 100%|██████████| 391/391 [00:14<00:00, 27.12it/s, early_stop_count=0, loss=1395.68]\n",
      "CVAE Epoch 8 val    : 100%|██████████| 79/79 [00:02<00:00, 37.18it/s, early_stop_count=0, loss=1396.28]\n",
      "CVAE Epoch 9 train  : 100%|██████████| 391/391 [00:14<00:00, 27.22it/s, early_stop_count=0, loss=1392.57]\n",
      "CVAE Epoch 9 val    : 100%|██████████| 79/79 [00:02<00:00, 36.28it/s, early_stop_count=0, loss=1393.13]\n",
      "CVAE Epoch 10 train : 100%|██████████| 391/391 [00:15<00:00, 25.56it/s, early_stop_count=0, loss=1390.47]\n",
      "CVAE Epoch 10 val   : 100%|██████████| 79/79 [00:02<00:00, 34.88it/s, early_stop_count=0, loss=1393.48]\n",
      "CVAE Epoch 11 train : 100%|██████████| 391/391 [00:15<00:00, 25.31it/s, early_stop_count=1, loss=1388.59]\n",
      "CVAE Epoch 11 val   : 100%|██████████| 79/79 [00:02<00:00, 39.02it/s, early_stop_count=1, loss=1390.51]\n",
      "CVAE Epoch 12 train : 100%|██████████| 391/391 [00:13<00:00, 29.81it/s, early_stop_count=0, loss=1387.88]\n",
      "CVAE Epoch 12 val   : 100%|██████████| 79/79 [00:01<00:00, 40.66it/s, early_stop_count=0, loss=1390.04]\n",
      "CVAE Epoch 13 train : 100%|██████████| 391/391 [00:13<00:00, 29.56it/s, early_stop_count=0, loss=1387.03]\n",
      "CVAE Epoch 13 val   : 100%|██████████| 79/79 [00:01<00:00, 41.64it/s, early_stop_count=0, loss=1389.59]\n",
      "CVAE Epoch 14 train : 100%|██████████| 391/391 [00:12<00:00, 30.64it/s, early_stop_count=0, loss=1384.95]\n",
      "CVAE Epoch 14 val   : 100%|██████████| 79/79 [00:01<00:00, 41.05it/s, early_stop_count=0, loss=1386.93]\n",
      "CVAE Epoch 15 train : 100%|██████████| 391/391 [00:12<00:00, 30.88it/s, early_stop_count=0, loss=1384.33]\n",
      "CVAE Epoch 15 val   : 100%|██████████| 79/79 [00:01<00:00, 39.88it/s, early_stop_count=0, loss=1388.16]\n",
      "CVAE Epoch 16 train : 100%|██████████| 391/391 [00:12<00:00, 30.75it/s, early_stop_count=1, loss=1383.90]\n",
      "CVAE Epoch 16 val   : 100%|██████████| 79/79 [00:01<00:00, 40.96it/s, early_stop_count=1, loss=1387.83]\n",
      "CVAE Epoch 17 train : 100%|██████████| 391/391 [00:13<00:00, 29.91it/s, early_stop_count=2, loss=1382.94]\n",
      "CVAE Epoch 17 val   : 100%|██████████| 79/79 [00:01<00:00, 40.63it/s, early_stop_count=2, loss=1385.85]\n",
      "CVAE Epoch 18 train : 100%|██████████| 391/391 [00:13<00:00, 29.65it/s, early_stop_count=0, loss=1382.02]\n",
      "CVAE Epoch 18 val   : 100%|██████████| 79/79 [00:01<00:00, 40.05it/s, early_stop_count=0, loss=1384.46]\n",
      "CVAE Epoch 19 train : 100%|██████████| 391/391 [00:13<00:00, 28.96it/s, early_stop_count=0, loss=1381.41]\n",
      "CVAE Epoch 19 val   : 100%|██████████| 79/79 [00:01<00:00, 40.05it/s, early_stop_count=0, loss=1385.02]\n",
      "CVAE Epoch 20 train : 100%|██████████| 391/391 [00:13<00:00, 28.94it/s, early_stop_count=1, loss=1381.00]\n",
      "CVAE Epoch 20 val   : 100%|██████████| 79/79 [00:01<00:00, 39.69it/s, early_stop_count=1, loss=1384.52]\n",
      "CVAE Epoch 21 train : 100%|██████████| 391/391 [00:13<00:00, 29.17it/s, early_stop_count=2, loss=1380.40]\n",
      "CVAE Epoch 21 val   : 100%|██████████| 79/79 [00:01<00:00, 39.88it/s, early_stop_count=2, loss=1383.58]\n",
      "CVAE Epoch 22 train : 100%|██████████| 391/391 [00:13<00:00, 29.31it/s, early_stop_count=0, loss=1380.05]\n",
      "CVAE Epoch 22 val   : 100%|██████████| 79/79 [00:01<00:00, 40.32it/s, early_stop_count=0, loss=1383.80]\n",
      "CVAE Epoch 23 train : 100%|██████████| 391/391 [00:13<00:00, 29.16it/s, early_stop_count=1, loss=1379.22]\n",
      "CVAE Epoch 23 val   : 100%|██████████| 79/79 [00:01<00:00, 40.34it/s, early_stop_count=1, loss=1382.60]\n",
      "CVAE Epoch 24 train : 100%|██████████| 391/391 [00:13<00:00, 29.34it/s, early_stop_count=0, loss=1378.38]\n",
      "CVAE Epoch 24 val   : 100%|██████████| 79/79 [00:01<00:00, 40.27it/s, early_stop_count=0, loss=1381.19]\n",
      "CVAE Epoch 25 train : 100%|██████████| 391/391 [00:13<00:00, 29.75it/s, early_stop_count=0, loss=1377.48]\n",
      "CVAE Epoch 25 val   : 100%|██████████| 79/79 [00:01<00:00, 40.23it/s, early_stop_count=0, loss=1380.65]\n",
      "CVAE Epoch 26 train : 100%|██████████| 391/391 [00:13<00:00, 29.32it/s, early_stop_count=0, loss=1376.44]\n",
      "CVAE Epoch 26 val   : 100%|██████████| 79/79 [00:01<00:00, 40.52it/s, early_stop_count=0, loss=1379.60]\n",
      "CVAE Epoch 27 train : 100%|██████████| 391/391 [00:13<00:00, 29.86it/s, early_stop_count=0, loss=1376.15]\n",
      "CVAE Epoch 27 val   : 100%|██████████| 79/79 [00:01<00:00, 40.04it/s, early_stop_count=0, loss=1380.23]\n",
      "CVAE Epoch 28 train : 100%|██████████| 391/391 [00:13<00:00, 29.64it/s, early_stop_count=1, loss=1375.49]\n",
      "CVAE Epoch 28 val   : 100%|██████████| 79/79 [00:01<00:00, 41.57it/s, early_stop_count=1, loss=1380.36]\n",
      "CVAE Epoch 29 train : 100%|██████████| 391/391 [00:13<00:00, 29.40it/s, early_stop_count=2, loss=1374.85]\n",
      "CVAE Epoch 29 val   : 100%|██████████| 79/79 [00:01<00:00, 41.22it/s, early_stop_count=2, loss=1377.15]\n",
      "CVAE Epoch 30 train : 100%|██████████| 391/391 [00:13<00:00, 29.78it/s, early_stop_count=0, loss=1374.07]\n",
      "CVAE Epoch 30 val   : 100%|██████████| 79/79 [00:01<00:00, 40.49it/s, early_stop_count=0, loss=1378.19]\n",
      "CVAE Epoch 31 train : 100%|██████████| 391/391 [00:13<00:00, 29.70it/s, early_stop_count=1, loss=1373.77]\n",
      "CVAE Epoch 31 val   : 100%|██████████| 79/79 [00:01<00:00, 41.28it/s, early_stop_count=1, loss=1377.01]\n",
      "CVAE Epoch 32 train : 100%|██████████| 391/391 [00:12<00:00, 30.49it/s, early_stop_count=0, loss=1373.41]\n",
      "CVAE Epoch 32 val   : 100%|██████████| 79/79 [00:01<00:00, 41.65it/s, early_stop_count=0, loss=1377.41]\n",
      "CVAE Epoch 33 train : 100%|██████████| 391/391 [00:12<00:00, 30.30it/s, early_stop_count=1, loss=1373.20]\n",
      "CVAE Epoch 33 val   : 100%|██████████| 79/79 [00:01<00:00, 41.33it/s, early_stop_count=1, loss=1375.88]\n",
      "CVAE Epoch 34 train : 100%|██████████| 391/391 [00:12<00:00, 30.59it/s, early_stop_count=0, loss=1372.83]\n",
      "CVAE Epoch 34 val   : 100%|██████████| 79/79 [00:01<00:00, 41.42it/s, early_stop_count=0, loss=1375.46]\n",
      "CVAE Epoch 35 train : 100%|██████████| 391/391 [00:13<00:00, 29.43it/s, early_stop_count=0, loss=1372.63]\n",
      "CVAE Epoch 35 val   : 100%|██████████| 79/79 [00:01<00:00, 40.03it/s, early_stop_count=0, loss=1376.21]\n",
      "CVAE Epoch 36 train : 100%|██████████| 391/391 [00:13<00:00, 28.90it/s, early_stop_count=1, loss=1372.27]\n",
      "CVAE Epoch 36 val   : 100%|██████████| 79/79 [00:01<00:00, 42.20it/s, early_stop_count=1, loss=1378.18]\n",
      "CVAE Epoch 37 train : 100%|██████████| 391/391 [00:12<00:00, 30.16it/s, early_stop_count=2, loss=1372.09]\n",
      "CVAE Epoch 37 val   : 100%|██████████| 79/79 [00:01<00:00, 41.63it/s, early_stop_count=2, loss=1377.21]\n"
     ]
    },
    {
     "name": "stdout",
     "output_type": "stream",
     "text": [
      "Files already downloaded and verified\n",
      "Files already downloaded and verified\n"
     ]
    },
    {
     "name": "stderr",
     "output_type": "stream",
     "text": [
      "Clipping input data to the valid range for imshow with RGB data ([0..1] for floats or [0..255] for integers).\n"
     ]
    },
    {
     "name": "stdout",
     "output_type": "stream",
     "text": [
      "Files already downloaded and verified\n",
      "Files already downloaded and verified\n"
     ]
    },
    {
     "name": "stderr",
     "output_type": "stream",
     "text": [
      "Generating predictions: 100%|██████████| 313/313 [00:14<00:00, 22.20it/s]\n"
     ]
    },
    {
     "name": "stdout",
     "output_type": "stream",
     "text": [
      "Training with 2 quadrants as input...\n",
      "Files already downloaded and verified\n",
      "Files already downloaded and verified\n"
     ]
    },
    {
     "name": "stderr",
     "output_type": "stream",
     "text": [
      "NN Epoch 0 train    : 100%|██████████| 391/391 [00:09<00:00, 40.79it/s, early_stop_count=0, loss=984.89] \n",
      "NN Epoch 0 val      : 100%|██████████| 79/79 [00:01<00:00, 48.32it/s, early_stop_count=0, loss=975.64]\n",
      "NN Epoch 1 train    : 100%|██████████| 391/391 [00:09<00:00, 40.28it/s, early_stop_count=0, loss=970.79]\n",
      "NN Epoch 1 val      : 100%|██████████| 79/79 [00:01<00:00, 44.62it/s, early_stop_count=0, loss=968.57]\n",
      "NN Epoch 2 train    : 100%|██████████| 391/391 [00:10<00:00, 38.86it/s, early_stop_count=0, loss=967.60]\n",
      "NN Epoch 2 val      : 100%|██████████| 79/79 [00:01<00:00, 44.03it/s, early_stop_count=0, loss=967.04]\n",
      "NN Epoch 3 train    : 100%|██████████| 391/391 [00:09<00:00, 39.75it/s, early_stop_count=0, loss=965.20]\n",
      "NN Epoch 3 val      : 100%|██████████| 79/79 [00:01<00:00, 45.59it/s, early_stop_count=0, loss=965.54]\n",
      "NN Epoch 4 train    : 100%|██████████| 391/391 [00:09<00:00, 40.24it/s, early_stop_count=0, loss=964.16]\n",
      "NN Epoch 4 val      : 100%|██████████| 79/79 [00:01<00:00, 47.05it/s, early_stop_count=0, loss=965.21]\n",
      "NN Epoch 5 train    : 100%|██████████| 391/391 [00:09<00:00, 39.70it/s, early_stop_count=0, loss=963.49]\n",
      "NN Epoch 5 val      : 100%|██████████| 79/79 [00:01<00:00, 46.14it/s, early_stop_count=0, loss=964.53]\n",
      "NN Epoch 6 train    : 100%|██████████| 391/391 [00:09<00:00, 39.71it/s, early_stop_count=0, loss=962.38]\n",
      "NN Epoch 6 val      : 100%|██████████| 79/79 [00:01<00:00, 42.70it/s, early_stop_count=0, loss=963.39]\n",
      "NN Epoch 7 train    : 100%|██████████| 391/391 [00:09<00:00, 39.33it/s, early_stop_count=0, loss=961.85]\n",
      "NN Epoch 7 val      : 100%|██████████| 79/79 [00:01<00:00, 45.29it/s, early_stop_count=0, loss=966.65]\n",
      "NN Epoch 8 train    : 100%|██████████| 391/391 [00:09<00:00, 39.60it/s, early_stop_count=1, loss=961.77]\n",
      "NN Epoch 8 val      : 100%|██████████| 79/79 [00:01<00:00, 46.01it/s, early_stop_count=1, loss=962.14]\n",
      "NN Epoch 9 train    : 100%|██████████| 391/391 [00:09<00:00, 39.71it/s, early_stop_count=0, loss=961.04]\n",
      "NN Epoch 9 val      : 100%|██████████| 79/79 [00:01<00:00, 45.59it/s, early_stop_count=0, loss=963.33]\n",
      "NN Epoch 10 train   : 100%|██████████| 391/391 [00:09<00:00, 39.73it/s, early_stop_count=1, loss=960.61]\n",
      "NN Epoch 10 val     : 100%|██████████| 79/79 [00:01<00:00, 46.04it/s, early_stop_count=1, loss=964.09]\n",
      "NN Epoch 11 train   : 100%|██████████| 391/391 [00:09<00:00, 40.59it/s, early_stop_count=2, loss=960.38]\n",
      "NN Epoch 11 val     : 100%|██████████| 79/79 [00:01<00:00, 46.62it/s, early_stop_count=2, loss=961.86]\n",
      "NN Epoch 12 train   : 100%|██████████| 391/391 [00:09<00:00, 39.84it/s, early_stop_count=0, loss=959.93]\n",
      "NN Epoch 12 val     : 100%|██████████| 79/79 [00:01<00:00, 45.57it/s, early_stop_count=0, loss=962.13]\n",
      "NN Epoch 13 train   : 100%|██████████| 391/391 [00:09<00:00, 39.78it/s, early_stop_count=1, loss=959.64]\n",
      "NN Epoch 13 val     : 100%|██████████| 79/79 [00:01<00:00, 45.34it/s, early_stop_count=1, loss=960.82]\n",
      "NN Epoch 14 train   : 100%|██████████| 391/391 [00:10<00:00, 39.07it/s, early_stop_count=0, loss=959.43]\n",
      "NN Epoch 14 val     : 100%|██████████| 79/79 [00:01<00:00, 47.29it/s, early_stop_count=0, loss=961.21]\n",
      "NN Epoch 15 train   : 100%|██████████| 391/391 [00:09<00:00, 40.06it/s, early_stop_count=1, loss=959.03]\n",
      "NN Epoch 15 val     : 100%|██████████| 79/79 [00:01<00:00, 45.51it/s, early_stop_count=1, loss=962.75]\n",
      "NN Epoch 16 train   : 100%|██████████| 391/391 [00:09<00:00, 39.54it/s, early_stop_count=2, loss=959.19]\n",
      "NN Epoch 16 val     : 100%|██████████| 79/79 [00:01<00:00, 45.95it/s, early_stop_count=2, loss=963.18]\n",
      "CVAE Epoch 0 train  : 100%|██████████| 391/391 [00:13<00:00, 28.80it/s, early_stop_count=0, loss=993.54] \n",
      "CVAE Epoch 0 val    : 100%|██████████| 79/79 [00:01<00:00, 39.61it/s, early_stop_count=0, loss=979.65]\n",
      "CVAE Epoch 1 train  : 100%|██████████| 391/391 [00:13<00:00, 28.51it/s, early_stop_count=0, loss=970.12]\n",
      "CVAE Epoch 1 val    : 100%|██████████| 79/79 [00:02<00:00, 38.63it/s, early_stop_count=0, loss=964.31]\n",
      "CVAE Epoch 2 train  : 100%|██████████| 391/391 [00:13<00:00, 28.76it/s, early_stop_count=0, loss=962.58]\n",
      "CVAE Epoch 2 val    : 100%|██████████| 79/79 [00:01<00:00, 39.51it/s, early_stop_count=0, loss=960.34]\n",
      "CVAE Epoch 3 train  : 100%|██████████| 391/391 [00:13<00:00, 29.14it/s, early_stop_count=0, loss=957.21]\n",
      "CVAE Epoch 3 val    : 100%|██████████| 79/79 [00:02<00:00, 38.63it/s, early_stop_count=0, loss=958.24]\n",
      "CVAE Epoch 4 train  : 100%|██████████| 391/391 [00:13<00:00, 28.45it/s, early_stop_count=0, loss=952.86]\n",
      "CVAE Epoch 4 val    : 100%|██████████| 79/79 [00:01<00:00, 39.56it/s, early_stop_count=0, loss=948.92]\n",
      "CVAE Epoch 5 train  : 100%|██████████| 391/391 [00:13<00:00, 29.30it/s, early_stop_count=0, loss=945.91]\n",
      "CVAE Epoch 5 val    : 100%|██████████| 79/79 [00:02<00:00, 38.68it/s, early_stop_count=0, loss=946.60]\n",
      "CVAE Epoch 6 train  : 100%|██████████| 391/391 [00:13<00:00, 28.55it/s, early_stop_count=0, loss=943.68]\n",
      "CVAE Epoch 6 val    : 100%|██████████| 79/79 [00:02<00:00, 39.13it/s, early_stop_count=0, loss=943.61]\n",
      "CVAE Epoch 7 train  : 100%|██████████| 391/391 [00:13<00:00, 28.96it/s, early_stop_count=0, loss=938.98]\n",
      "CVAE Epoch 7 val    : 100%|██████████| 79/79 [00:02<00:00, 39.46it/s, early_stop_count=0, loss=937.57]\n",
      "CVAE Epoch 8 train  : 100%|██████████| 391/391 [00:13<00:00, 29.20it/s, early_stop_count=0, loss=934.23]\n",
      "CVAE Epoch 8 val    : 100%|██████████| 79/79 [00:01<00:00, 39.99it/s, early_stop_count=0, loss=934.27]\n",
      "CVAE Epoch 9 train  : 100%|██████████| 391/391 [00:13<00:00, 28.57it/s, early_stop_count=0, loss=931.01]\n",
      "CVAE Epoch 9 val    : 100%|██████████| 79/79 [00:02<00:00, 39.23it/s, early_stop_count=0, loss=931.61]\n",
      "CVAE Epoch 10 train : 100%|██████████| 391/391 [00:13<00:00, 28.31it/s, early_stop_count=0, loss=929.05]\n",
      "CVAE Epoch 10 val   : 100%|██████████| 79/79 [00:02<00:00, 38.87it/s, early_stop_count=0, loss=929.42]\n",
      "CVAE Epoch 11 train : 100%|██████████| 391/391 [00:13<00:00, 28.60it/s, early_stop_count=0, loss=927.38]\n",
      "CVAE Epoch 11 val   : 100%|██████████| 79/79 [00:01<00:00, 40.14it/s, early_stop_count=0, loss=929.41]\n",
      "CVAE Epoch 12 train : 100%|██████████| 391/391 [00:13<00:00, 28.08it/s, early_stop_count=0, loss=926.84]\n",
      "CVAE Epoch 12 val   : 100%|██████████| 79/79 [00:02<00:00, 39.30it/s, early_stop_count=0, loss=928.11]\n",
      "CVAE Epoch 13 train : 100%|██████████| 391/391 [00:14<00:00, 27.77it/s, early_stop_count=0, loss=926.37]\n",
      "CVAE Epoch 13 val   : 100%|██████████| 79/79 [00:01<00:00, 40.53it/s, early_stop_count=0, loss=927.60]\n",
      "CVAE Epoch 14 train : 100%|██████████| 391/391 [00:13<00:00, 28.84it/s, early_stop_count=0, loss=926.16]\n",
      "CVAE Epoch 14 val   : 100%|██████████| 79/79 [00:01<00:00, 39.58it/s, early_stop_count=0, loss=927.53]\n",
      "CVAE Epoch 15 train : 100%|██████████| 391/391 [00:13<00:00, 28.40it/s, early_stop_count=0, loss=925.62]\n",
      "CVAE Epoch 15 val   : 100%|██████████| 79/79 [00:01<00:00, 40.55it/s, early_stop_count=0, loss=927.19]\n",
      "CVAE Epoch 16 train : 100%|██████████| 391/391 [00:13<00:00, 28.92it/s, early_stop_count=0, loss=925.30]\n",
      "CVAE Epoch 16 val   : 100%|██████████| 79/79 [00:01<00:00, 40.10it/s, early_stop_count=0, loss=927.02]\n",
      "CVAE Epoch 17 train : 100%|██████████| 391/391 [00:13<00:00, 29.40it/s, early_stop_count=0, loss=925.07]\n",
      "CVAE Epoch 17 val   : 100%|██████████| 79/79 [00:01<00:00, 39.55it/s, early_stop_count=0, loss=929.30]\n",
      "CVAE Epoch 18 train : 100%|██████████| 391/391 [00:13<00:00, 28.58it/s, early_stop_count=1, loss=924.75]\n",
      "CVAE Epoch 18 val   : 100%|██████████| 79/79 [00:02<00:00, 38.72it/s, early_stop_count=1, loss=926.66]\n",
      "CVAE Epoch 19 train : 100%|██████████| 391/391 [00:13<00:00, 29.45it/s, early_stop_count=0, loss=924.42]\n",
      "CVAE Epoch 19 val   : 100%|██████████| 79/79 [00:01<00:00, 39.75it/s, early_stop_count=0, loss=926.10]\n",
      "CVAE Epoch 20 train : 100%|██████████| 391/391 [00:13<00:00, 29.01it/s, early_stop_count=0, loss=924.12]\n",
      "CVAE Epoch 20 val   : 100%|██████████| 79/79 [00:01<00:00, 40.22it/s, early_stop_count=0, loss=926.55]\n",
      "CVAE Epoch 21 train : 100%|██████████| 391/391 [00:13<00:00, 28.74it/s, early_stop_count=1, loss=923.86]\n",
      "CVAE Epoch 21 val   : 100%|██████████| 79/79 [00:01<00:00, 39.73it/s, early_stop_count=1, loss=927.50]\n",
      "CVAE Epoch 22 train : 100%|██████████| 391/391 [00:13<00:00, 29.07it/s, early_stop_count=2, loss=923.51]\n",
      "CVAE Epoch 22 val   : 100%|██████████| 79/79 [00:01<00:00, 39.88it/s, early_stop_count=2, loss=926.83]\n"
     ]
    },
    {
     "name": "stdout",
     "output_type": "stream",
     "text": [
      "Files already downloaded and verified\n",
      "Files already downloaded and verified\n"
     ]
    },
    {
     "name": "stderr",
     "output_type": "stream",
     "text": [
      "Clipping input data to the valid range for imshow with RGB data ([0..1] for floats or [0..255] for integers).\n"
     ]
    },
    {
     "name": "stdout",
     "output_type": "stream",
     "text": [
      "Files already downloaded and verified\n",
      "Files already downloaded and verified\n"
     ]
    },
    {
     "name": "stderr",
     "output_type": "stream",
     "text": [
      "Generating predictions: 100%|██████████| 313/313 [00:13<00:00, 22.49it/s]\n"
     ]
    },
    {
     "name": "stdout",
     "output_type": "stream",
     "text": [
      "Training with 3 quadrants as input...\n",
      "Files already downloaded and verified\n",
      "Files already downloaded and verified\n"
     ]
    },
    {
     "name": "stderr",
     "output_type": "stream",
     "text": [
      "NN Epoch 0 train    : 100%|██████████| 391/391 [00:09<00:00, 41.02it/s, early_stop_count=0, loss=490.72]\n",
      "NN Epoch 0 val      : 100%|██████████| 79/79 [00:01<00:00, 47.48it/s, early_stop_count=0, loss=486.34]\n",
      "NN Epoch 1 train    : 100%|██████████| 391/391 [00:09<00:00, 40.45it/s, early_stop_count=0, loss=483.31]\n",
      "NN Epoch 1 val      : 100%|██████████| 79/79 [00:01<00:00, 46.87it/s, early_stop_count=0, loss=487.76]\n",
      "NN Epoch 2 train    : 100%|██████████| 391/391 [00:09<00:00, 40.95it/s, early_stop_count=1, loss=481.30]\n",
      "NN Epoch 2 val      : 100%|██████████| 79/79 [00:01<00:00, 45.33it/s, early_stop_count=1, loss=483.28]\n",
      "NN Epoch 3 train    : 100%|██████████| 391/391 [00:09<00:00, 40.74it/s, early_stop_count=0, loss=480.87]\n",
      "NN Epoch 3 val      : 100%|██████████| 79/79 [00:01<00:00, 47.08it/s, early_stop_count=0, loss=482.30]\n",
      "NN Epoch 4 train    : 100%|██████████| 391/391 [00:09<00:00, 41.47it/s, early_stop_count=0, loss=479.75]\n",
      "NN Epoch 4 val      : 100%|██████████| 79/79 [00:01<00:00, 45.71it/s, early_stop_count=0, loss=480.38]\n",
      "NN Epoch 5 train    : 100%|██████████| 391/391 [00:09<00:00, 39.99it/s, early_stop_count=0, loss=479.29]\n",
      "NN Epoch 5 val      : 100%|██████████| 79/79 [00:01<00:00, 46.24it/s, early_stop_count=0, loss=480.82]\n",
      "NN Epoch 6 train    : 100%|██████████| 391/391 [00:09<00:00, 41.08it/s, early_stop_count=1, loss=478.94]\n",
      "NN Epoch 6 val      : 100%|██████████| 79/79 [00:01<00:00, 46.66it/s, early_stop_count=1, loss=479.57]\n",
      "NN Epoch 7 train    : 100%|██████████| 391/391 [00:09<00:00, 40.51it/s, early_stop_count=0, loss=478.94]\n",
      "NN Epoch 7 val      : 100%|██████████| 79/79 [00:01<00:00, 46.13it/s, early_stop_count=0, loss=481.07]\n",
      "NN Epoch 8 train    : 100%|██████████| 391/391 [00:09<00:00, 40.75it/s, early_stop_count=1, loss=478.28]\n",
      "NN Epoch 8 val      : 100%|██████████| 79/79 [00:01<00:00, 45.54it/s, early_stop_count=1, loss=479.19]\n",
      "NN Epoch 9 train    : 100%|██████████| 391/391 [00:09<00:00, 40.48it/s, early_stop_count=0, loss=477.96]\n",
      "NN Epoch 9 val      : 100%|██████████| 79/79 [00:01<00:00, 46.06it/s, early_stop_count=0, loss=478.61]\n",
      "NN Epoch 10 train   : 100%|██████████| 391/391 [00:09<00:00, 39.99it/s, early_stop_count=0, loss=477.81]\n",
      "NN Epoch 10 val     : 100%|██████████| 79/79 [00:01<00:00, 46.05it/s, early_stop_count=0, loss=480.96]\n",
      "NN Epoch 11 train   : 100%|██████████| 391/391 [00:09<00:00, 41.08it/s, early_stop_count=1, loss=477.60]\n",
      "NN Epoch 11 val     : 100%|██████████| 79/79 [00:01<00:00, 46.21it/s, early_stop_count=1, loss=479.17]\n",
      "NN Epoch 12 train   : 100%|██████████| 391/391 [00:09<00:00, 41.03it/s, early_stop_count=2, loss=477.48]\n",
      "NN Epoch 12 val     : 100%|██████████| 79/79 [00:01<00:00, 45.30it/s, early_stop_count=2, loss=478.93]\n",
      "CVAE Epoch 0 train  : 100%|██████████| 391/391 [00:13<00:00, 29.23it/s, early_stop_count=0, loss=501.84]\n",
      "CVAE Epoch 0 val    : 100%|██████████| 79/79 [00:01<00:00, 40.71it/s, early_stop_count=0, loss=492.27]\n",
      "CVAE Epoch 1 train  : 100%|██████████| 391/391 [00:13<00:00, 28.61it/s, early_stop_count=0, loss=488.71]\n",
      "CVAE Epoch 1 val    : 100%|██████████| 79/79 [00:02<00:00, 39.07it/s, early_stop_count=0, loss=488.89]\n",
      "CVAE Epoch 2 train  : 100%|██████████| 391/391 [00:13<00:00, 28.97it/s, early_stop_count=0, loss=487.70]\n",
      "CVAE Epoch 2 val    : 100%|██████████| 79/79 [00:01<00:00, 39.60it/s, early_stop_count=0, loss=487.89]\n",
      "CVAE Epoch 3 train  : 100%|██████████| 391/391 [00:13<00:00, 28.91it/s, early_stop_count=0, loss=485.13]\n",
      "CVAE Epoch 3 val    : 100%|██████████| 79/79 [00:01<00:00, 40.47it/s, early_stop_count=0, loss=483.56]\n",
      "CVAE Epoch 4 train  : 100%|██████████| 391/391 [00:13<00:00, 28.22it/s, early_stop_count=0, loss=481.99]\n",
      "CVAE Epoch 4 val    : 100%|██████████| 79/79 [00:01<00:00, 39.79it/s, early_stop_count=0, loss=482.70]\n",
      "CVAE Epoch 5 train  : 100%|██████████| 391/391 [00:14<00:00, 27.75it/s, early_stop_count=0, loss=481.00]\n",
      "CVAE Epoch 5 val    : 100%|██████████| 79/79 [00:02<00:00, 37.85it/s, early_stop_count=0, loss=482.26]\n",
      "CVAE Epoch 6 train  : 100%|██████████| 391/391 [00:13<00:00, 28.59it/s, early_stop_count=0, loss=478.53]\n",
      "CVAE Epoch 6 val    : 100%|██████████| 79/79 [00:02<00:00, 38.22it/s, early_stop_count=0, loss=478.59]\n",
      "CVAE Epoch 7 train  : 100%|██████████| 391/391 [00:13<00:00, 28.63it/s, early_stop_count=0, loss=476.73]\n",
      "CVAE Epoch 7 val    : 100%|██████████| 79/79 [00:02<00:00, 39.44it/s, early_stop_count=0, loss=477.71]\n",
      "CVAE Epoch 8 train  : 100%|██████████| 391/391 [00:13<00:00, 28.71it/s, early_stop_count=0, loss=475.77]\n",
      "CVAE Epoch 8 val    : 100%|██████████| 79/79 [00:01<00:00, 39.88it/s, early_stop_count=0, loss=476.52]\n",
      "CVAE Epoch 9 train  : 100%|██████████| 391/391 [00:13<00:00, 28.71it/s, early_stop_count=0, loss=474.03]\n",
      "CVAE Epoch 9 val    : 100%|██████████| 79/79 [00:01<00:00, 40.12it/s, early_stop_count=0, loss=474.49]\n",
      "CVAE Epoch 10 train : 100%|██████████| 391/391 [00:13<00:00, 29.18it/s, early_stop_count=0, loss=472.70]\n",
      "CVAE Epoch 10 val   : 100%|██████████| 79/79 [00:01<00:00, 40.56it/s, early_stop_count=0, loss=473.33]\n",
      "CVAE Epoch 11 train : 100%|██████████| 391/391 [00:13<00:00, 29.42it/s, early_stop_count=0, loss=472.32]\n",
      "CVAE Epoch 11 val   : 100%|██████████| 79/79 [00:01<00:00, 39.73it/s, early_stop_count=0, loss=473.86]\n",
      "CVAE Epoch 12 train : 100%|██████████| 391/391 [00:13<00:00, 29.25it/s, early_stop_count=1, loss=471.82]\n",
      "CVAE Epoch 12 val   : 100%|██████████| 79/79 [00:02<00:00, 38.73it/s, early_stop_count=1, loss=472.82]\n",
      "CVAE Epoch 13 train : 100%|██████████| 391/391 [00:13<00:00, 28.71it/s, early_stop_count=0, loss=471.27]\n",
      "CVAE Epoch 13 val   : 100%|██████████| 79/79 [00:02<00:00, 39.17it/s, early_stop_count=0, loss=472.68]\n",
      "CVAE Epoch 14 train : 100%|██████████| 391/391 [00:13<00:00, 29.03it/s, early_stop_count=0, loss=470.87]\n",
      "CVAE Epoch 14 val   : 100%|██████████| 79/79 [00:02<00:00, 39.29it/s, early_stop_count=0, loss=472.39]\n",
      "CVAE Epoch 15 train : 100%|██████████| 391/391 [00:13<00:00, 29.36it/s, early_stop_count=0, loss=470.58]\n",
      "CVAE Epoch 15 val   : 100%|██████████| 79/79 [00:02<00:00, 39.50it/s, early_stop_count=0, loss=471.57]\n",
      "CVAE Epoch 16 train : 100%|██████████| 391/391 [00:13<00:00, 29.32it/s, early_stop_count=0, loss=470.39]\n",
      "CVAE Epoch 16 val   : 100%|██████████| 79/79 [00:01<00:00, 39.93it/s, early_stop_count=0, loss=471.86]\n",
      "CVAE Epoch 17 train : 100%|██████████| 391/391 [00:13<00:00, 29.21it/s, early_stop_count=1, loss=470.36]\n",
      "CVAE Epoch 17 val   : 100%|██████████| 79/79 [00:01<00:00, 40.45it/s, early_stop_count=1, loss=471.70]\n",
      "CVAE Epoch 18 train : 100%|██████████| 391/391 [00:13<00:00, 29.33it/s, early_stop_count=2, loss=470.12]\n",
      "CVAE Epoch 18 val   : 100%|██████████| 79/79 [00:02<00:00, 39.27it/s, early_stop_count=2, loss=471.50]\n",
      "CVAE Epoch 19 train : 100%|██████████| 391/391 [00:13<00:00, 29.04it/s, early_stop_count=0, loss=470.07]\n",
      "CVAE Epoch 19 val   : 100%|██████████| 79/79 [00:01<00:00, 39.67it/s, early_stop_count=0, loss=471.58]\n",
      "CVAE Epoch 20 train : 100%|██████████| 391/391 [00:13<00:00, 29.26it/s, early_stop_count=1, loss=469.92]\n",
      "CVAE Epoch 20 val   : 100%|██████████| 79/79 [00:01<00:00, 39.84it/s, early_stop_count=1, loss=471.19]\n",
      "CVAE Epoch 21 train : 100%|██████████| 391/391 [00:13<00:00, 28.85it/s, early_stop_count=0, loss=469.33]\n",
      "CVAE Epoch 21 val   : 100%|██████████| 79/79 [00:01<00:00, 40.08it/s, early_stop_count=0, loss=470.49]\n",
      "CVAE Epoch 22 train : 100%|██████████| 391/391 [00:13<00:00, 29.08it/s, early_stop_count=0, loss=468.85]\n",
      "CVAE Epoch 22 val   : 100%|██████████| 79/79 [00:01<00:00, 39.69it/s, early_stop_count=0, loss=470.10]\n",
      "CVAE Epoch 23 train : 100%|██████████| 391/391 [00:13<00:00, 29.11it/s, early_stop_count=0, loss=468.58]\n",
      "CVAE Epoch 23 val   : 100%|██████████| 79/79 [00:01<00:00, 40.06it/s, early_stop_count=0, loss=470.16]\n",
      "CVAE Epoch 24 train : 100%|██████████| 391/391 [00:13<00:00, 29.81it/s, early_stop_count=1, loss=468.14]\n",
      "CVAE Epoch 24 val   : 100%|██████████| 79/79 [00:02<00:00, 38.98it/s, early_stop_count=1, loss=470.32]\n",
      "CVAE Epoch 25 train : 100%|██████████| 391/391 [00:13<00:00, 29.15it/s, early_stop_count=2, loss=467.75]\n",
      "CVAE Epoch 25 val   : 100%|██████████| 79/79 [00:02<00:00, 39.26it/s, early_stop_count=2, loss=468.97]\n",
      "CVAE Epoch 26 train : 100%|██████████| 391/391 [00:13<00:00, 29.28it/s, early_stop_count=0, loss=467.40]\n",
      "CVAE Epoch 26 val   : 100%|██████████| 79/79 [00:02<00:00, 39.09it/s, early_stop_count=0, loss=468.98]\n",
      "CVAE Epoch 27 train : 100%|██████████| 391/391 [00:13<00:00, 29.07it/s, early_stop_count=1, loss=467.14]\n",
      "CVAE Epoch 27 val   : 100%|██████████| 79/79 [00:02<00:00, 39.07it/s, early_stop_count=1, loss=469.24]\n",
      "CVAE Epoch 28 train : 100%|██████████| 391/391 [00:13<00:00, 29.15it/s, early_stop_count=2, loss=467.09]\n",
      "CVAE Epoch 28 val   : 100%|██████████| 79/79 [00:01<00:00, 40.14it/s, early_stop_count=2, loss=468.97]\n"
     ]
    },
    {
     "name": "stdout",
     "output_type": "stream",
     "text": [
      "Files already downloaded and verified\n",
      "Files already downloaded and verified\n"
     ]
    },
    {
     "name": "stderr",
     "output_type": "stream",
     "text": [
      "Clipping input data to the valid range for imshow with RGB data ([0..1] for floats or [0..255] for integers).\n"
     ]
    },
    {
     "name": "stdout",
     "output_type": "stream",
     "text": [
      "Files already downloaded and verified\n",
      "Files already downloaded and verified\n"
     ]
    },
    {
     "name": "stderr",
     "output_type": "stream",
     "text": [
      "Generating predictions: 100%|██████████| 313/313 [00:14<00:00, 22.23it/s]\n"
     ]
    },
    {
     "data": {
      "text/plain": [
       "<Figure size 640x480 with 0 Axes>"
      ]
     },
     "metadata": {},
     "output_type": "display_data"
    }
   ],
   "source": [
    "args = argparse.Namespace(\n",
    "    num_quadrant_inputs=[1, 2, 3],\n",
    "    num_epochs=101,\n",
    "    early_stop_patience=3,\n",
    "    learning_rate=1.0e-3,\n",
    "    cuda=True,\n",
    "    num_images=10,\n",
    "    num_samples=10,\n",
    "    num_particles=10,\n",
    "    dataset=\"cifar10\",\n",
    ")\n",
    "\n",
    "main(args)"
   ]
  },
  {
   "cell_type": "code",
   "execution_count": 4,
   "id": "df85be2d-4c33-4bd3-98ad-4d52f2c90efd",
   "metadata": {
    "editable": true,
    "slideshow": {
     "slide_type": ""
    },
    "tags": []
   },
   "outputs": [
    {
     "name": "stdout",
     "output_type": "stream",
     "text": [
      "Baseline train: True\n",
      "CVAE train: True\n"
     ]
    }
   ],
   "source": [
    "import cvae\n",
    "import baseline\n",
    "\n",
    "print(\"Baseline train:\", hasattr(baseline, \"train\"))\n",
    "print(\"CVAE train:\", hasattr(cvae, \"train\"))"
   ]
  },
  {
   "cell_type": "code",
   "execution_count": 5,
   "id": "4e344d48-f690-404d-811b-dedccd07374e",
   "metadata": {},
   "outputs": [
    {
     "name": "stdout",
     "output_type": "stream",
     "text": [
      "/home/gugl/Documents/TUW/3.Semestar/PPAI/Probabilistic-Programming-and-AI/./CVAE/cvae.py\n"
     ]
    }
   ],
   "source": [
    "import cvae\n",
    "print(cvae.__file__)"
   ]
  },
  {
   "cell_type": "code",
   "execution_count": null,
   "id": "f126b382-ca61-4fec-bf95-3e02ea882deb",
   "metadata": {},
   "outputs": [],
   "source": []
  }
 ],
 "metadata": {
  "kernelspec": {
   "display_name": "Python 3",
   "language": "python",
   "name": "python3"
  },
  "language_info": {
   "codemirror_mode": {
    "name": "ipython",
    "version": 3
   },
   "file_extension": ".py",
   "mimetype": "text/x-python",
   "name": "python",
   "nbconvert_exporter": "python",
   "pygments_lexer": "ipython3",
   "version": "3.8.20"
  }
 },
 "nbformat": 4,
 "nbformat_minor": 5
}
