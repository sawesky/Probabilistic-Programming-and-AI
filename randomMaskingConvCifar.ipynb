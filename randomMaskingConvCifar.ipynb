{
 "cells": [
  {
   "cell_type": "code",
   "execution_count": 1,
   "id": "c13b282a-d821-4307-9e9f-679f0079b2f1",
   "metadata": {
    "editable": true,
    "slideshow": {
     "slide_type": ""
    },
    "tags": []
   },
   "outputs": [],
   "source": [
    "import sys\n",
    "sys.path.append(\"./CVAE\")"
   ]
  },
  {
   "cell_type": "code",
   "execution_count": 4,
   "id": "6b6feea9-bc48-4b0f-9241-c5676fe69398",
   "metadata": {
    "editable": true,
    "slideshow": {
     "slide_type": ""
    },
    "tags": []
   },
   "outputs": [],
   "source": [
    "from main import main\n",
    "import argparse"
   ]
  },
  {
   "cell_type": "code",
   "execution_count": 6,
   "id": "f80c4eec-449d-4743-bac5-8d179d13d5c6",
   "metadata": {
    "editable": true,
    "slideshow": {
     "slide_type": ""
    },
    "tags": []
   },
   "outputs": [
    {
     "name": "stdout",
     "output_type": "stream",
     "text": [
      "Device:  cuda:0\n",
      "Using random mask\n",
      "Training with 1 quadrant as input...\n",
      "Files already downloaded and verified\n",
      "Files already downloaded and verified\n"
     ]
    },
    {
     "name": "stderr",
     "output_type": "stream",
     "text": [
      "NN Epoch 0 train    : 100%|██████████| 391/391 [00:09<00:00, 43.28it/s, early_stop_count=0, loss=1513.77]\n",
      "NN Epoch 0 val      : 100%|██████████| 79/79 [00:01<00:00, 45.50it/s, early_stop_count=0, loss=1495.92]\n",
      "NN Epoch 1 train    : 100%|██████████| 391/391 [00:09<00:00, 42.86it/s, early_stop_count=0, loss=1484.36]\n",
      "NN Epoch 1 val      : 100%|██████████| 79/79 [00:01<00:00, 45.06it/s, early_stop_count=0, loss=1472.40]\n",
      "NN Epoch 2 train    : 100%|██████████| 391/391 [00:09<00:00, 42.78it/s, early_stop_count=0, loss=1469.30]\n",
      "NN Epoch 2 val      : 100%|██████████| 79/79 [00:01<00:00, 45.28it/s, early_stop_count=0, loss=1469.34]\n",
      "NN Epoch 3 train    : 100%|██████████| 391/391 [00:09<00:00, 43.10it/s, early_stop_count=0, loss=1463.74]\n",
      "NN Epoch 3 val      : 100%|██████████| 79/79 [00:01<00:00, 46.69it/s, early_stop_count=0, loss=1465.16]\n",
      "NN Epoch 4 train    : 100%|██████████| 391/391 [00:09<00:00, 43.15it/s, early_stop_count=0, loss=1459.66]\n",
      "NN Epoch 4 val      : 100%|██████████| 79/79 [00:01<00:00, 46.29it/s, early_stop_count=0, loss=1457.80]\n",
      "NN Epoch 5 train    : 100%|██████████| 391/391 [00:09<00:00, 43.06it/s, early_stop_count=0, loss=1455.91]\n",
      "NN Epoch 5 val      : 100%|██████████| 79/79 [00:01<00:00, 45.46it/s, early_stop_count=0, loss=1456.35]\n",
      "NN Epoch 6 train    : 100%|██████████| 391/391 [00:09<00:00, 42.58it/s, early_stop_count=0, loss=1454.49]\n",
      "NN Epoch 6 val      : 100%|██████████| 79/79 [00:01<00:00, 46.08it/s, early_stop_count=0, loss=1456.60]\n",
      "NN Epoch 7 train    : 100%|██████████| 391/391 [00:08<00:00, 43.53it/s, early_stop_count=1, loss=1452.17]\n",
      "NN Epoch 7 val      : 100%|██████████| 79/79 [00:01<00:00, 46.46it/s, early_stop_count=1, loss=1451.11]\n",
      "NN Epoch 8 train    : 100%|██████████| 391/391 [00:09<00:00, 43.26it/s, early_stop_count=0, loss=1449.73]\n",
      "NN Epoch 8 val      : 100%|██████████| 79/79 [00:01<00:00, 45.56it/s, early_stop_count=0, loss=1450.97]\n",
      "NN Epoch 9 train    : 100%|██████████| 391/391 [00:08<00:00, 43.53it/s, early_stop_count=0, loss=1449.47]\n",
      "NN Epoch 9 val      : 100%|██████████| 79/79 [00:01<00:00, 46.42it/s, early_stop_count=0, loss=1451.92]\n",
      "NN Epoch 10 train   : 100%|██████████| 391/391 [00:08<00:00, 43.49it/s, early_stop_count=1, loss=1448.54]\n",
      "NN Epoch 10 val     : 100%|██████████| 79/79 [00:01<00:00, 46.59it/s, early_stop_count=1, loss=1451.31]\n",
      "NN Epoch 11 train   : 100%|██████████| 391/391 [00:08<00:00, 43.92it/s, early_stop_count=2, loss=1448.00]\n",
      "NN Epoch 11 val     : 100%|██████████| 79/79 [00:01<00:00, 47.20it/s, early_stop_count=2, loss=1450.50]\n",
      "NN Epoch 12 train   : 100%|██████████| 391/391 [00:08<00:00, 43.99it/s, early_stop_count=0, loss=1446.88]\n",
      "NN Epoch 12 val     : 100%|██████████| 79/79 [00:01<00:00, 46.65it/s, early_stop_count=0, loss=1450.09]\n",
      "NN Epoch 13 train   : 100%|██████████| 391/391 [00:08<00:00, 43.72it/s, early_stop_count=0, loss=1446.25]\n",
      "NN Epoch 13 val     : 100%|██████████| 79/79 [00:01<00:00, 46.87it/s, early_stop_count=0, loss=1446.61]\n",
      "NN Epoch 14 train   : 100%|██████████| 391/391 [00:08<00:00, 43.95it/s, early_stop_count=0, loss=1445.75]\n",
      "NN Epoch 14 val     : 100%|██████████| 79/79 [00:01<00:00, 46.11it/s, early_stop_count=0, loss=1447.33]\n",
      "NN Epoch 15 train   : 100%|██████████| 391/391 [00:09<00:00, 43.40it/s, early_stop_count=1, loss=1445.49]\n",
      "NN Epoch 15 val     : 100%|██████████| 79/79 [00:01<00:00, 45.77it/s, early_stop_count=1, loss=1446.38]\n",
      "NN Epoch 16 train   : 100%|██████████| 391/391 [00:09<00:00, 43.37it/s, early_stop_count=0, loss=1444.52]\n",
      "NN Epoch 16 val     : 100%|██████████| 79/79 [00:01<00:00, 46.57it/s, early_stop_count=0, loss=1448.34]\n",
      "NN Epoch 17 train   : 100%|██████████| 391/391 [00:09<00:00, 43.20it/s, early_stop_count=1, loss=1443.47]\n",
      "NN Epoch 17 val     : 100%|██████████| 79/79 [00:01<00:00, 46.21it/s, early_stop_count=1, loss=1447.11]\n",
      "NN Epoch 18 train   : 100%|██████████| 391/391 [00:08<00:00, 44.05it/s, early_stop_count=2, loss=1443.48]\n",
      "NN Epoch 18 val     : 100%|██████████| 79/79 [00:01<00:00, 47.21it/s, early_stop_count=2, loss=1444.37]\n",
      "NN Epoch 19 train   : 100%|██████████| 391/391 [00:08<00:00, 44.06it/s, early_stop_count=0, loss=1442.62]\n",
      "NN Epoch 19 val     : 100%|██████████| 79/79 [00:01<00:00, 47.32it/s, early_stop_count=0, loss=1444.49]\n",
      "NN Epoch 20 train   : 100%|██████████| 391/391 [00:08<00:00, 44.14it/s, early_stop_count=0, loss=1442.05]\n",
      "NN Epoch 20 val     : 100%|██████████| 79/79 [00:01<00:00, 47.20it/s, early_stop_count=0, loss=1443.50]\n",
      "NN Epoch 21 train   : 100%|██████████| 391/391 [00:08<00:00, 44.17it/s, early_stop_count=0, loss=1440.92]\n",
      "NN Epoch 21 val     : 100%|██████████| 79/79 [00:01<00:00, 47.35it/s, early_stop_count=0, loss=1443.73]\n",
      "NN Epoch 22 train   : 100%|██████████| 391/391 [00:09<00:00, 43.14it/s, early_stop_count=1, loss=1440.38]\n",
      "NN Epoch 22 val     : 100%|██████████| 79/79 [00:01<00:00, 47.44it/s, early_stop_count=1, loss=1443.57]\n",
      "NN Epoch 23 train   : 100%|██████████| 391/391 [00:08<00:00, 43.75it/s, early_stop_count=2, loss=1439.94]\n",
      "NN Epoch 23 val     : 100%|██████████| 79/79 [00:01<00:00, 46.03it/s, early_stop_count=2, loss=1441.33]\n",
      "NN Epoch 24 train   : 100%|██████████| 391/391 [00:09<00:00, 42.77it/s, early_stop_count=0, loss=1439.22]\n",
      "NN Epoch 24 val     : 100%|██████████| 79/79 [00:01<00:00, 46.27it/s, early_stop_count=0, loss=1442.21]\n",
      "NN Epoch 25 train   : 100%|██████████| 391/391 [00:09<00:00, 43.16it/s, early_stop_count=1, loss=1439.14]\n",
      "NN Epoch 25 val     : 100%|██████████| 79/79 [00:01<00:00, 46.11it/s, early_stop_count=1, loss=1446.25]\n",
      "NN Epoch 26 train   : 100%|██████████| 391/391 [00:09<00:00, 43.40it/s, early_stop_count=2, loss=1438.88]\n",
      "NN Epoch 26 val     : 100%|██████████| 79/79 [00:01<00:00, 46.20it/s, early_stop_count=2, loss=1440.53]\n",
      "NN Epoch 27 train   : 100%|██████████| 391/391 [00:09<00:00, 43.30it/s, early_stop_count=0, loss=1437.96]\n",
      "NN Epoch 27 val     : 100%|██████████| 79/79 [00:01<00:00, 46.13it/s, early_stop_count=0, loss=1441.53]\n",
      "NN Epoch 28 train   : 100%|██████████| 391/391 [00:08<00:00, 43.76it/s, early_stop_count=1, loss=1438.01]\n",
      "NN Epoch 28 val     : 100%|██████████| 79/79 [00:01<00:00, 46.84it/s, early_stop_count=1, loss=1440.78]\n",
      "NN Epoch 29 train   : 100%|██████████| 391/391 [00:08<00:00, 43.82it/s, early_stop_count=2, loss=1437.23]\n",
      "NN Epoch 29 val     : 100%|██████████| 79/79 [00:01<00:00, 46.00it/s, early_stop_count=2, loss=1441.97]\n",
      "CVAE Epoch 0 train  : 100%|██████████| 391/391 [00:14<00:00, 26.33it/s, early_stop_count=0, loss=1505.23]\n",
      "CVAE Epoch 0 val    : 100%|██████████| 79/79 [00:01<00:00, 39.84it/s, early_stop_count=0, loss=1423.94]\n",
      "CVAE Epoch 1 train  : 100%|██████████| 391/391 [00:14<00:00, 27.71it/s, early_stop_count=0, loss=1405.17]\n",
      "CVAE Epoch 1 val    : 100%|██████████| 79/79 [00:01<00:00, 39.68it/s, early_stop_count=0, loss=1399.95]\n",
      "CVAE Epoch 2 train  : 100%|██████████| 391/391 [00:14<00:00, 27.47it/s, early_stop_count=0, loss=1392.11]\n",
      "CVAE Epoch 2 val    : 100%|██████████| 79/79 [00:01<00:00, 40.14it/s, early_stop_count=0, loss=1391.36]\n",
      "CVAE Epoch 3 train  : 100%|██████████| 391/391 [00:14<00:00, 27.48it/s, early_stop_count=0, loss=1384.30]\n",
      "CVAE Epoch 3 val    : 100%|██████████| 79/79 [00:01<00:00, 40.02it/s, early_stop_count=0, loss=1385.17]\n",
      "CVAE Epoch 4 train  : 100%|██████████| 391/391 [00:14<00:00, 27.36it/s, early_stop_count=0, loss=1378.79]\n",
      "CVAE Epoch 4 val    : 100%|██████████| 79/79 [00:01<00:00, 40.13it/s, early_stop_count=0, loss=1379.61]\n",
      "CVAE Epoch 5 train  : 100%|██████████| 391/391 [00:14<00:00, 27.36it/s, early_stop_count=0, loss=1375.09]\n",
      "CVAE Epoch 5 val    : 100%|██████████| 79/79 [00:01<00:00, 39.52it/s, early_stop_count=0, loss=1376.27]\n",
      "CVAE Epoch 6 train  : 100%|██████████| 391/391 [00:14<00:00, 26.99it/s, early_stop_count=0, loss=1372.86]\n",
      "CVAE Epoch 6 val    : 100%|██████████| 79/79 [00:01<00:00, 40.09it/s, early_stop_count=0, loss=1374.89]\n",
      "CVAE Epoch 7 train  : 100%|██████████| 391/391 [00:14<00:00, 27.47it/s, early_stop_count=0, loss=1371.18]\n",
      "CVAE Epoch 7 val    : 100%|██████████| 79/79 [00:01<00:00, 40.21it/s, early_stop_count=0, loss=1373.74]\n",
      "CVAE Epoch 8 train  : 100%|██████████| 391/391 [00:14<00:00, 27.52it/s, early_stop_count=0, loss=1369.85]\n",
      "CVAE Epoch 8 val    : 100%|██████████| 79/79 [00:01<00:00, 40.00it/s, early_stop_count=0, loss=1372.11]\n",
      "CVAE Epoch 9 train  : 100%|██████████| 391/391 [00:14<00:00, 27.55it/s, early_stop_count=0, loss=1368.54]\n",
      "CVAE Epoch 9 val    : 100%|██████████| 79/79 [00:01<00:00, 39.94it/s, early_stop_count=0, loss=1371.36]\n",
      "CVAE Epoch 10 train : 100%|██████████| 391/391 [00:14<00:00, 27.55it/s, early_stop_count=0, loss=1368.06]\n",
      "CVAE Epoch 10 val   : 100%|██████████| 79/79 [00:01<00:00, 39.95it/s, early_stop_count=0, loss=1370.83]\n",
      "CVAE Epoch 11 train : 100%|██████████| 391/391 [00:14<00:00, 27.46it/s, early_stop_count=0, loss=1367.17]\n",
      "CVAE Epoch 11 val   : 100%|██████████| 79/79 [00:01<00:00, 40.05it/s, early_stop_count=0, loss=1369.55]\n",
      "CVAE Epoch 12 train : 100%|██████████| 391/391 [00:14<00:00, 27.57it/s, early_stop_count=0, loss=1366.60]\n",
      "CVAE Epoch 12 val   : 100%|██████████| 79/79 [00:01<00:00, 39.95it/s, early_stop_count=0, loss=1370.01]\n",
      "CVAE Epoch 13 train : 100%|██████████| 391/391 [00:14<00:00, 27.47it/s, early_stop_count=1, loss=1366.07]\n",
      "CVAE Epoch 13 val   : 100%|██████████| 79/79 [00:01<00:00, 40.02it/s, early_stop_count=1, loss=1369.47]\n",
      "CVAE Epoch 14 train : 100%|██████████| 391/391 [00:14<00:00, 27.31it/s, early_stop_count=0, loss=1365.38]\n",
      "CVAE Epoch 14 val   : 100%|██████████| 79/79 [00:02<00:00, 39.42it/s, early_stop_count=0, loss=1368.46]\n",
      "CVAE Epoch 15 train : 100%|██████████| 391/391 [00:14<00:00, 27.43it/s, early_stop_count=0, loss=1364.97]\n",
      "CVAE Epoch 15 val   : 100%|██████████| 79/79 [00:01<00:00, 39.81it/s, early_stop_count=0, loss=1368.10]\n",
      "CVAE Epoch 16 train : 100%|██████████| 391/391 [00:14<00:00, 27.16it/s, early_stop_count=0, loss=1364.61]\n",
      "CVAE Epoch 16 val   : 100%|██████████| 79/79 [00:02<00:00, 38.96it/s, early_stop_count=0, loss=1367.42]\n",
      "CVAE Epoch 17 train : 100%|██████████| 391/391 [00:14<00:00, 27.25it/s, early_stop_count=0, loss=1364.43]\n",
      "CVAE Epoch 17 val   : 100%|██████████| 79/79 [00:01<00:00, 39.57it/s, early_stop_count=0, loss=1367.93]\n",
      "CVAE Epoch 18 train : 100%|██████████| 391/391 [00:14<00:00, 27.24it/s, early_stop_count=1, loss=1363.76]\n",
      "CVAE Epoch 18 val   : 100%|██████████| 79/79 [00:02<00:00, 39.14it/s, early_stop_count=1, loss=1367.17]\n",
      "CVAE Epoch 19 train : 100%|██████████| 391/391 [00:14<00:00, 27.53it/s, early_stop_count=0, loss=1363.40]\n",
      "CVAE Epoch 19 val   : 100%|██████████| 79/79 [00:01<00:00, 39.68it/s, early_stop_count=0, loss=1366.41]\n",
      "CVAE Epoch 20 train : 100%|██████████| 391/391 [00:14<00:00, 27.19it/s, early_stop_count=0, loss=1363.18]\n",
      "CVAE Epoch 20 val   : 100%|██████████| 79/79 [00:01<00:00, 39.64it/s, early_stop_count=0, loss=1366.24]\n",
      "CVAE Epoch 21 train : 100%|██████████| 391/391 [00:14<00:00, 27.39it/s, early_stop_count=0, loss=1363.00]\n",
      "CVAE Epoch 21 val   : 100%|██████████| 79/79 [00:01<00:00, 39.69it/s, early_stop_count=0, loss=1366.64]\n",
      "CVAE Epoch 22 train : 100%|██████████| 391/391 [00:14<00:00, 27.35it/s, early_stop_count=1, loss=1362.56]\n",
      "CVAE Epoch 22 val   : 100%|██████████| 79/79 [00:01<00:00, 39.88it/s, early_stop_count=1, loss=1366.53]\n",
      "CVAE Epoch 23 train : 100%|██████████| 391/391 [00:14<00:00, 27.28it/s, early_stop_count=2, loss=1362.43]\n",
      "CVAE Epoch 23 val   : 100%|██████████| 79/79 [00:02<00:00, 39.29it/s, early_stop_count=2, loss=1365.61]\n",
      "CVAE Epoch 24 train : 100%|██████████| 391/391 [00:14<00:00, 26.98it/s, early_stop_count=0, loss=1362.07]\n",
      "CVAE Epoch 24 val   : 100%|██████████| 79/79 [00:02<00:00, 39.18it/s, early_stop_count=0, loss=1365.45]\n",
      "CVAE Epoch 25 train : 100%|██████████| 391/391 [00:15<00:00, 25.40it/s, early_stop_count=0, loss=1361.70]\n",
      "CVAE Epoch 25 val   : 100%|██████████| 79/79 [00:02<00:00, 39.41it/s, early_stop_count=0, loss=1364.69]\n",
      "CVAE Epoch 26 train : 100%|██████████| 391/391 [00:14<00:00, 27.26it/s, early_stop_count=0, loss=1361.55]\n",
      "CVAE Epoch 26 val   : 100%|██████████| 79/79 [00:02<00:00, 39.44it/s, early_stop_count=0, loss=1364.96]\n",
      "CVAE Epoch 27 train : 100%|██████████| 391/391 [00:14<00:00, 27.42it/s, early_stop_count=1, loss=1361.26]\n",
      "CVAE Epoch 27 val   : 100%|██████████| 79/79 [00:01<00:00, 39.92it/s, early_stop_count=1, loss=1365.06]\n",
      "CVAE Epoch 28 train : 100%|██████████| 391/391 [00:14<00:00, 27.09it/s, early_stop_count=2, loss=1361.20]\n",
      "CVAE Epoch 28 val   : 100%|██████████| 79/79 [00:02<00:00, 39.44it/s, early_stop_count=2, loss=1365.10]\n"
     ]
    },
    {
     "name": "stdout",
     "output_type": "stream",
     "text": [
      "Files already downloaded and verified\n",
      "Files already downloaded and verified\n"
     ]
    },
    {
     "name": "stderr",
     "output_type": "stream",
     "text": [
      "Clipping input data to the valid range for imshow with RGB data ([0..1] for floats or [0..255] for integers). Got range [-1.0..1.0].\n"
     ]
    },
    {
     "name": "stdout",
     "output_type": "stream",
     "text": [
      "Files already downloaded and verified\n",
      "Files already downloaded and verified\n"
     ]
    },
    {
     "name": "stderr",
     "output_type": "stream",
     "text": [
      "Generating predictions: 100%|██████████| 313/313 [00:14<00:00, 21.08it/s]\n"
     ]
    },
    {
     "name": "stdout",
     "output_type": "stream",
     "text": [
      "Df:                       1 quadrant\n",
      "NN (baseline)       3899.491672\n",
      "CVAE (Monte Carlo)  1432.967749\n",
      "Columns:  ['1 quadrant']\n",
      "Training with 2 quadrants as input...\n",
      "Files already downloaded and verified\n",
      "Files already downloaded and verified\n"
     ]
    },
    {
     "name": "stderr",
     "output_type": "stream",
     "text": [
      "NN Epoch 0 train    : 100%|██████████| 391/391 [00:10<00:00, 37.92it/s, early_stop_count=0, loss=984.99] \n",
      "NN Epoch 0 val      : 100%|██████████| 79/79 [00:01<00:00, 40.32it/s, early_stop_count=0, loss=969.22]\n",
      "NN Epoch 1 train    : 100%|██████████| 391/391 [00:10<00:00, 37.97it/s, early_stop_count=0, loss=962.33]\n",
      "NN Epoch 1 val      : 100%|██████████| 79/79 [00:01<00:00, 40.36it/s, early_stop_count=0, loss=958.59]\n",
      "NN Epoch 2 train    : 100%|██████████| 391/391 [00:10<00:00, 37.90it/s, early_stop_count=0, loss=954.27]\n",
      "NN Epoch 2 val      : 100%|██████████| 79/79 [00:01<00:00, 40.48it/s, early_stop_count=0, loss=953.62]\n",
      "NN Epoch 3 train    : 100%|██████████| 391/391 [00:10<00:00, 37.16it/s, early_stop_count=0, loss=951.08]\n",
      "NN Epoch 3 val      : 100%|██████████| 79/79 [00:01<00:00, 40.36it/s, early_stop_count=0, loss=951.91]\n",
      "NN Epoch 4 train    : 100%|██████████| 391/391 [00:10<00:00, 37.93it/s, early_stop_count=0, loss=948.01]\n",
      "NN Epoch 4 val      : 100%|██████████| 79/79 [00:01<00:00, 40.53it/s, early_stop_count=0, loss=948.44]\n",
      "NN Epoch 5 train    : 100%|██████████| 391/391 [00:10<00:00, 37.90it/s, early_stop_count=0, loss=946.15]\n",
      "NN Epoch 5 val      : 100%|██████████| 79/79 [00:01<00:00, 40.36it/s, early_stop_count=0, loss=946.94]\n",
      "NN Epoch 6 train    : 100%|██████████| 391/391 [00:10<00:00, 38.20it/s, early_stop_count=0, loss=943.58]\n",
      "NN Epoch 6 val      : 100%|██████████| 79/79 [00:01<00:00, 40.71it/s, early_stop_count=0, loss=944.08]\n",
      "NN Epoch 7 train    : 100%|██████████| 391/391 [00:10<00:00, 37.78it/s, early_stop_count=0, loss=942.28]\n",
      "NN Epoch 7 val      : 100%|██████████| 79/79 [00:01<00:00, 40.42it/s, early_stop_count=0, loss=942.32]\n",
      "NN Epoch 8 train    : 100%|██████████| 391/391 [00:10<00:00, 37.65it/s, early_stop_count=0, loss=940.64]\n",
      "NN Epoch 8 val      : 100%|██████████| 79/79 [00:01<00:00, 40.96it/s, early_stop_count=0, loss=941.31]\n",
      "NN Epoch 9 train    : 100%|██████████| 391/391 [00:10<00:00, 38.42it/s, early_stop_count=0, loss=939.41]\n",
      "NN Epoch 9 val      : 100%|██████████| 79/79 [00:01<00:00, 39.53it/s, early_stop_count=0, loss=941.67]\n",
      "NN Epoch 10 train   : 100%|██████████| 391/391 [00:10<00:00, 37.93it/s, early_stop_count=1, loss=938.84]\n",
      "NN Epoch 10 val     : 100%|██████████| 79/79 [00:01<00:00, 40.99it/s, early_stop_count=1, loss=940.55]\n",
      "NN Epoch 11 train   : 100%|██████████| 391/391 [00:10<00:00, 38.55it/s, early_stop_count=0, loss=938.14]\n",
      "NN Epoch 11 val     : 100%|██████████| 79/79 [00:01<00:00, 40.87it/s, early_stop_count=0, loss=938.88]\n",
      "NN Epoch 12 train   : 100%|██████████| 391/391 [00:10<00:00, 38.06it/s, early_stop_count=0, loss=937.26]\n",
      "NN Epoch 12 val     : 100%|██████████| 79/79 [00:01<00:00, 41.01it/s, early_stop_count=0, loss=938.64]\n",
      "NN Epoch 13 train   : 100%|██████████| 391/391 [00:10<00:00, 38.08it/s, early_stop_count=0, loss=936.88]\n",
      "NN Epoch 13 val     : 100%|██████████| 79/79 [00:01<00:00, 40.34it/s, early_stop_count=0, loss=939.25]\n",
      "NN Epoch 14 train   : 100%|██████████| 391/391 [00:10<00:00, 38.01it/s, early_stop_count=1, loss=936.35]\n",
      "NN Epoch 14 val     : 100%|██████████| 79/79 [00:01<00:00, 40.35it/s, early_stop_count=1, loss=937.32]\n",
      "NN Epoch 15 train   : 100%|██████████| 391/391 [00:10<00:00, 37.91it/s, early_stop_count=0, loss=935.87]\n",
      "NN Epoch 15 val     : 100%|██████████| 79/79 [00:01<00:00, 40.56it/s, early_stop_count=0, loss=937.30]\n",
      "NN Epoch 16 train   : 100%|██████████| 391/391 [00:10<00:00, 38.13it/s, early_stop_count=0, loss=935.56]\n",
      "NN Epoch 16 val     : 100%|██████████| 79/79 [00:01<00:00, 40.42it/s, early_stop_count=0, loss=937.01]\n",
      "NN Epoch 17 train   : 100%|██████████| 391/391 [00:10<00:00, 38.22it/s, early_stop_count=1, loss=934.89]\n",
      "NN Epoch 17 val     : 100%|██████████| 79/79 [00:01<00:00, 40.74it/s, early_stop_count=1, loss=936.14]\n",
      "NN Epoch 18 train   : 100%|██████████| 391/391 [00:10<00:00, 38.14it/s, early_stop_count=0, loss=934.94]\n",
      "NN Epoch 18 val     : 100%|██████████| 79/79 [00:01<00:00, 40.88it/s, early_stop_count=0, loss=936.11]\n",
      "NN Epoch 19 train   : 100%|██████████| 391/391 [00:10<00:00, 38.30it/s, early_stop_count=0, loss=934.46]\n",
      "NN Epoch 19 val     : 100%|██████████| 79/79 [00:01<00:00, 40.66it/s, early_stop_count=0, loss=936.24]\n",
      "NN Epoch 20 train   : 100%|██████████| 391/391 [00:10<00:00, 38.27it/s, early_stop_count=1, loss=933.96]\n",
      "NN Epoch 20 val     : 100%|██████████| 79/79 [00:01<00:00, 40.99it/s, early_stop_count=1, loss=935.24]\n",
      "NN Epoch 21 train   : 100%|██████████| 391/391 [00:10<00:00, 38.33it/s, early_stop_count=0, loss=933.78]\n",
      "NN Epoch 21 val     : 100%|██████████| 79/79 [00:01<00:00, 40.52it/s, early_stop_count=0, loss=935.60]\n",
      "NN Epoch 22 train   : 100%|██████████| 391/391 [00:10<00:00, 38.27it/s, early_stop_count=0, loss=933.36]\n",
      "NN Epoch 22 val     : 100%|██████████| 79/79 [00:01<00:00, 40.11it/s, early_stop_count=0, loss=936.38]\n",
      "NN Epoch 23 train   : 100%|██████████| 391/391 [00:10<00:00, 37.55it/s, early_stop_count=1, loss=933.09]\n",
      "NN Epoch 23 val     : 100%|██████████| 79/79 [00:01<00:00, 40.77it/s, early_stop_count=1, loss=936.15]\n",
      "NN Epoch 24 train   : 100%|██████████| 391/391 [00:10<00:00, 38.25it/s, early_stop_count=2, loss=933.23]\n",
      "NN Epoch 24 val     : 100%|██████████| 79/79 [00:01<00:00, 40.79it/s, early_stop_count=2, loss=935.12]\n",
      "NN Epoch 25 train   : 100%|██████████| 391/391 [00:10<00:00, 38.49it/s, early_stop_count=0, loss=932.90]\n",
      "NN Epoch 25 val     : 100%|██████████| 79/79 [00:01<00:00, 40.81it/s, early_stop_count=0, loss=934.92]\n",
      "NN Epoch 26 train   : 100%|██████████| 391/391 [00:10<00:00, 38.13it/s, early_stop_count=0, loss=932.69]\n",
      "NN Epoch 26 val     : 100%|██████████| 79/79 [00:01<00:00, 41.02it/s, early_stop_count=0, loss=935.46]\n",
      "NN Epoch 27 train   : 100%|██████████| 391/391 [00:10<00:00, 38.46it/s, early_stop_count=1, loss=932.37]\n",
      "NN Epoch 27 val     : 100%|██████████| 79/79 [00:01<00:00, 40.69it/s, early_stop_count=1, loss=934.93]\n",
      "NN Epoch 28 train   : 100%|██████████| 391/391 [00:10<00:00, 38.30it/s, early_stop_count=2, loss=932.54]\n",
      "NN Epoch 28 val     : 100%|██████████| 79/79 [00:01<00:00, 40.70it/s, early_stop_count=2, loss=934.82]\n",
      "CVAE Epoch 0 train  : 100%|██████████| 391/391 [00:15<00:00, 25.03it/s, early_stop_count=0, loss=1000.72]\n",
      "CVAE Epoch 0 val    : 100%|██████████| 79/79 [00:02<00:00, 35.30it/s, early_stop_count=0, loss=948.82]\n",
      "CVAE Epoch 1 train  : 100%|██████████| 391/391 [00:15<00:00, 25.15it/s, early_stop_count=0, loss=938.06]\n",
      "CVAE Epoch 1 val    : 100%|██████████| 79/79 [00:02<00:00, 35.50it/s, early_stop_count=0, loss=933.44]\n",
      "CVAE Epoch 2 train  : 100%|██████████| 391/391 [00:15<00:00, 25.11it/s, early_stop_count=0, loss=927.95]\n",
      "CVAE Epoch 2 val    : 100%|██████████| 79/79 [00:02<00:00, 35.53it/s, early_stop_count=0, loss=927.36]\n",
      "CVAE Epoch 3 train  : 100%|██████████| 391/391 [00:15<00:00, 25.31it/s, early_stop_count=0, loss=924.19]\n",
      "CVAE Epoch 3 val    : 100%|██████████| 79/79 [00:02<00:00, 35.33it/s, early_stop_count=0, loss=925.82]\n",
      "CVAE Epoch 4 train  : 100%|██████████| 391/391 [00:15<00:00, 25.17it/s, early_stop_count=0, loss=921.99]\n",
      "CVAE Epoch 4 val    : 100%|██████████| 79/79 [00:02<00:00, 35.55it/s, early_stop_count=0, loss=923.51]\n",
      "CVAE Epoch 5 train  : 100%|██████████| 391/391 [00:15<00:00, 25.24it/s, early_stop_count=0, loss=920.29]\n",
      "CVAE Epoch 5 val    : 100%|██████████| 79/79 [00:02<00:00, 35.54it/s, early_stop_count=0, loss=921.86]\n",
      "CVAE Epoch 6 train  : 100%|██████████| 391/391 [00:15<00:00, 25.20it/s, early_stop_count=0, loss=919.10]\n",
      "CVAE Epoch 6 val    : 100%|██████████| 79/79 [00:02<00:00, 35.40it/s, early_stop_count=0, loss=919.70]\n",
      "CVAE Epoch 7 train  : 100%|██████████| 391/391 [00:15<00:00, 25.03it/s, early_stop_count=0, loss=917.70]\n",
      "CVAE Epoch 7 val    : 100%|██████████| 79/79 [00:02<00:00, 35.61it/s, early_stop_count=0, loss=918.95]\n",
      "CVAE Epoch 8 train  : 100%|██████████| 391/391 [00:15<00:00, 25.11it/s, early_stop_count=0, loss=916.39]\n",
      "CVAE Epoch 8 val    : 100%|██████████| 79/79 [00:02<00:00, 35.18it/s, early_stop_count=0, loss=917.56]\n",
      "CVAE Epoch 9 train  : 100%|██████████| 391/391 [00:15<00:00, 24.87it/s, early_stop_count=0, loss=915.40]\n",
      "CVAE Epoch 9 val    : 100%|██████████| 79/79 [00:02<00:00, 34.98it/s, early_stop_count=0, loss=916.87]\n",
      "CVAE Epoch 10 train : 100%|██████████| 391/391 [00:15<00:00, 24.85it/s, early_stop_count=0, loss=914.59]\n",
      "CVAE Epoch 10 val   : 100%|██████████| 79/79 [00:02<00:00, 34.76it/s, early_stop_count=0, loss=916.89]\n",
      "CVAE Epoch 11 train : 100%|██████████| 391/391 [00:15<00:00, 24.82it/s, early_stop_count=0, loss=913.97]\n",
      "CVAE Epoch 11 val   : 100%|██████████| 79/79 [00:02<00:00, 34.35it/s, early_stop_count=0, loss=915.02]\n",
      "CVAE Epoch 12 train : 100%|██████████| 391/391 [00:15<00:00, 24.63it/s, early_stop_count=0, loss=913.04]\n",
      "CVAE Epoch 12 val   : 100%|██████████| 79/79 [00:02<00:00, 35.58it/s, early_stop_count=0, loss=915.44]\n",
      "CVAE Epoch 13 train : 100%|██████████| 391/391 [00:15<00:00, 25.31it/s, early_stop_count=1, loss=912.72]\n",
      "CVAE Epoch 13 val   : 100%|██████████| 79/79 [00:02<00:00, 35.17it/s, early_stop_count=1, loss=914.68]\n",
      "CVAE Epoch 14 train : 100%|██████████| 391/391 [00:15<00:00, 25.19it/s, early_stop_count=0, loss=912.10]\n",
      "CVAE Epoch 14 val   : 100%|██████████| 79/79 [00:02<00:00, 35.76it/s, early_stop_count=0, loss=914.29]\n",
      "CVAE Epoch 15 train : 100%|██████████| 391/391 [00:15<00:00, 24.78it/s, early_stop_count=0, loss=911.75]\n",
      "CVAE Epoch 15 val   : 100%|██████████| 79/79 [00:02<00:00, 34.92it/s, early_stop_count=0, loss=914.20]\n",
      "CVAE Epoch 16 train : 100%|██████████| 391/391 [00:15<00:00, 24.95it/s, early_stop_count=1, loss=911.35]\n",
      "CVAE Epoch 16 val   : 100%|██████████| 79/79 [00:02<00:00, 35.35it/s, early_stop_count=1, loss=912.77]\n",
      "CVAE Epoch 17 train : 100%|██████████| 391/391 [00:15<00:00, 25.00it/s, early_stop_count=0, loss=911.01]\n",
      "CVAE Epoch 17 val   : 100%|██████████| 79/79 [00:02<00:00, 35.27it/s, early_stop_count=0, loss=912.55]\n",
      "CVAE Epoch 18 train : 100%|██████████| 391/391 [00:15<00:00, 25.01it/s, early_stop_count=0, loss=910.57]\n",
      "CVAE Epoch 18 val   : 100%|██████████| 79/79 [00:02<00:00, 34.93it/s, early_stop_count=0, loss=912.73]\n",
      "CVAE Epoch 19 train : 100%|██████████| 391/391 [00:15<00:00, 24.57it/s, early_stop_count=1, loss=910.33]\n",
      "CVAE Epoch 19 val   : 100%|██████████| 79/79 [00:02<00:00, 34.52it/s, early_stop_count=1, loss=913.02]\n",
      "CVAE Epoch 20 train : 100%|██████████| 391/391 [00:15<00:00, 24.64it/s, early_stop_count=2, loss=910.13]\n",
      "CVAE Epoch 20 val   : 100%|██████████| 79/79 [00:02<00:00, 34.76it/s, early_stop_count=2, loss=912.57]\n",
      "CVAE Epoch 21 train : 100%|██████████| 391/391 [00:15<00:00, 24.94it/s, early_stop_count=0, loss=909.88]\n",
      "CVAE Epoch 21 val   : 100%|██████████| 79/79 [00:02<00:00, 35.34it/s, early_stop_count=0, loss=912.20]\n",
      "CVAE Epoch 22 train : 100%|██████████| 391/391 [00:15<00:00, 24.96it/s, early_stop_count=0, loss=909.41]\n",
      "CVAE Epoch 22 val   : 100%|██████████| 79/79 [00:02<00:00, 35.37it/s, early_stop_count=0, loss=911.35]\n",
      "CVAE Epoch 23 train : 100%|██████████| 391/391 [00:15<00:00, 25.01it/s, early_stop_count=0, loss=908.79]\n",
      "CVAE Epoch 23 val   : 100%|██████████| 79/79 [00:02<00:00, 35.46it/s, early_stop_count=0, loss=911.29]\n",
      "CVAE Epoch 24 train : 100%|██████████| 391/391 [00:15<00:00, 25.17it/s, early_stop_count=1, loss=908.68]\n",
      "CVAE Epoch 24 val   : 100%|██████████| 79/79 [00:02<00:00, 35.43it/s, early_stop_count=1, loss=911.13]\n",
      "CVAE Epoch 25 train : 100%|██████████| 391/391 [00:15<00:00, 25.29it/s, early_stop_count=0, loss=908.29]\n",
      "CVAE Epoch 25 val   : 100%|██████████| 79/79 [00:02<00:00, 35.55it/s, early_stop_count=0, loss=910.97]\n",
      "CVAE Epoch 26 train : 100%|██████████| 391/391 [00:15<00:00, 25.29it/s, early_stop_count=1, loss=908.01]\n",
      "CVAE Epoch 26 val   : 100%|██████████| 79/79 [00:02<00:00, 35.51it/s, early_stop_count=1, loss=910.99]\n",
      "CVAE Epoch 27 train : 100%|██████████| 391/391 [00:15<00:00, 25.06it/s, early_stop_count=2, loss=908.21]\n",
      "CVAE Epoch 27 val   : 100%|██████████| 79/79 [00:02<00:00, 35.43it/s, early_stop_count=2, loss=910.23]\n",
      "CVAE Epoch 28 train : 100%|██████████| 391/391 [00:15<00:00, 24.97it/s, early_stop_count=0, loss=908.04]\n",
      "CVAE Epoch 28 val   : 100%|██████████| 79/79 [00:02<00:00, 35.42it/s, early_stop_count=0, loss=909.60]\n",
      "CVAE Epoch 29 train : 100%|██████████| 391/391 [00:15<00:00, 25.13it/s, early_stop_count=0, loss=907.90]\n",
      "CVAE Epoch 29 val   : 100%|██████████| 79/79 [00:02<00:00, 34.97it/s, early_stop_count=0, loss=909.85]\n",
      "CVAE Epoch 30 train : 100%|██████████| 391/391 [00:15<00:00, 24.82it/s, early_stop_count=1, loss=907.53]\n",
      "CVAE Epoch 30 val   : 100%|██████████| 79/79 [00:02<00:00, 34.92it/s, early_stop_count=1, loss=909.20]\n",
      "CVAE Epoch 31 train : 100%|██████████| 391/391 [00:15<00:00, 25.11it/s, early_stop_count=0, loss=907.48]\n",
      "CVAE Epoch 31 val   : 100%|██████████| 79/79 [00:02<00:00, 35.45it/s, early_stop_count=0, loss=909.82]\n",
      "CVAE Epoch 32 train : 100%|██████████| 391/391 [00:15<00:00, 25.25it/s, early_stop_count=1, loss=907.20]\n",
      "CVAE Epoch 32 val   : 100%|██████████| 79/79 [00:02<00:00, 35.45it/s, early_stop_count=1, loss=909.56]\n",
      "CVAE Epoch 33 train : 100%|██████████| 391/391 [00:15<00:00, 25.18it/s, early_stop_count=0, loss=907.31]\n",
      "CVAE Epoch 33 val   : 100%|██████████| 79/79 [00:02<00:00, 35.51it/s, early_stop_count=0, loss=909.13]\n",
      "CVAE Epoch 34 train : 100%|██████████| 391/391 [00:15<00:00, 25.16it/s, early_stop_count=0, loss=906.98]\n",
      "CVAE Epoch 34 val   : 100%|██████████| 79/79 [00:02<00:00, 35.33it/s, early_stop_count=0, loss=909.49]\n",
      "CVAE Epoch 35 train : 100%|██████████| 391/391 [00:15<00:00, 25.13it/s, early_stop_count=1, loss=906.54]\n",
      "CVAE Epoch 35 val   : 100%|██████████| 79/79 [00:02<00:00, 35.53it/s, early_stop_count=1, loss=909.51]\n",
      "CVAE Epoch 36 train : 100%|██████████| 391/391 [00:15<00:00, 25.07it/s, early_stop_count=2, loss=906.52]\n",
      "CVAE Epoch 36 val   : 100%|██████████| 79/79 [00:02<00:00, 35.01it/s, early_stop_count=2, loss=909.42]\n"
     ]
    },
    {
     "name": "stdout",
     "output_type": "stream",
     "text": [
      "Files already downloaded and verified\n",
      "Files already downloaded and verified\n"
     ]
    },
    {
     "name": "stderr",
     "output_type": "stream",
     "text": [
      "Clipping input data to the valid range for imshow with RGB data ([0..1] for floats or [0..255] for integers). Got range [-1.0..1.0].\n"
     ]
    },
    {
     "name": "stdout",
     "output_type": "stream",
     "text": [
      "Files already downloaded and verified\n",
      "Files already downloaded and verified\n"
     ]
    },
    {
     "name": "stderr",
     "output_type": "stream",
     "text": [
      "Generating predictions: 100%|██████████| 313/313 [00:14<00:00, 20.90it/s]\n"
     ]
    },
    {
     "name": "stdout",
     "output_type": "stream",
     "text": [
      "Df:                      2 quadrants\n",
      "NN (baseline)       2667.973771\n",
      "CVAE (Monte Carlo)  1077.155806\n",
      "Columns:  ['1 quadrant', '2 quadrants']\n",
      "Training with 3 quadrants as input...\n",
      "Files already downloaded and verified\n",
      "Files already downloaded and verified\n"
     ]
    },
    {
     "name": "stderr",
     "output_type": "stream",
     "text": [
      "NN Epoch 0 train    : 100%|██████████| 391/391 [00:11<00:00, 33.82it/s, early_stop_count=0, loss=485.29]\n",
      "NN Epoch 0 val      : 100%|██████████| 79/79 [00:02<00:00, 35.03it/s, early_stop_count=0, loss=476.13]\n",
      "NN Epoch 1 train    : 100%|██████████| 391/391 [00:11<00:00, 34.16it/s, early_stop_count=0, loss=472.70]\n",
      "NN Epoch 1 val      : 100%|██████████| 79/79 [00:02<00:00, 35.47it/s, early_stop_count=0, loss=471.73]\n",
      "NN Epoch 2 train    : 100%|██████████| 391/391 [00:11<00:00, 34.68it/s, early_stop_count=0, loss=468.51]\n",
      "NN Epoch 2 val      : 100%|██████████| 79/79 [00:02<00:00, 35.39it/s, early_stop_count=0, loss=467.99]\n",
      "NN Epoch 3 train    : 100%|██████████| 391/391 [00:11<00:00, 34.64it/s, early_stop_count=0, loss=466.20]\n",
      "NN Epoch 3 val      : 100%|██████████| 79/79 [00:02<00:00, 35.38it/s, early_stop_count=0, loss=466.30]\n",
      "NN Epoch 4 train    : 100%|██████████| 391/391 [00:11<00:00, 34.84it/s, early_stop_count=0, loss=464.66]\n",
      "NN Epoch 4 val      : 100%|██████████| 79/79 [00:02<00:00, 35.52it/s, early_stop_count=0, loss=465.62]\n",
      "NN Epoch 5 train    : 100%|██████████| 391/391 [00:11<00:00, 34.58it/s, early_stop_count=0, loss=463.60]\n",
      "NN Epoch 5 val      : 100%|██████████| 79/79 [00:02<00:00, 35.17it/s, early_stop_count=0, loss=464.61]\n",
      "NN Epoch 6 train    : 100%|██████████| 391/391 [00:11<00:00, 34.37it/s, early_stop_count=0, loss=462.66]\n",
      "NN Epoch 6 val      : 100%|██████████| 79/79 [00:02<00:00, 35.11it/s, early_stop_count=0, loss=463.64]\n",
      "NN Epoch 7 train    : 100%|██████████| 391/391 [00:11<00:00, 34.40it/s, early_stop_count=0, loss=461.82]\n",
      "NN Epoch 7 val      : 100%|██████████| 79/79 [00:02<00:00, 35.22it/s, early_stop_count=0, loss=462.58]\n",
      "NN Epoch 8 train    : 100%|██████████| 391/391 [00:11<00:00, 34.60it/s, early_stop_count=0, loss=461.26]\n",
      "NN Epoch 8 val      : 100%|██████████| 79/79 [00:02<00:00, 35.47it/s, early_stop_count=0, loss=462.46]\n",
      "NN Epoch 9 train    : 100%|██████████| 391/391 [00:11<00:00, 34.47it/s, early_stop_count=0, loss=460.66]\n",
      "NN Epoch 9 val      : 100%|██████████| 79/79 [00:02<00:00, 35.82it/s, early_stop_count=0, loss=461.82]\n",
      "NN Epoch 10 train   : 100%|██████████| 391/391 [00:11<00:00, 34.68it/s, early_stop_count=0, loss=460.44]\n",
      "NN Epoch 10 val     : 100%|██████████| 79/79 [00:02<00:00, 35.80it/s, early_stop_count=0, loss=460.58]\n",
      "NN Epoch 11 train   : 100%|██████████| 391/391 [00:11<00:00, 34.71it/s, early_stop_count=0, loss=459.72]\n",
      "NN Epoch 11 val     : 100%|██████████| 79/79 [00:02<00:00, 36.24it/s, early_stop_count=0, loss=461.02]\n",
      "NN Epoch 12 train   : 100%|██████████| 391/391 [00:11<00:00, 34.70it/s, early_stop_count=1, loss=459.47]\n",
      "NN Epoch 12 val     : 100%|██████████| 79/79 [00:02<00:00, 35.38it/s, early_stop_count=1, loss=460.62]\n",
      "NN Epoch 13 train   : 100%|██████████| 391/391 [00:11<00:00, 34.48it/s, early_stop_count=0, loss=459.30]\n",
      "NN Epoch 13 val     : 100%|██████████| 79/79 [00:02<00:00, 35.97it/s, early_stop_count=0, loss=461.11]\n",
      "NN Epoch 14 train   : 100%|██████████| 391/391 [00:11<00:00, 34.59it/s, early_stop_count=1, loss=458.96]\n",
      "NN Epoch 14 val     : 100%|██████████| 79/79 [00:02<00:00, 35.88it/s, early_stop_count=1, loss=460.43]\n",
      "NN Epoch 15 train   : 100%|██████████| 391/391 [00:11<00:00, 34.04it/s, early_stop_count=0, loss=458.70]\n",
      "NN Epoch 15 val     : 100%|██████████| 79/79 [00:02<00:00, 35.94it/s, early_stop_count=0, loss=460.07]\n",
      "NN Epoch 16 train   : 100%|██████████| 391/391 [00:11<00:00, 34.19it/s, early_stop_count=0, loss=458.46]\n",
      "NN Epoch 16 val     : 100%|██████████| 79/79 [00:02<00:00, 36.11it/s, early_stop_count=0, loss=459.51]\n",
      "NN Epoch 17 train   : 100%|██████████| 391/391 [00:11<00:00, 34.69it/s, early_stop_count=0, loss=458.29]\n",
      "NN Epoch 17 val     : 100%|██████████| 79/79 [00:02<00:00, 36.00it/s, early_stop_count=0, loss=459.21]\n",
      "NN Epoch 18 train   : 100%|██████████| 391/391 [00:11<00:00, 34.90it/s, early_stop_count=0, loss=458.09]\n",
      "NN Epoch 18 val     : 100%|██████████| 79/79 [00:02<00:00, 36.32it/s, early_stop_count=0, loss=459.15]\n",
      "NN Epoch 19 train   : 100%|██████████| 391/391 [00:11<00:00, 34.55it/s, early_stop_count=0, loss=458.22]\n",
      "NN Epoch 19 val     : 100%|██████████| 79/79 [00:02<00:00, 36.14it/s, early_stop_count=0, loss=459.35]\n",
      "NN Epoch 20 train   : 100%|██████████| 391/391 [00:11<00:00, 34.66it/s, early_stop_count=1, loss=458.02]\n",
      "NN Epoch 20 val     : 100%|██████████| 79/79 [00:02<00:00, 34.91it/s, early_stop_count=1, loss=458.95]\n",
      "NN Epoch 21 train   : 100%|██████████| 391/391 [00:11<00:00, 34.54it/s, early_stop_count=0, loss=457.81]\n",
      "NN Epoch 21 val     : 100%|██████████| 79/79 [00:02<00:00, 35.75it/s, early_stop_count=0, loss=458.54]\n",
      "NN Epoch 22 train   : 100%|██████████| 391/391 [00:11<00:00, 33.36it/s, early_stop_count=0, loss=457.89]\n",
      "NN Epoch 22 val     : 100%|██████████| 79/79 [00:02<00:00, 36.20it/s, early_stop_count=0, loss=459.13]\n",
      "NN Epoch 23 train   : 100%|██████████| 391/391 [00:11<00:00, 34.49it/s, early_stop_count=1, loss=457.49]\n",
      "NN Epoch 23 val     : 100%|██████████| 79/79 [00:02<00:00, 36.08it/s, early_stop_count=1, loss=458.83]\n",
      "NN Epoch 24 train   : 100%|██████████| 391/391 [00:11<00:00, 33.84it/s, early_stop_count=2, loss=457.33]\n",
      "NN Epoch 24 val     : 100%|██████████| 79/79 [00:02<00:00, 35.94it/s, early_stop_count=2, loss=458.57]\n",
      "CVAE Epoch 0 train  : 100%|██████████| 391/391 [00:16<00:00, 23.26it/s, early_stop_count=0, loss=516.62]\n",
      "CVAE Epoch 0 val    : 100%|██████████| 79/79 [00:02<00:00, 31.94it/s, early_stop_count=0, loss=481.90]\n",
      "CVAE Epoch 1 train  : 100%|██████████| 391/391 [00:16<00:00, 23.34it/s, early_stop_count=0, loss=475.45]\n",
      "CVAE Epoch 1 val    : 100%|██████████| 79/79 [00:02<00:00, 31.84it/s, early_stop_count=0, loss=472.88]\n",
      "CVAE Epoch 2 train  : 100%|██████████| 391/391 [00:16<00:00, 23.11it/s, early_stop_count=0, loss=468.29]\n",
      "CVAE Epoch 2 val    : 100%|██████████| 79/79 [00:02<00:00, 31.96it/s, early_stop_count=0, loss=466.90]\n",
      "CVAE Epoch 3 train  : 100%|██████████| 391/391 [00:16<00:00, 23.02it/s, early_stop_count=0, loss=464.83]\n",
      "CVAE Epoch 3 val    : 100%|██████████| 79/79 [00:02<00:00, 31.40it/s, early_stop_count=0, loss=464.97]\n",
      "CVAE Epoch 4 train  : 100%|██████████| 391/391 [00:16<00:00, 23.14it/s, early_stop_count=0, loss=463.21]\n",
      "CVAE Epoch 4 val    : 100%|██████████| 79/79 [00:02<00:00, 31.85it/s, early_stop_count=0, loss=463.04]\n",
      "CVAE Epoch 5 train  : 100%|██████████| 391/391 [00:16<00:00, 23.32it/s, early_stop_count=0, loss=461.88]\n",
      "CVAE Epoch 5 val    : 100%|██████████| 79/79 [00:02<00:00, 31.52it/s, early_stop_count=0, loss=462.85]\n",
      "CVAE Epoch 6 train  : 100%|██████████| 391/391 [00:16<00:00, 23.03it/s, early_stop_count=0, loss=461.26]\n",
      "CVAE Epoch 6 val    : 100%|██████████| 79/79 [00:02<00:00, 30.85it/s, early_stop_count=0, loss=462.88]\n",
      "CVAE Epoch 7 train  : 100%|██████████| 391/391 [00:16<00:00, 23.24it/s, early_stop_count=1, loss=460.50]\n",
      "CVAE Epoch 7 val    : 100%|██████████| 79/79 [00:02<00:00, 31.78it/s, early_stop_count=1, loss=462.18]\n",
      "CVAE Epoch 8 train  : 100%|██████████| 391/391 [00:16<00:00, 23.40it/s, early_stop_count=0, loss=460.10]\n",
      "CVAE Epoch 8 val    : 100%|██████████| 79/79 [00:02<00:00, 31.41it/s, early_stop_count=0, loss=461.42]\n",
      "CVAE Epoch 9 train  : 100%|██████████| 391/391 [00:16<00:00, 23.41it/s, early_stop_count=0, loss=459.80]\n",
      "CVAE Epoch 9 val    : 100%|██████████| 79/79 [00:02<00:00, 31.43it/s, early_stop_count=0, loss=460.28]\n",
      "CVAE Epoch 10 train : 100%|██████████| 391/391 [00:16<00:00, 23.11it/s, early_stop_count=0, loss=459.36]\n",
      "CVAE Epoch 10 val   : 100%|██████████| 79/79 [00:02<00:00, 31.52it/s, early_stop_count=0, loss=460.59]\n",
      "CVAE Epoch 11 train : 100%|██████████| 391/391 [00:16<00:00, 23.15it/s, early_stop_count=1, loss=459.14]\n",
      "CVAE Epoch 11 val   : 100%|██████████| 79/79 [00:02<00:00, 31.49it/s, early_stop_count=1, loss=460.18]\n",
      "CVAE Epoch 12 train : 100%|██████████| 391/391 [00:16<00:00, 23.06it/s, early_stop_count=0, loss=458.93]\n",
      "CVAE Epoch 12 val   : 100%|██████████| 79/79 [00:02<00:00, 31.48it/s, early_stop_count=0, loss=459.74]\n",
      "CVAE Epoch 13 train : 100%|██████████| 391/391 [00:16<00:00, 23.12it/s, early_stop_count=0, loss=458.60]\n",
      "CVAE Epoch 13 val   : 100%|██████████| 79/79 [00:02<00:00, 31.50it/s, early_stop_count=0, loss=459.73]\n",
      "CVAE Epoch 14 train : 100%|██████████| 391/391 [00:16<00:00, 23.06it/s, early_stop_count=0, loss=458.40]\n",
      "CVAE Epoch 14 val   : 100%|██████████| 79/79 [00:02<00:00, 31.57it/s, early_stop_count=0, loss=459.17]\n",
      "CVAE Epoch 15 train : 100%|██████████| 391/391 [00:16<00:00, 23.07it/s, early_stop_count=0, loss=457.91]\n",
      "CVAE Epoch 15 val   : 100%|██████████| 79/79 [00:02<00:00, 31.99it/s, early_stop_count=0, loss=459.75]\n",
      "CVAE Epoch 16 train : 100%|██████████| 391/391 [00:16<00:00, 23.14it/s, early_stop_count=1, loss=457.79]\n",
      "CVAE Epoch 16 val   : 100%|██████████| 79/79 [00:02<00:00, 31.77it/s, early_stop_count=1, loss=459.00]\n",
      "CVAE Epoch 17 train : 100%|██████████| 391/391 [00:16<00:00, 23.01it/s, early_stop_count=0, loss=457.78]\n",
      "CVAE Epoch 17 val   : 100%|██████████| 79/79 [00:02<00:00, 31.44it/s, early_stop_count=0, loss=458.60]\n",
      "CVAE Epoch 18 train : 100%|██████████| 391/391 [00:16<00:00, 23.05it/s, early_stop_count=0, loss=457.44]\n",
      "CVAE Epoch 18 val   : 100%|██████████| 79/79 [00:02<00:00, 31.52it/s, early_stop_count=0, loss=458.26]\n",
      "CVAE Epoch 19 train : 100%|██████████| 391/391 [00:16<00:00, 23.16it/s, early_stop_count=0, loss=457.45]\n",
      "CVAE Epoch 19 val   : 100%|██████████| 79/79 [00:02<00:00, 31.47it/s, early_stop_count=0, loss=458.39]\n",
      "CVAE Epoch 20 train : 100%|██████████| 391/391 [00:16<00:00, 23.01it/s, early_stop_count=1, loss=457.07]\n",
      "CVAE Epoch 20 val   : 100%|██████████| 79/79 [00:02<00:00, 31.70it/s, early_stop_count=1, loss=458.27]\n",
      "CVAE Epoch 21 train : 100%|██████████| 391/391 [00:16<00:00, 23.06it/s, early_stop_count=2, loss=456.75]\n",
      "CVAE Epoch 21 val   : 100%|██████████| 79/79 [00:02<00:00, 31.57it/s, early_stop_count=2, loss=458.39]\n"
     ]
    },
    {
     "name": "stdout",
     "output_type": "stream",
     "text": [
      "Files already downloaded and verified\n",
      "Files already downloaded and verified\n"
     ]
    },
    {
     "name": "stderr",
     "output_type": "stream",
     "text": [
      "Clipping input data to the valid range for imshow with RGB data ([0..1] for floats or [0..255] for integers). Got range [-1.0..1.0].\n"
     ]
    },
    {
     "name": "stdout",
     "output_type": "stream",
     "text": [
      "Files already downloaded and verified\n",
      "Files already downloaded and verified\n"
     ]
    },
    {
     "name": "stderr",
     "output_type": "stream",
     "text": [
      "Generating predictions: 100%|██████████| 313/313 [00:14<00:00, 21.02it/s]\n"
     ]
    },
    {
     "name": "stdout",
     "output_type": "stream",
     "text": [
      "Df:                      3 quadrants\n",
      "NN (baseline)       2338.189822\n",
      "CVAE (Monte Carlo)   622.566484\n",
      "Columns:  ['1 quadrant', '2 quadrants', '3 quadrants']\n"
     ]
    },
    {
     "data": {
      "text/plain": [
       "<Figure size 640x480 with 0 Axes>"
      ]
     },
     "metadata": {},
     "output_type": "display_data"
    }
   ],
   "source": [
    "args = argparse.Namespace(\n",
    "    num_quadrant_inputs=[1, 2, 3],\n",
    "    num_epochs=101,\n",
    "    early_stop_patience=3,\n",
    "    learning_rate=1.0e-3,\n",
    "    cuda=True,\n",
    "    num_images=10,\n",
    "    num_samples=10,\n",
    "    num_particles=10,\n",
    "    dataset=\"cifar10\",\n",
    "    random_mask=True,\n",
    "    z_dim=200,\n",
    "    hidden_1=500, # won't be used, but needs to be set\n",
    "    hidden_2=500, # won't be used, but needs to be set\n",
    "    use_conv=True,\n",
    "    allow_baseline_reuse=False,\n",
    ")\n",
    "\n",
    "main(args)"
   ]
  },
  {
   "cell_type": "code",
   "execution_count": 7,
   "id": "df85be2d-4c33-4bd3-98ad-4d52f2c90efd",
   "metadata": {
    "editable": true,
    "slideshow": {
     "slide_type": ""
    },
    "tags": []
   },
   "outputs": [
    {
     "name": "stdout",
     "output_type": "stream",
     "text": [
      "Baseline train: True\n",
      "CVAE train: True\n"
     ]
    }
   ],
   "source": [
    "import cvae\n",
    "import baseline\n",
    "\n",
    "print(\"Baseline train:\", hasattr(baseline, \"train\"))\n",
    "print(\"CVAE train:\", hasattr(cvae, \"train\"))"
   ]
  },
  {
   "cell_type": "code",
   "execution_count": 8,
   "id": "4e344d48-f690-404d-811b-dedccd07374e",
   "metadata": {},
   "outputs": [
    {
     "name": "stdout",
     "output_type": "stream",
     "text": [
      "/home/e12333452/probai/./CVAE/cvae.py\n"
     ]
    }
   ],
   "source": [
    "import cvae\n",
    "print(cvae.__file__)"
   ]
  },
  {
   "cell_type": "code",
   "execution_count": null,
   "id": "f126b382-ca61-4fec-bf95-3e02ea882deb",
   "metadata": {},
   "outputs": [],
   "source": []
  }
 ],
 "metadata": {
  "kernelspec": {
   "display_name": "Python 3 (ipykernel)",
   "language": "python",
   "name": "python3"
  },
  "language_info": {
   "codemirror_mode": {
    "name": "ipython",
    "version": 3
   },
   "file_extension": ".py",
   "mimetype": "text/x-python",
   "name": "python",
   "nbconvert_exporter": "python",
   "pygments_lexer": "ipython3",
   "version": "3.11.10"
  }
 },
 "nbformat": 4,
 "nbformat_minor": 5
}
