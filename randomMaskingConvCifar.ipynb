{
 "cells": [
  {
   "cell_type": "code",
   "execution_count": 1,
   "id": "c13b282a-d821-4307-9e9f-679f0079b2f1",
   "metadata": {
    "editable": true,
    "slideshow": {
     "slide_type": ""
    },
    "tags": []
   },
   "outputs": [],
   "source": [
    "import sys\n",
    "sys.path.append(\"./CVAE\")"
   ]
  },
  {
   "cell_type": "code",
   "execution_count": 2,
   "id": "6b6feea9-bc48-4b0f-9241-c5676fe69398",
   "metadata": {
    "editable": true,
    "slideshow": {
     "slide_type": ""
    },
    "tags": []
   },
   "outputs": [],
   "source": [
    "from main import main\n",
    "import argparse"
   ]
  },
  {
   "cell_type": "code",
   "execution_count": 3,
   "id": "f80c4eec-449d-4743-bac5-8d179d13d5c6",
   "metadata": {
    "editable": true,
    "slideshow": {
     "slide_type": ""
    },
    "tags": []
   },
   "outputs": [
    {
     "name": "stdout",
     "output_type": "stream",
     "text": [
      "Device:  cuda:0\n",
      "Using random mask\n",
      "Training with 1 quadrant as input...\n",
      "Files already downloaded and verified\n",
      "Files already downloaded and verified\n"
     ]
    },
    {
     "name": "stderr",
     "output_type": "stream",
     "text": [
      "NN Epoch 0 train    : 100%|██████████| 391/391 [00:09<00:00, 39.26it/s, early_stop_count=0, loss=1511.85]\n",
      "NN Epoch 0 val      : 100%|██████████| 79/79 [00:01<00:00, 41.91it/s, early_stop_count=0, loss=1497.73]\n",
      "NN Epoch 1 train    : 100%|██████████| 391/391 [00:09<00:00, 39.73it/s, early_stop_count=0, loss=1482.48]\n",
      "NN Epoch 1 val      : 100%|██████████| 79/79 [00:01<00:00, 42.35it/s, early_stop_count=0, loss=1473.61]\n",
      "NN Epoch 2 train    : 100%|██████████| 391/391 [00:09<00:00, 40.06it/s, early_stop_count=0, loss=1468.13]\n",
      "NN Epoch 2 val      : 100%|██████████| 79/79 [00:01<00:00, 42.52it/s, early_stop_count=0, loss=1464.80]\n",
      "NN Epoch 3 train    : 100%|██████████| 391/391 [00:09<00:00, 40.13it/s, early_stop_count=0, loss=1463.84]\n",
      "NN Epoch 3 val      : 100%|██████████| 79/79 [00:01<00:00, 43.02it/s, early_stop_count=0, loss=1462.06]\n",
      "NN Epoch 4 train    : 100%|██████████| 391/391 [00:09<00:00, 39.94it/s, early_stop_count=0, loss=1459.43]\n",
      "NN Epoch 4 val      : 100%|██████████| 79/79 [00:01<00:00, 43.64it/s, early_stop_count=0, loss=1457.33]\n",
      "NN Epoch 5 train    : 100%|██████████| 391/391 [00:09<00:00, 40.35it/s, early_stop_count=0, loss=1455.82]\n",
      "NN Epoch 5 val      : 100%|██████████| 79/79 [00:01<00:00, 42.72it/s, early_stop_count=0, loss=1455.72]\n",
      "NN Epoch 6 train    : 100%|██████████| 391/391 [00:09<00:00, 40.63it/s, early_stop_count=0, loss=1453.81]\n",
      "NN Epoch 6 val      : 100%|██████████| 79/79 [00:01<00:00, 43.04it/s, early_stop_count=0, loss=1454.25]\n",
      "NN Epoch 7 train    : 100%|██████████| 391/391 [00:09<00:00, 39.35it/s, early_stop_count=0, loss=1452.06]\n",
      "NN Epoch 7 val      : 100%|██████████| 79/79 [00:01<00:00, 43.81it/s, early_stop_count=0, loss=1453.56]\n",
      "NN Epoch 8 train    : 100%|██████████| 391/391 [00:09<00:00, 41.03it/s, early_stop_count=0, loss=1450.92]\n",
      "NN Epoch 8 val      : 100%|██████████| 79/79 [00:01<00:00, 43.11it/s, early_stop_count=0, loss=1451.17]\n",
      "NN Epoch 9 train    : 100%|██████████| 391/391 [00:09<00:00, 41.02it/s, early_stop_count=0, loss=1449.34]\n",
      "NN Epoch 9 val      : 100%|██████████| 79/79 [00:01<00:00, 42.92it/s, early_stop_count=0, loss=1450.47]\n",
      "NN Epoch 10 train   : 100%|██████████| 391/391 [00:09<00:00, 40.75it/s, early_stop_count=0, loss=1448.38]\n",
      "NN Epoch 10 val     : 100%|██████████| 79/79 [00:01<00:00, 43.76it/s, early_stop_count=0, loss=1449.49]\n",
      "NN Epoch 11 train   : 100%|██████████| 391/391 [00:09<00:00, 40.88it/s, early_stop_count=0, loss=1447.67]\n",
      "NN Epoch 11 val     : 100%|██████████| 79/79 [00:01<00:00, 43.53it/s, early_stop_count=0, loss=1449.39]\n",
      "NN Epoch 12 train   : 100%|██████████| 391/391 [00:09<00:00, 40.71it/s, early_stop_count=0, loss=1446.23]\n",
      "NN Epoch 12 val     : 100%|██████████| 79/79 [00:01<00:00, 43.54it/s, early_stop_count=0, loss=1448.27]\n",
      "NN Epoch 13 train   : 100%|██████████| 391/391 [00:09<00:00, 40.75it/s, early_stop_count=0, loss=1446.07]\n",
      "NN Epoch 13 val     : 100%|██████████| 79/79 [00:01<00:00, 43.57it/s, early_stop_count=0, loss=1447.53]\n",
      "NN Epoch 14 train   : 100%|██████████| 391/391 [00:09<00:00, 40.92it/s, early_stop_count=0, loss=1445.40]\n",
      "NN Epoch 14 val     : 100%|██████████| 79/79 [00:01<00:00, 43.53it/s, early_stop_count=0, loss=1447.33]\n",
      "NN Epoch 15 train   : 100%|██████████| 391/391 [00:09<00:00, 40.98it/s, early_stop_count=1, loss=1444.90]\n",
      "NN Epoch 15 val     : 100%|██████████| 79/79 [00:01<00:00, 43.74it/s, early_stop_count=1, loss=1445.64]\n",
      "NN Epoch 16 train   : 100%|██████████| 391/391 [00:09<00:00, 40.76it/s, early_stop_count=0, loss=1444.21]\n",
      "NN Epoch 16 val     : 100%|██████████| 79/79 [00:01<00:00, 42.62it/s, early_stop_count=0, loss=1444.88]\n",
      "NN Epoch 17 train   : 100%|██████████| 391/391 [00:09<00:00, 40.94it/s, early_stop_count=0, loss=1443.18]\n",
      "NN Epoch 17 val     : 100%|██████████| 79/79 [00:01<00:00, 43.74it/s, early_stop_count=0, loss=1443.38]\n",
      "NN Epoch 18 train   : 100%|██████████| 391/391 [00:09<00:00, 40.87it/s, early_stop_count=0, loss=1442.48]\n",
      "NN Epoch 18 val     : 100%|██████████| 79/79 [00:01<00:00, 44.03it/s, early_stop_count=0, loss=1445.35]\n",
      "NN Epoch 19 train   : 100%|██████████| 391/391 [00:09<00:00, 40.81it/s, early_stop_count=1, loss=1441.99]\n",
      "NN Epoch 19 val     : 100%|██████████| 79/79 [00:01<00:00, 43.40it/s, early_stop_count=1, loss=1443.78]\n",
      "NN Epoch 20 train   : 100%|██████████| 391/391 [00:09<00:00, 40.95it/s, early_stop_count=2, loss=1441.10]\n",
      "NN Epoch 20 val     : 100%|██████████| 79/79 [00:01<00:00, 43.74it/s, early_stop_count=2, loss=1443.04]\n",
      "NN Epoch 21 train   : 100%|██████████| 391/391 [00:09<00:00, 40.70it/s, early_stop_count=0, loss=1440.71]\n",
      "NN Epoch 21 val     : 100%|██████████| 79/79 [00:01<00:00, 43.67it/s, early_stop_count=0, loss=1445.00]\n",
      "NN Epoch 22 train   : 100%|██████████| 391/391 [00:09<00:00, 41.24it/s, early_stop_count=1, loss=1440.09]\n",
      "NN Epoch 22 val     : 100%|██████████| 79/79 [00:01<00:00, 43.44it/s, early_stop_count=1, loss=1441.79]\n",
      "NN Epoch 23 train   : 100%|██████████| 391/391 [00:09<00:00, 41.01it/s, early_stop_count=0, loss=1440.11]\n",
      "NN Epoch 23 val     : 100%|██████████| 79/79 [00:01<00:00, 43.74it/s, early_stop_count=0, loss=1443.67]\n",
      "NN Epoch 24 train   : 100%|██████████| 391/391 [00:09<00:00, 40.73it/s, early_stop_count=1, loss=1439.16]\n",
      "NN Epoch 24 val     : 100%|██████████| 79/79 [00:01<00:00, 44.00it/s, early_stop_count=1, loss=1442.14]\n",
      "NN Epoch 25 train   : 100%|██████████| 391/391 [00:09<00:00, 40.91it/s, early_stop_count=2, loss=1439.16]\n",
      "NN Epoch 25 val     : 100%|██████████| 79/79 [00:01<00:00, 43.58it/s, early_stop_count=2, loss=1442.16]\n",
      "CVAE Epoch 0 train  : 100%|██████████| 391/391 [00:12<00:00, 30.50it/s, early_stop_count=0, loss=1493.17]\n",
      "CVAE Epoch 0 val    : 100%|██████████| 79/79 [00:02<00:00, 39.18it/s, early_stop_count=0, loss=1462.19]\n",
      "CVAE Epoch 1 train  : 100%|██████████| 391/391 [00:12<00:00, 31.01it/s, early_stop_count=0, loss=1458.19]\n",
      "CVAE Epoch 1 val    : 100%|██████████| 79/79 [00:02<00:00, 38.05it/s, early_stop_count=0, loss=1458.91]\n",
      "CVAE Epoch 2 train  : 100%|██████████| 391/391 [00:12<00:00, 30.83it/s, early_stop_count=0, loss=1453.06]\n",
      "CVAE Epoch 2 val    : 100%|██████████| 79/79 [00:02<00:00, 39.47it/s, early_stop_count=0, loss=1450.51]\n",
      "CVAE Epoch 3 train  : 100%|██████████| 391/391 [00:12<00:00, 30.99it/s, early_stop_count=0, loss=1445.47]\n",
      "CVAE Epoch 3 val    : 100%|██████████| 79/79 [00:02<00:00, 39.23it/s, early_stop_count=0, loss=1445.30]\n",
      "CVAE Epoch 4 train  : 100%|██████████| 391/391 [00:12<00:00, 30.55it/s, early_stop_count=0, loss=1438.80]\n",
      "CVAE Epoch 4 val    : 100%|██████████| 79/79 [00:02<00:00, 38.25it/s, early_stop_count=0, loss=1438.50]\n",
      "CVAE Epoch 5 train  : 100%|██████████| 391/391 [00:12<00:00, 30.88it/s, early_stop_count=0, loss=1430.76]\n",
      "CVAE Epoch 5 val    : 100%|██████████| 79/79 [00:02<00:00, 39.09it/s, early_stop_count=0, loss=1429.57]\n",
      "CVAE Epoch 6 train  : 100%|██████████| 391/391 [00:12<00:00, 31.08it/s, early_stop_count=0, loss=1422.59]\n",
      "CVAE Epoch 6 val    : 100%|██████████| 79/79 [00:02<00:00, 39.08it/s, early_stop_count=0, loss=1422.24]\n",
      "CVAE Epoch 7 train  : 100%|██████████| 391/391 [00:12<00:00, 30.39it/s, early_stop_count=0, loss=1417.87]\n",
      "CVAE Epoch 7 val    : 100%|██████████| 79/79 [00:02<00:00, 38.58it/s, early_stop_count=0, loss=1418.60]\n",
      "CVAE Epoch 8 train  : 100%|██████████| 391/391 [00:12<00:00, 30.55it/s, early_stop_count=0, loss=1414.30]\n",
      "CVAE Epoch 8 val    : 100%|██████████| 79/79 [00:02<00:00, 39.02it/s, early_stop_count=0, loss=1417.18]\n",
      "CVAE Epoch 9 train  : 100%|██████████| 391/391 [00:12<00:00, 30.71it/s, early_stop_count=0, loss=1412.29]\n",
      "CVAE Epoch 9 val    : 100%|██████████| 79/79 [00:02<00:00, 39.43it/s, early_stop_count=0, loss=1413.88]\n",
      "CVAE Epoch 10 train : 100%|██████████| 391/391 [00:12<00:00, 30.79it/s, early_stop_count=0, loss=1408.09]\n",
      "CVAE Epoch 10 val   : 100%|██████████| 79/79 [00:02<00:00, 39.35it/s, early_stop_count=0, loss=1411.45]\n",
      "CVAE Epoch 11 train : 100%|██████████| 391/391 [00:12<00:00, 30.98it/s, early_stop_count=0, loss=1405.40]\n",
      "CVAE Epoch 11 val   : 100%|██████████| 79/79 [00:02<00:00, 39.30it/s, early_stop_count=0, loss=1407.36]\n",
      "CVAE Epoch 12 train : 100%|██████████| 391/391 [00:12<00:00, 30.46it/s, early_stop_count=0, loss=1403.71]\n",
      "CVAE Epoch 12 val   : 100%|██████████| 79/79 [00:02<00:00, 38.42it/s, early_stop_count=0, loss=1406.38]\n",
      "CVAE Epoch 13 train : 100%|██████████| 391/391 [00:12<00:00, 30.33it/s, early_stop_count=0, loss=1402.87]\n",
      "CVAE Epoch 13 val   : 100%|██████████| 79/79 [00:02<00:00, 38.84it/s, early_stop_count=0, loss=1405.10]\n",
      "CVAE Epoch 14 train : 100%|██████████| 391/391 [00:12<00:00, 30.56it/s, early_stop_count=0, loss=1401.54]\n",
      "CVAE Epoch 14 val   : 100%|██████████| 79/79 [00:02<00:00, 38.77it/s, early_stop_count=0, loss=1405.58]\n",
      "CVAE Epoch 15 train : 100%|██████████| 391/391 [00:12<00:00, 30.65it/s, early_stop_count=1, loss=1400.96]\n",
      "CVAE Epoch 15 val   : 100%|██████████| 79/79 [00:02<00:00, 38.74it/s, early_stop_count=1, loss=1405.90]\n",
      "CVAE Epoch 16 train : 100%|██████████| 391/391 [00:12<00:00, 30.64it/s, early_stop_count=2, loss=1400.34]\n",
      "CVAE Epoch 16 val   : 100%|██████████| 79/79 [00:02<00:00, 38.96it/s, early_stop_count=2, loss=1403.65]\n",
      "CVAE Epoch 17 train : 100%|██████████| 391/391 [00:12<00:00, 30.65it/s, early_stop_count=0, loss=1399.95]\n",
      "CVAE Epoch 17 val   : 100%|██████████| 79/79 [00:02<00:00, 39.28it/s, early_stop_count=0, loss=1401.70]\n",
      "CVAE Epoch 18 train : 100%|██████████| 391/391 [00:12<00:00, 30.84it/s, early_stop_count=0, loss=1398.86]\n",
      "CVAE Epoch 18 val   : 100%|██████████| 79/79 [00:02<00:00, 39.25it/s, early_stop_count=0, loss=1403.79]\n",
      "CVAE Epoch 19 train : 100%|██████████| 391/391 [00:12<00:00, 30.76it/s, early_stop_count=1, loss=1398.49]\n",
      "CVAE Epoch 19 val   : 100%|██████████| 79/79 [00:02<00:00, 36.35it/s, early_stop_count=1, loss=1402.28]\n",
      "CVAE Epoch 20 train : 100%|██████████| 391/391 [00:12<00:00, 30.14it/s, early_stop_count=2, loss=1397.87]\n",
      "CVAE Epoch 20 val   : 100%|██████████| 79/79 [00:02<00:00, 39.01it/s, early_stop_count=2, loss=1402.37]\n"
     ]
    },
    {
     "name": "stdout",
     "output_type": "stream",
     "text": [
      "Files already downloaded and verified\n",
      "Files already downloaded and verified\n"
     ]
    },
    {
     "name": "stderr",
     "output_type": "stream",
     "text": [
      "Clipping input data to the valid range for imshow with RGB data ([0..1] for floats or [0..255] for integers). Got range [-1.0..1.0].\n"
     ]
    },
    {
     "name": "stdout",
     "output_type": "stream",
     "text": [
      "Files already downloaded and verified\n",
      "Files already downloaded and verified\n"
     ]
    },
    {
     "name": "stderr",
     "output_type": "stream",
     "text": [
      "Generating predictions: 100%|██████████| 313/313 [00:12<00:00, 25.91it/s]\n"
     ]
    },
    {
     "name": "stdout",
     "output_type": "stream",
     "text": [
      "Df:                       1 quadrant\n",
      "NN (baseline)        3280.75393\n",
      "CVAE (Monte Carlo)  1412.373284\n",
      "Columns:  ['1 quadrant']\n",
      "Training with 2 quadrants as input...\n",
      "Files already downloaded and verified\n",
      "Files already downloaded and verified\n"
     ]
    },
    {
     "name": "stderr",
     "output_type": "stream",
     "text": [
      "NN Epoch 0 train    : 100%|██████████| 391/391 [00:10<00:00, 36.00it/s, early_stop_count=0, loss=984.84] \n",
      "NN Epoch 0 val      : 100%|██████████| 79/79 [00:02<00:00, 37.59it/s, early_stop_count=0, loss=970.71]\n",
      "NN Epoch 1 train    : 100%|██████████| 391/391 [00:10<00:00, 35.70it/s, early_stop_count=0, loss=962.53]\n",
      "NN Epoch 1 val      : 100%|██████████| 79/79 [00:02<00:00, 37.44it/s, early_stop_count=0, loss=957.63]\n",
      "NN Epoch 2 train    : 100%|██████████| 391/391 [00:10<00:00, 36.04it/s, early_stop_count=0, loss=954.22]\n",
      "NN Epoch 2 val      : 100%|██████████| 79/79 [00:02<00:00, 37.59it/s, early_stop_count=0, loss=953.52]\n",
      "NN Epoch 3 train    : 100%|██████████| 391/391 [00:10<00:00, 36.39it/s, early_stop_count=0, loss=950.69]\n",
      "NN Epoch 3 val      : 100%|██████████| 79/79 [00:02<00:00, 38.29it/s, early_stop_count=0, loss=952.16]\n",
      "NN Epoch 4 train    : 100%|██████████| 391/391 [00:10<00:00, 36.15it/s, early_stop_count=0, loss=948.37]\n",
      "NN Epoch 4 val      : 100%|██████████| 79/79 [00:02<00:00, 37.92it/s, early_stop_count=0, loss=949.72]\n",
      "NN Epoch 5 train    : 100%|██████████| 391/391 [00:10<00:00, 36.30it/s, early_stop_count=0, loss=946.58]\n",
      "NN Epoch 5 val      : 100%|██████████| 79/79 [00:02<00:00, 36.68it/s, early_stop_count=0, loss=946.91]\n",
      "NN Epoch 6 train    : 100%|██████████| 391/391 [00:10<00:00, 35.58it/s, early_stop_count=0, loss=944.55]\n",
      "NN Epoch 6 val      : 100%|██████████| 79/79 [00:02<00:00, 37.46it/s, early_stop_count=0, loss=944.76]\n",
      "NN Epoch 7 train    : 100%|██████████| 391/391 [00:10<00:00, 36.06it/s, early_stop_count=0, loss=942.62]\n",
      "NN Epoch 7 val      : 100%|██████████| 79/79 [00:02<00:00, 38.00it/s, early_stop_count=0, loss=943.36]\n",
      "NN Epoch 8 train    : 100%|██████████| 391/391 [00:10<00:00, 35.75it/s, early_stop_count=0, loss=941.02]\n",
      "NN Epoch 8 val      : 100%|██████████| 79/79 [00:02<00:00, 37.85it/s, early_stop_count=0, loss=943.46]\n",
      "NN Epoch 9 train    : 100%|██████████| 391/391 [00:10<00:00, 36.19it/s, early_stop_count=1, loss=940.38]\n",
      "NN Epoch 9 val      : 100%|██████████| 79/79 [00:02<00:00, 37.91it/s, early_stop_count=1, loss=942.86]\n",
      "NN Epoch 10 train   : 100%|██████████| 391/391 [00:10<00:00, 36.03it/s, early_stop_count=0, loss=939.01]\n",
      "NN Epoch 10 val     : 100%|██████████| 79/79 [00:02<00:00, 38.65it/s, early_stop_count=0, loss=941.07]\n",
      "NN Epoch 11 train   : 100%|██████████| 391/391 [00:10<00:00, 36.20it/s, early_stop_count=0, loss=938.26]\n",
      "NN Epoch 11 val     : 100%|██████████| 79/79 [00:02<00:00, 38.03it/s, early_stop_count=0, loss=939.29]\n",
      "NN Epoch 12 train   : 100%|██████████| 391/391 [00:10<00:00, 36.16it/s, early_stop_count=0, loss=937.50]\n",
      "NN Epoch 12 val     : 100%|██████████| 79/79 [00:02<00:00, 38.24it/s, early_stop_count=0, loss=939.22]\n",
      "NN Epoch 13 train   : 100%|██████████| 391/391 [00:10<00:00, 36.06it/s, early_stop_count=0, loss=936.99]\n",
      "NN Epoch 13 val     : 100%|██████████| 79/79 [00:02<00:00, 38.52it/s, early_stop_count=0, loss=939.32]\n",
      "NN Epoch 14 train   : 100%|██████████| 391/391 [00:10<00:00, 36.19it/s, early_stop_count=0, loss=936.14]\n",
      "NN Epoch 14 val     : 100%|██████████| 79/79 [00:02<00:00, 38.56it/s, early_stop_count=0, loss=938.02]\n",
      "NN Epoch 15 train   : 100%|██████████| 391/391 [00:10<00:00, 36.01it/s, early_stop_count=0, loss=935.52]\n",
      "NN Epoch 15 val     : 100%|██████████| 79/79 [00:02<00:00, 38.21it/s, early_stop_count=0, loss=937.77]\n",
      "NN Epoch 16 train   : 100%|██████████| 391/391 [00:10<00:00, 36.26it/s, early_stop_count=0, loss=935.06]\n",
      "NN Epoch 16 val     : 100%|██████████| 79/79 [00:02<00:00, 38.27it/s, early_stop_count=0, loss=937.52]\n",
      "NN Epoch 17 train   : 100%|██████████| 391/391 [00:10<00:00, 36.14it/s, early_stop_count=0, loss=935.03]\n",
      "NN Epoch 17 val     : 100%|██████████| 79/79 [00:02<00:00, 38.22it/s, early_stop_count=0, loss=935.85]\n",
      "NN Epoch 18 train   : 100%|██████████| 391/391 [00:10<00:00, 36.18it/s, early_stop_count=0, loss=934.53]\n",
      "NN Epoch 18 val     : 100%|██████████| 79/79 [00:02<00:00, 38.23it/s, early_stop_count=0, loss=937.14]\n",
      "NN Epoch 19 train   : 100%|██████████| 391/391 [00:10<00:00, 36.37it/s, early_stop_count=1, loss=934.46]\n",
      "NN Epoch 19 val     : 100%|██████████| 79/79 [00:02<00:00, 38.57it/s, early_stop_count=1, loss=936.11]\n",
      "NN Epoch 20 train   : 100%|██████████| 391/391 [00:10<00:00, 36.35it/s, early_stop_count=0, loss=933.85]\n",
      "NN Epoch 20 val     : 100%|██████████| 79/79 [00:02<00:00, 38.56it/s, early_stop_count=0, loss=935.37]\n",
      "NN Epoch 21 train   : 100%|██████████| 391/391 [00:10<00:00, 36.27it/s, early_stop_count=0, loss=933.68]\n",
      "NN Epoch 21 val     : 100%|██████████| 79/79 [00:02<00:00, 38.57it/s, early_stop_count=0, loss=935.71]\n",
      "NN Epoch 22 train   : 100%|██████████| 391/391 [00:10<00:00, 36.47it/s, early_stop_count=0, loss=933.53]\n",
      "NN Epoch 22 val     : 100%|██████████| 79/79 [00:02<00:00, 38.57it/s, early_stop_count=0, loss=935.97]\n",
      "NN Epoch 23 train   : 100%|██████████| 391/391 [00:10<00:00, 36.33it/s, early_stop_count=1, loss=933.22]\n",
      "NN Epoch 23 val     : 100%|██████████| 79/79 [00:02<00:00, 38.76it/s, early_stop_count=1, loss=935.20]\n",
      "NN Epoch 24 train   : 100%|██████████| 391/391 [00:10<00:00, 36.38it/s, early_stop_count=0, loss=932.62]\n",
      "NN Epoch 24 val     : 100%|██████████| 79/79 [00:02<00:00, 38.80it/s, early_stop_count=0, loss=934.54]\n",
      "NN Epoch 25 train   : 100%|██████████| 391/391 [00:10<00:00, 36.22it/s, early_stop_count=0, loss=932.60]\n",
      "NN Epoch 25 val     : 100%|██████████| 79/79 [00:02<00:00, 38.67it/s, early_stop_count=0, loss=934.99]\n",
      "NN Epoch 26 train   : 100%|██████████| 391/391 [00:10<00:00, 35.95it/s, early_stop_count=1, loss=932.73]\n",
      "NN Epoch 26 val     : 100%|██████████| 79/79 [00:02<00:00, 38.50it/s, early_stop_count=1, loss=934.55]\n",
      "NN Epoch 27 train   : 100%|██████████| 391/391 [00:10<00:00, 36.46it/s, early_stop_count=2, loss=932.21]\n",
      "NN Epoch 27 val     : 100%|██████████| 79/79 [00:02<00:00, 38.72it/s, early_stop_count=2, loss=935.55]\n",
      "CVAE Epoch 0 train  : 100%|██████████| 391/391 [00:14<00:00, 27.28it/s, early_stop_count=0, loss=1001.89]\n",
      "CVAE Epoch 0 val    : 100%|██████████| 79/79 [00:02<00:00, 35.37it/s, early_stop_count=0, loss=985.90]\n",
      "CVAE Epoch 1 train  : 100%|██████████| 391/391 [00:13<00:00, 27.96it/s, early_stop_count=0, loss=978.70]\n",
      "CVAE Epoch 1 val    : 100%|██████████| 79/79 [00:02<00:00, 35.41it/s, early_stop_count=0, loss=973.61]\n",
      "CVAE Epoch 2 train  : 100%|██████████| 391/391 [00:14<00:00, 27.81it/s, early_stop_count=0, loss=969.50]\n",
      "CVAE Epoch 2 val    : 100%|██████████| 79/79 [00:02<00:00, 30.66it/s, early_stop_count=0, loss=973.54]\n",
      "CVAE Epoch 3 train  : 100%|██████████| 391/391 [00:13<00:00, 28.17it/s, early_stop_count=0, loss=969.00]\n",
      "CVAE Epoch 3 val    : 100%|██████████| 79/79 [00:02<00:00, 35.78it/s, early_stop_count=0, loss=970.33]\n",
      "CVAE Epoch 4 train  : 100%|██████████| 391/391 [00:14<00:00, 27.20it/s, early_stop_count=0, loss=966.49]\n",
      "CVAE Epoch 4 val    : 100%|██████████| 79/79 [00:02<00:00, 34.92it/s, early_stop_count=0, loss=964.59]\n",
      "CVAE Epoch 5 train  : 100%|██████████| 391/391 [00:14<00:00, 27.68it/s, early_stop_count=0, loss=961.93]\n",
      "CVAE Epoch 5 val    : 100%|██████████| 79/79 [00:02<00:00, 35.44it/s, early_stop_count=0, loss=962.31]\n",
      "CVAE Epoch 6 train  : 100%|██████████| 391/391 [00:13<00:00, 28.17it/s, early_stop_count=0, loss=959.07]\n",
      "CVAE Epoch 6 val    : 100%|██████████| 79/79 [00:02<00:00, 35.53it/s, early_stop_count=0, loss=960.24]\n",
      "CVAE Epoch 7 train  : 100%|██████████| 391/391 [00:13<00:00, 28.01it/s, early_stop_count=0, loss=956.50]\n",
      "CVAE Epoch 7 val    : 100%|██████████| 79/79 [00:02<00:00, 30.13it/s, early_stop_count=0, loss=958.40]\n",
      "CVAE Epoch 8 train  : 100%|██████████| 391/391 [00:14<00:00, 27.52it/s, early_stop_count=0, loss=954.95]\n",
      "CVAE Epoch 8 val    : 100%|██████████| 79/79 [00:02<00:00, 35.86it/s, early_stop_count=0, loss=955.21]\n",
      "CVAE Epoch 9 train  : 100%|██████████| 391/391 [00:13<00:00, 28.21it/s, early_stop_count=0, loss=952.49]\n",
      "CVAE Epoch 9 val    : 100%|██████████| 79/79 [00:02<00:00, 35.21it/s, early_stop_count=0, loss=952.59]\n",
      "CVAE Epoch 10 train : 100%|██████████| 391/391 [00:14<00:00, 27.93it/s, early_stop_count=0, loss=948.97]\n",
      "CVAE Epoch 10 val   : 100%|██████████| 79/79 [00:02<00:00, 35.48it/s, early_stop_count=0, loss=950.64]\n",
      "CVAE Epoch 11 train : 100%|██████████| 391/391 [00:14<00:00, 26.87it/s, early_stop_count=0, loss=947.17]\n",
      "CVAE Epoch 11 val   : 100%|██████████| 79/79 [00:02<00:00, 35.83it/s, early_stop_count=0, loss=948.92]\n",
      "CVAE Epoch 12 train : 100%|██████████| 391/391 [00:13<00:00, 28.31it/s, early_stop_count=0, loss=945.90]\n",
      "CVAE Epoch 12 val   : 100%|██████████| 79/79 [00:02<00:00, 35.41it/s, early_stop_count=0, loss=949.04]\n",
      "CVAE Epoch 13 train : 100%|██████████| 391/391 [00:14<00:00, 27.74it/s, early_stop_count=0, loss=945.50]\n",
      "CVAE Epoch 13 val   : 100%|██████████| 79/79 [00:02<00:00, 35.76it/s, early_stop_count=0, loss=946.41]\n",
      "CVAE Epoch 14 train : 100%|██████████| 391/391 [00:13<00:00, 28.33it/s, early_stop_count=0, loss=943.76]\n",
      "CVAE Epoch 14 val   : 100%|██████████| 79/79 [00:02<00:00, 35.56it/s, early_stop_count=0, loss=946.07]\n",
      "CVAE Epoch 15 train : 100%|██████████| 391/391 [00:13<00:00, 28.05it/s, early_stop_count=0, loss=942.13]\n",
      "CVAE Epoch 15 val   : 100%|██████████| 79/79 [00:02<00:00, 34.55it/s, early_stop_count=0, loss=943.18]\n",
      "CVAE Epoch 16 train : 100%|██████████| 391/391 [00:14<00:00, 27.84it/s, early_stop_count=0, loss=941.43]\n",
      "CVAE Epoch 16 val   : 100%|██████████| 79/79 [00:02<00:00, 34.80it/s, early_stop_count=0, loss=943.69]\n",
      "CVAE Epoch 17 train : 100%|██████████| 391/391 [00:13<00:00, 28.28it/s, early_stop_count=1, loss=940.95]\n",
      "CVAE Epoch 17 val   : 100%|██████████| 79/79 [00:02<00:00, 35.26it/s, early_stop_count=1, loss=942.19]\n",
      "CVAE Epoch 18 train : 100%|██████████| 391/391 [00:14<00:00, 27.23it/s, early_stop_count=0, loss=940.60]\n",
      "CVAE Epoch 18 val   : 100%|██████████| 79/79 [00:02<00:00, 35.66it/s, early_stop_count=0, loss=945.02]\n",
      "CVAE Epoch 19 train : 100%|██████████| 391/391 [00:14<00:00, 27.79it/s, early_stop_count=1, loss=940.34]\n",
      "CVAE Epoch 19 val   : 100%|██████████| 79/79 [00:02<00:00, 35.17it/s, early_stop_count=1, loss=942.50]\n",
      "CVAE Epoch 20 train : 100%|██████████| 391/391 [00:14<00:00, 27.54it/s, early_stop_count=0, loss=940.01]\n",
      "CVAE Epoch 20 val   : 100%|██████████| 79/79 [00:02<00:00, 34.99it/s, early_stop_count=0, loss=942.50]\n",
      "CVAE Epoch 21 train : 100%|██████████| 391/391 [00:14<00:00, 27.24it/s, early_stop_count=0, loss=940.11]\n",
      "CVAE Epoch 21 val   : 100%|██████████| 79/79 [00:02<00:00, 34.67it/s, early_stop_count=0, loss=942.77]\n",
      "CVAE Epoch 22 train : 100%|██████████| 391/391 [00:14<00:00, 27.37it/s, early_stop_count=1, loss=939.45]\n",
      "CVAE Epoch 22 val   : 100%|██████████| 79/79 [00:02<00:00, 34.51it/s, early_stop_count=1, loss=943.02]\n",
      "CVAE Epoch 23 train : 100%|██████████| 391/391 [00:14<00:00, 27.74it/s, early_stop_count=2, loss=939.27]\n",
      "CVAE Epoch 23 val   : 100%|██████████| 79/79 [00:02<00:00, 34.96it/s, early_stop_count=2, loss=942.47]\n"
     ]
    },
    {
     "name": "stdout",
     "output_type": "stream",
     "text": [
      "Files already downloaded and verified\n",
      "Files already downloaded and verified\n"
     ]
    },
    {
     "name": "stderr",
     "output_type": "stream",
     "text": [
      "Clipping input data to the valid range for imshow with RGB data ([0..1] for floats or [0..255] for integers). Got range [-1.0..1.0].\n"
     ]
    },
    {
     "name": "stdout",
     "output_type": "stream",
     "text": [
      "Files already downloaded and verified\n",
      "Files already downloaded and verified\n"
     ]
    },
    {
     "name": "stderr",
     "output_type": "stream",
     "text": [
      "Generating predictions: 100%|██████████| 313/313 [00:12<00:00, 25.71it/s]\n"
     ]
    },
    {
     "name": "stdout",
     "output_type": "stream",
     "text": [
      "Df:                      2 quadrants\n",
      "NN (baseline)       2375.841885\n",
      "CVAE (Monte Carlo)  1054.272593\n",
      "Columns:  ['1 quadrant', '2 quadrants']\n",
      "Training with 3 quadrants as input...\n",
      "Files already downloaded and verified\n",
      "Files already downloaded and verified\n"
     ]
    },
    {
     "name": "stderr",
     "output_type": "stream",
     "text": [
      "NN Epoch 0 train    : 100%|██████████| 391/391 [00:12<00:00, 32.29it/s, early_stop_count=0, loss=484.93]\n",
      "NN Epoch 0 val      : 100%|██████████| 79/79 [00:02<00:00, 33.67it/s, early_stop_count=0, loss=475.67]\n",
      "NN Epoch 1 train    : 100%|██████████| 391/391 [00:12<00:00, 32.52it/s, early_stop_count=0, loss=472.60]\n",
      "NN Epoch 1 val      : 100%|██████████| 79/79 [00:02<00:00, 33.65it/s, early_stop_count=0, loss=470.95]\n",
      "NN Epoch 2 train    : 100%|██████████| 391/391 [00:12<00:00, 32.33it/s, early_stop_count=0, loss=468.98]\n",
      "NN Epoch 2 val      : 100%|██████████| 79/79 [00:02<00:00, 33.76it/s, early_stop_count=0, loss=467.51]\n",
      "NN Epoch 3 train    : 100%|██████████| 391/391 [00:12<00:00, 31.66it/s, early_stop_count=0, loss=466.18]\n",
      "NN Epoch 3 val      : 100%|██████████| 79/79 [00:02<00:00, 34.49it/s, early_stop_count=0, loss=466.94]\n",
      "NN Epoch 4 train    : 100%|██████████| 391/391 [00:12<00:00, 31.85it/s, early_stop_count=0, loss=464.45]\n",
      "NN Epoch 4 val      : 100%|██████████| 79/79 [00:02<00:00, 32.77it/s, early_stop_count=0, loss=465.79]\n",
      "NN Epoch 5 train    : 100%|██████████| 391/391 [00:12<00:00, 30.55it/s, early_stop_count=0, loss=463.24]\n",
      "NN Epoch 5 val      : 100%|██████████| 79/79 [00:02<00:00, 32.81it/s, early_stop_count=0, loss=463.73]\n",
      "NN Epoch 6 train    : 100%|██████████| 391/391 [00:12<00:00, 32.48it/s, early_stop_count=0, loss=462.71]\n",
      "NN Epoch 6 val      : 100%|██████████| 79/79 [00:02<00:00, 33.42it/s, early_stop_count=0, loss=463.50]\n",
      "NN Epoch 7 train    : 100%|██████████| 391/391 [00:12<00:00, 31.87it/s, early_stop_count=0, loss=461.87]\n",
      "NN Epoch 7 val      : 100%|██████████| 79/79 [00:02<00:00, 33.48it/s, early_stop_count=0, loss=462.81]\n",
      "NN Epoch 8 train    : 100%|██████████| 391/391 [00:12<00:00, 32.01it/s, early_stop_count=0, loss=461.27]\n",
      "NN Epoch 8 val      : 100%|██████████| 79/79 [00:02<00:00, 32.85it/s, early_stop_count=0, loss=462.23]\n",
      "NN Epoch 9 train    : 100%|██████████| 391/391 [00:12<00:00, 32.55it/s, early_stop_count=0, loss=460.66]\n",
      "NN Epoch 9 val      : 100%|██████████| 79/79 [00:02<00:00, 33.67it/s, early_stop_count=0, loss=462.01]\n",
      "NN Epoch 10 train   : 100%|██████████| 391/391 [00:12<00:00, 32.07it/s, early_stop_count=0, loss=460.52]\n",
      "NN Epoch 10 val     : 100%|██████████| 79/79 [00:02<00:00, 33.28it/s, early_stop_count=0, loss=461.52]\n",
      "NN Epoch 11 train   : 100%|██████████| 391/391 [00:12<00:00, 32.50it/s, early_stop_count=0, loss=459.77]\n",
      "NN Epoch 11 val     : 100%|██████████| 79/79 [00:02<00:00, 34.57it/s, early_stop_count=0, loss=461.11]\n",
      "NN Epoch 12 train   : 100%|██████████| 391/391 [00:12<00:00, 31.83it/s, early_stop_count=0, loss=459.91]\n",
      "NN Epoch 12 val     : 100%|██████████| 79/79 [00:02<00:00, 34.16it/s, early_stop_count=0, loss=461.27]\n",
      "NN Epoch 13 train   : 100%|██████████| 391/391 [00:12<00:00, 32.13it/s, early_stop_count=1, loss=459.63]\n",
      "NN Epoch 13 val     : 100%|██████████| 79/79 [00:02<00:00, 32.92it/s, early_stop_count=1, loss=459.65]\n",
      "NN Epoch 14 train   : 100%|██████████| 391/391 [00:12<00:00, 31.77it/s, early_stop_count=0, loss=459.23]\n",
      "NN Epoch 14 val     : 100%|██████████| 79/79 [00:02<00:00, 33.95it/s, early_stop_count=0, loss=460.91]\n",
      "NN Epoch 15 train   : 100%|██████████| 391/391 [00:12<00:00, 31.58it/s, early_stop_count=1, loss=459.14]\n",
      "NN Epoch 15 val     : 100%|██████████| 79/79 [00:02<00:00, 34.50it/s, early_stop_count=1, loss=459.80]\n",
      "NN Epoch 16 train   : 100%|██████████| 391/391 [00:12<00:00, 32.53it/s, early_stop_count=2, loss=458.48]\n",
      "NN Epoch 16 val     : 100%|██████████| 79/79 [00:02<00:00, 34.59it/s, early_stop_count=2, loss=459.36]\n",
      "NN Epoch 17 train   : 100%|██████████| 391/391 [00:11<00:00, 32.62it/s, early_stop_count=0, loss=458.35]\n",
      "NN Epoch 17 val     : 100%|██████████| 79/79 [00:02<00:00, 34.71it/s, early_stop_count=0, loss=459.79]\n",
      "NN Epoch 18 train   : 100%|██████████| 391/391 [00:11<00:00, 32.74it/s, early_stop_count=1, loss=458.49]\n",
      "NN Epoch 18 val     : 100%|██████████| 79/79 [00:02<00:00, 34.64it/s, early_stop_count=1, loss=459.53]\n",
      "NN Epoch 19 train   : 100%|██████████| 391/391 [00:11<00:00, 32.69it/s, early_stop_count=2, loss=458.00]\n",
      "NN Epoch 19 val     : 100%|██████████| 79/79 [00:02<00:00, 34.04it/s, early_stop_count=2, loss=459.43]\n",
      "NN Epoch 20 train   : 100%|██████████| 391/391 [00:12<00:00, 32.57it/s, early_stop_count=0, loss=458.02]\n",
      "NN Epoch 20 val     : 100%|██████████| 79/79 [00:02<00:00, 34.43it/s, early_stop_count=0, loss=458.97]\n",
      "NN Epoch 21 train   : 100%|██████████| 391/391 [00:11<00:00, 32.77it/s, early_stop_count=0, loss=457.83]\n",
      "NN Epoch 21 val     : 100%|██████████| 79/79 [00:02<00:00, 34.53it/s, early_stop_count=0, loss=458.85]\n",
      "NN Epoch 22 train   : 100%|██████████| 391/391 [00:11<00:00, 32.70it/s, early_stop_count=1, loss=457.74]\n",
      "NN Epoch 22 val     : 100%|██████████| 79/79 [00:02<00:00, 34.69it/s, early_stop_count=1, loss=459.12]\n",
      "NN Epoch 23 train   : 100%|██████████| 391/391 [00:12<00:00, 32.39it/s, early_stop_count=2, loss=457.64]\n",
      "NN Epoch 23 val     : 100%|██████████| 79/79 [00:02<00:00, 34.07it/s, early_stop_count=2, loss=458.25]\n",
      "NN Epoch 24 train   : 100%|██████████| 391/391 [00:12<00:00, 32.30it/s, early_stop_count=0, loss=457.64]\n",
      "NN Epoch 24 val     : 100%|██████████| 79/79 [00:02<00:00, 34.00it/s, early_stop_count=0, loss=458.23]\n",
      "NN Epoch 25 train   : 100%|██████████| 391/391 [00:11<00:00, 32.66it/s, early_stop_count=1, loss=457.38]\n",
      "NN Epoch 25 val     : 100%|██████████| 79/79 [00:02<00:00, 34.58it/s, early_stop_count=1, loss=458.47]\n",
      "NN Epoch 26 train   : 100%|██████████| 391/391 [00:11<00:00, 32.67it/s, early_stop_count=2, loss=457.21]\n",
      "NN Epoch 26 val     : 100%|██████████| 79/79 [00:02<00:00, 30.36it/s, early_stop_count=2, loss=458.70]\n",
      "CVAE Epoch 0 train  : 100%|██████████| 391/391 [00:15<00:00, 26.01it/s, early_stop_count=0, loss=509.43]\n",
      "CVAE Epoch 0 val    : 100%|██████████| 79/79 [00:02<00:00, 31.18it/s, early_stop_count=0, loss=494.17]\n",
      "CVAE Epoch 1 train  : 100%|██████████| 391/391 [00:15<00:00, 25.63it/s, early_stop_count=0, loss=492.22]\n",
      "CVAE Epoch 1 val    : 100%|██████████| 79/79 [00:02<00:00, 31.36it/s, early_stop_count=0, loss=493.49]\n",
      "CVAE Epoch 2 train  : 100%|██████████| 391/391 [00:15<00:00, 25.83it/s, early_stop_count=0, loss=491.05]\n",
      "CVAE Epoch 2 val    : 100%|██████████| 79/79 [00:02<00:00, 31.02it/s, early_stop_count=0, loss=491.25]\n",
      "CVAE Epoch 3 train  : 100%|██████████| 391/391 [00:15<00:00, 25.92it/s, early_stop_count=0, loss=490.89]\n",
      "CVAE Epoch 3 val    : 100%|██████████| 79/79 [00:02<00:00, 31.55it/s, early_stop_count=0, loss=490.79]\n",
      "CVAE Epoch 4 train  : 100%|██████████| 391/391 [00:15<00:00, 25.85it/s, early_stop_count=0, loss=488.39]\n",
      "CVAE Epoch 4 val    : 100%|██████████| 79/79 [00:02<00:00, 31.49it/s, early_stop_count=0, loss=488.41]\n",
      "CVAE Epoch 5 train  : 100%|██████████| 391/391 [00:14<00:00, 26.10it/s, early_stop_count=0, loss=486.52]\n",
      "CVAE Epoch 5 val    : 100%|██████████| 79/79 [00:02<00:00, 31.28it/s, early_stop_count=0, loss=486.17]\n",
      "CVAE Epoch 6 train  : 100%|██████████| 391/391 [00:15<00:00, 26.04it/s, early_stop_count=0, loss=485.64]\n",
      "CVAE Epoch 6 val    : 100%|██████████| 79/79 [00:02<00:00, 31.52it/s, early_stop_count=0, loss=486.33]\n",
      "CVAE Epoch 7 train  : 100%|██████████| 391/391 [00:15<00:00, 25.78it/s, early_stop_count=1, loss=485.41]\n",
      "CVAE Epoch 7 val    : 100%|██████████| 79/79 [00:02<00:00, 31.94it/s, early_stop_count=1, loss=486.29]\n",
      "CVAE Epoch 8 train  : 100%|██████████| 391/391 [00:14<00:00, 26.20it/s, early_stop_count=2, loss=484.84]\n",
      "CVAE Epoch 8 val    : 100%|██████████| 79/79 [00:02<00:00, 31.27it/s, early_stop_count=2, loss=486.20]\n"
     ]
    },
    {
     "name": "stdout",
     "output_type": "stream",
     "text": [
      "Files already downloaded and verified\n",
      "Files already downloaded and verified\n"
     ]
    },
    {
     "name": "stderr",
     "output_type": "stream",
     "text": [
      "Clipping input data to the valid range for imshow with RGB data ([0..1] for floats or [0..255] for integers). Got range [-1.0..1.0].\n"
     ]
    },
    {
     "name": "stdout",
     "output_type": "stream",
     "text": [
      "Files already downloaded and verified\n",
      "Files already downloaded and verified\n"
     ]
    },
    {
     "name": "stderr",
     "output_type": "stream",
     "text": [
      "Generating predictions: 100%|██████████| 313/313 [00:12<00:00, 25.84it/s]"
     ]
    },
    {
     "name": "stdout",
     "output_type": "stream",
     "text": [
      "Df:                      3 quadrants\n",
      "NN (baseline)       2778.648378\n",
      "CVAE (Monte Carlo)   525.235196\n",
      "Columns:  ['1 quadrant', '2 quadrants', '3 quadrants']\n"
     ]
    },
    {
     "name": "stderr",
     "output_type": "stream",
     "text": [
      "\n"
     ]
    },
    {
     "data": {
      "text/plain": [
       "<Figure size 640x480 with 0 Axes>"
      ]
     },
     "metadata": {},
     "output_type": "display_data"
    }
   ],
   "source": [
    "args = argparse.Namespace(\n",
    "    num_quadrant_inputs=[1, 2, 3],\n",
    "    num_epochs=101,\n",
    "    early_stop_patience=3,\n",
    "    learning_rate=1.0e-3,\n",
    "    cuda=True,\n",
    "    num_images=10,\n",
    "    num_samples=10,\n",
    "    num_particles=10,\n",
    "    dataset=\"cifar10\",\n",
    "    random_mask=True,\n",
    "    z_dim=200,\n",
    "    hidden_1=500, # won't be used, but needs to be set\n",
    "    hidden_2=500, # won't be used, but needs to be set\n",
    "    use_conv=True,\n",
    ")\n",
    "\n",
    "main(args)"
   ]
  },
  {
   "cell_type": "code",
   "execution_count": 7,
   "id": "df85be2d-4c33-4bd3-98ad-4d52f2c90efd",
   "metadata": {
    "editable": true,
    "slideshow": {
     "slide_type": ""
    },
    "tags": []
   },
   "outputs": [
    {
     "name": "stdout",
     "output_type": "stream",
     "text": [
      "Baseline train: True\n",
      "CVAE train: True\n"
     ]
    }
   ],
   "source": [
    "import cvae\n",
    "import baseline\n",
    "\n",
    "print(\"Baseline train:\", hasattr(baseline, \"train\"))\n",
    "print(\"CVAE train:\", hasattr(cvae, \"train\"))"
   ]
  },
  {
   "cell_type": "code",
   "execution_count": 8,
   "id": "4e344d48-f690-404d-811b-dedccd07374e",
   "metadata": {},
   "outputs": [
    {
     "name": "stdout",
     "output_type": "stream",
     "text": [
      "/home/e12333452/probai/./CVAE/cvae.py\n"
     ]
    }
   ],
   "source": [
    "import cvae\n",
    "print(cvae.__file__)"
   ]
  },
  {
   "cell_type": "code",
   "execution_count": null,
   "id": "f126b382-ca61-4fec-bf95-3e02ea882deb",
   "metadata": {},
   "outputs": [],
   "source": []
  }
 ],
 "metadata": {
  "kernelspec": {
   "display_name": "Python 3 (ipykernel)",
   "language": "python",
   "name": "python3"
  },
  "language_info": {
   "codemirror_mode": {
    "name": "ipython",
    "version": 3
   },
   "file_extension": ".py",
   "mimetype": "text/x-python",
   "name": "python",
   "nbconvert_exporter": "python",
   "pygments_lexer": "ipython3",
   "version": "3.11.10"
  }
 },
 "nbformat": 4,
 "nbformat_minor": 5
}
