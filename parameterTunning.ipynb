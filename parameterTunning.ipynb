{
 "cells": [
  {
   "cell_type": "code",
   "execution_count": 1,
   "id": "3168da0d-e925-41e7-be14-c601f98332ca",
   "metadata": {},
   "outputs": [],
   "source": [
    "import sys\n",
    "sys.path.append(\"./CVAE\")"
   ]
  },
  {
   "cell_type": "code",
   "execution_count": 3,
   "id": "fe5edabb-f721-4505-b503-6845021e3fa3",
   "metadata": {},
   "outputs": [
    {
     "name": "stdout",
     "output_type": "stream",
     "text": [
      "Collecting pyro-ppl\n",
      "  Downloading pyro_ppl-1.9.1-py3-none-any.whl.metadata (7.8 kB)\n",
      "Requirement already satisfied: numpy>=1.7 in /opt/conda/lib/python3.11/site-packages (from pyro-ppl) (1.26.4)\n",
      "Requirement already satisfied: opt-einsum>=2.3.2 in /opt/conda/lib/python3.11/site-packages (from pyro-ppl) (3.4.0)\n",
      "Collecting pyro-api>=0.1.1 (from pyro-ppl)\n",
      "  Downloading pyro_api-0.1.2-py3-none-any.whl.metadata (2.5 kB)\n",
      "Requirement already satisfied: torch>=2.0 in /opt/conda/lib/python3.11/site-packages (from pyro-ppl) (2.1.2+cu121)\n",
      "Requirement already satisfied: tqdm>=4.36 in /opt/conda/lib/python3.11/site-packages (from pyro-ppl) (4.66.5)\n",
      "Requirement already satisfied: filelock in /opt/conda/lib/python3.11/site-packages (from torch>=2.0->pyro-ppl) (3.16.1)\n",
      "Requirement already satisfied: typing-extensions in /opt/conda/lib/python3.11/site-packages (from torch>=2.0->pyro-ppl) (4.12.2)\n",
      "Requirement already satisfied: sympy in /opt/conda/lib/python3.11/site-packages (from torch>=2.0->pyro-ppl) (1.13.3)\n",
      "Requirement already satisfied: networkx in /opt/conda/lib/python3.11/site-packages (from torch>=2.0->pyro-ppl) (3.4.1)\n",
      "Requirement already satisfied: jinja2 in /opt/conda/lib/python3.11/site-packages (from torch>=2.0->pyro-ppl) (3.1.4)\n",
      "Requirement already satisfied: fsspec in /opt/conda/lib/python3.11/site-packages (from torch>=2.0->pyro-ppl) (2024.9.0)\n",
      "Requirement already satisfied: triton==2.1.0 in /opt/conda/lib/python3.11/site-packages (from torch>=2.0->pyro-ppl) (2.1.0)\n",
      "Requirement already satisfied: MarkupSafe>=2.0 in /opt/conda/lib/python3.11/site-packages (from jinja2->torch>=2.0->pyro-ppl) (3.0.1)\n",
      "Requirement already satisfied: mpmath<1.4,>=1.1.0 in /opt/conda/lib/python3.11/site-packages (from sympy->torch>=2.0->pyro-ppl) (1.3.0)\n",
      "Downloading pyro_ppl-1.9.1-py3-none-any.whl (755 kB)\n",
      "\u001b[2K   \u001b[90m━━━━━━━━━━━━━━━━━━━━━━━━━━━━━━━━━━━━━━━━\u001b[0m \u001b[32m756.0/756.0 kB\u001b[0m \u001b[31m29.6 MB/s\u001b[0m eta \u001b[36m0:00:00\u001b[0m\n",
      "\u001b[?25hDownloading pyro_api-0.1.2-py3-none-any.whl (11 kB)\n",
      "Installing collected packages: pyro-api, pyro-ppl\n",
      "Successfully installed pyro-api-0.1.2 pyro-ppl-1.9.1\n"
     ]
    }
   ],
   "source": [
    "!pip install pyro-ppl\n",
    "from main import main\n",
    "import argparse\n",
    "import itertools\n",
    "import pandas as pd\n",
    "import shutil\n",
    "import os\n",
    "import glob\n",
    "import os"
   ]
  },
  {
   "cell_type": "code",
   "execution_count": 4,
   "id": "61931cdc-7967-429d-887a-e411ac127301",
   "metadata": {},
   "outputs": [],
   "source": [
    "from main import main\n",
    "import argparse"
   ]
  },
  {
   "cell_type": "code",
   "execution_count": null,
   "id": "f6388f9b-f46c-44b0-9626-b60119fd0e89",
   "metadata": {},
   "outputs": [
    {
     "name": "stdout",
     "output_type": "stream",
     "text": [
      "Running with lr=0.0001, num_epochs=50, num_particles=20, z_dim=150, hidden_1=400, hidden_2=400\n",
      "Training with 1 quadrant as input...\n",
      "Downloading http://fashion-mnist.s3-website.eu-central-1.amazonaws.com/train-images-idx3-ubyte.gz\n",
      "Downloading http://fashion-mnist.s3-website.eu-central-1.amazonaws.com/train-images-idx3-ubyte.gz to ../data/FashionMNIST/raw/train-images-idx3-ubyte.gz\n"
     ]
    },
    {
     "name": "stderr",
     "output_type": "stream",
     "text": [
      "100%|██████████| 26421880/26421880 [00:00<00:00, 70987026.85it/s]\n"
     ]
    },
    {
     "name": "stdout",
     "output_type": "stream",
     "text": [
      "Extracting ../data/FashionMNIST/raw/train-images-idx3-ubyte.gz to ../data/FashionMNIST/raw\n",
      "\n",
      "Downloading http://fashion-mnist.s3-website.eu-central-1.amazonaws.com/train-labels-idx1-ubyte.gz\n",
      "Downloading http://fashion-mnist.s3-website.eu-central-1.amazonaws.com/train-labels-idx1-ubyte.gz to ../data/FashionMNIST/raw/train-labels-idx1-ubyte.gz\n"
     ]
    },
    {
     "name": "stderr",
     "output_type": "stream",
     "text": [
      "100%|██████████| 29515/29515 [00:00<00:00, 2574019.27it/s]\n"
     ]
    },
    {
     "name": "stdout",
     "output_type": "stream",
     "text": [
      "Extracting ../data/FashionMNIST/raw/train-labels-idx1-ubyte.gz to ../data/FashionMNIST/raw\n",
      "\n",
      "Downloading http://fashion-mnist.s3-website.eu-central-1.amazonaws.com/t10k-images-idx3-ubyte.gz\n",
      "Downloading http://fashion-mnist.s3-website.eu-central-1.amazonaws.com/t10k-images-idx3-ubyte.gz to ../data/FashionMNIST/raw/t10k-images-idx3-ubyte.gz\n"
     ]
    },
    {
     "name": "stderr",
     "output_type": "stream",
     "text": [
      "100%|██████████| 4422102/4422102 [00:00<00:00, 36273965.10it/s]\n"
     ]
    },
    {
     "name": "stdout",
     "output_type": "stream",
     "text": [
      "Extracting ../data/FashionMNIST/raw/t10k-images-idx3-ubyte.gz to ../data/FashionMNIST/raw\n",
      "\n",
      "Downloading http://fashion-mnist.s3-website.eu-central-1.amazonaws.com/t10k-labels-idx1-ubyte.gz\n",
      "Downloading http://fashion-mnist.s3-website.eu-central-1.amazonaws.com/t10k-labels-idx1-ubyte.gz to ../data/FashionMNIST/raw/t10k-labels-idx1-ubyte.gz\n"
     ]
    },
    {
     "name": "stderr",
     "output_type": "stream",
     "text": [
      "100%|██████████| 5148/5148 [00:00<00:00, 22657163.69it/s]\n"
     ]
    },
    {
     "name": "stdout",
     "output_type": "stream",
     "text": [
      "Extracting ../data/FashionMNIST/raw/t10k-labels-idx1-ubyte.gz to ../data/FashionMNIST/raw\n",
      "\n"
     ]
    },
    {
     "name": "stderr",
     "output_type": "stream",
     "text": [
      "NN Epoch 0 train    : 100%|██████████| 469/469 [00:08<00:00, 53.58it/s, early_stop_count=0, loss=258.11]\n",
      "NN Epoch 0 val      : 100%|██████████| 79/79 [00:01<00:00, 57.64it/s, early_stop_count=0, loss=226.15]\n",
      "NN Epoch 1 train    : 100%|██████████| 469/469 [00:08<00:00, 53.52it/s, early_stop_count=0, loss=215.83]\n",
      "NN Epoch 1 val      : 100%|██████████| 79/79 [00:01<00:00, 59.54it/s, early_stop_count=0, loss=207.93]\n",
      "NN Epoch 2 train    : 100%|██████████| 469/469 [00:08<00:00, 53.25it/s, early_stop_count=0, loss=204.49]\n",
      "NN Epoch 2 val      : 100%|██████████| 79/79 [00:01<00:00, 59.30it/s, early_stop_count=0, loss=202.24]\n",
      "NN Epoch 3 train    : 100%|██████████| 469/469 [00:08<00:00, 52.58it/s, early_stop_count=0, loss=200.37]\n",
      "NN Epoch 3 val      : 100%|██████████| 79/79 [00:01<00:00, 59.78it/s, early_stop_count=0, loss=199.38]\n",
      "NN Epoch 4 train    : 100%|██████████| 469/469 [00:08<00:00, 53.20it/s, early_stop_count=0, loss=197.98]\n",
      "NN Epoch 4 val      : 100%|██████████| 79/79 [00:01<00:00, 59.79it/s, early_stop_count=0, loss=197.58]\n",
      "NN Epoch 5 train    : 100%|██████████| 469/469 [00:08<00:00, 52.67it/s, early_stop_count=0, loss=196.53]\n",
      "NN Epoch 5 val      : 100%|██████████| 79/79 [00:01<00:00, 58.99it/s, early_stop_count=0, loss=196.46]\n",
      "NN Epoch 6 train    : 100%|██████████| 469/469 [00:08<00:00, 52.77it/s, early_stop_count=0, loss=195.39]\n",
      "NN Epoch 6 val      : 100%|██████████| 79/79 [00:01<00:00, 59.16it/s, early_stop_count=0, loss=195.48]\n",
      "NN Epoch 7 train    : 100%|██████████| 469/469 [00:08<00:00, 53.18it/s, early_stop_count=0, loss=194.54]\n",
      "NN Epoch 7 val      : 100%|██████████| 79/79 [00:01<00:00, 59.26it/s, early_stop_count=0, loss=194.73]\n",
      "NN Epoch 8 train    : 100%|██████████| 469/469 [00:08<00:00, 53.06it/s, early_stop_count=0, loss=193.80]\n",
      "NN Epoch 8 val      : 100%|██████████| 79/79 [00:01<00:00, 58.07it/s, early_stop_count=0, loss=194.05]\n",
      "NN Epoch 9 train    : 100%|██████████| 469/469 [00:08<00:00, 52.85it/s, early_stop_count=0, loss=193.06]\n",
      "NN Epoch 9 val      : 100%|██████████| 79/79 [00:01<00:00, 59.07it/s, early_stop_count=0, loss=193.50]\n",
      "NN Epoch 10 train   : 100%|██████████| 469/469 [00:09<00:00, 51.73it/s, early_stop_count=0, loss=192.64]\n",
      "NN Epoch 10 val     : 100%|██████████| 79/79 [00:01<00:00, 59.07it/s, early_stop_count=0, loss=192.94]\n",
      "NN Epoch 11 train   : 100%|██████████| 469/469 [00:08<00:00, 52.96it/s, early_stop_count=0, loss=192.08]\n",
      "NN Epoch 11 val     : 100%|██████████| 79/79 [00:01<00:00, 58.98it/s, early_stop_count=0, loss=192.83]\n",
      "NN Epoch 12 train   :   4%|▍         | 18/469 [00:00<00:08, 52.63it/s, early_stop_count=0, loss=189.50]"
     ]
    }
   ],
   "source": [
    "# Define the hyperparameter search space\n",
    "lr = [1e-4, 1e-3, 1e-2]\n",
    "num_epochs = [50, 101]\n",
    "num_particl = [20, 10]\n",
    "z = [150, 200, 250]  # Around the current z_dim=200\n",
    "hidd1 = [400, 500, 600]  # Around the current hidden_1=500\n",
    "hidd2 = [400, 500, 600]  # Around the current hidden_2=500\n",
    "\n",
    "# Iterate over all combinations of hyperparameters\n",
    "for lr, num_ep, num_part, z, hid1, hid2 in itertools.product(lr, num_epochs, num_particl, z, hidd1, hidd2):\n",
    "    # Set up arguments\n",
    "    args = argparse.Namespace(\n",
    "        num_quadrant_inputs=[1, 2, 3],\n",
    "        num_epochs=num_ep,\n",
    "        early_stop_patience=3,\n",
    "        learning_rate=lr,\n",
    "        cuda=True,\n",
    "        num_images=10,\n",
    "        num_samples=10,\n",
    "        num_particles=num_part,\n",
    "        dataset='fashionmnist',\n",
    "        z_dim=z,\n",
    "        hidden_1=hid1,\n",
    "        hidden_2=hid2\n",
    "    )\n",
    "\n",
    "    # Log the current configuration\n",
    "    print(f\"Running with lr={lr}, num_epochs={num_ep}, num_particles={num_part}, z_dim={z}, hidden_1={hid1}, hidden_2={hid2}\")\n",
    "\n",
    "    # Run the main function\n",
    "    try:\n",
    "        main(args)\n",
    "    except Exception as e:\n",
    "        print(f\"Error with configuration lr={lr}, num_epochs={num_ep}, num_particles={num_part}, z_dim={z}, hidden_1={hid1}, hidden_2={hid2}: {e}\")\n",
    "        continue\n",
    "\n",
    "    # Save the results\n",
    "    if os.path.exists(\"results.csv\"):\n",
    "        output_file = f\"tuning_results/results_lr_{lr}_epochs_{num_ep}_particles_{num_part}_z_{z}_h1_{hid1}_h2_{hid2}.csv\"\n",
    "        shutil.copy(\"results.csv\", output_file)\n",
    "        print(f\"Results saved to {output_file}\")\n",
    "    else:\n",
    "        print(f\"No 'results.csv' file generated for lr={lr}, num_epochs={num_ep}, num_particles={num_part}, z_dim={z}, hidden_1={hid1}, hidden_2={hid2}.\")\n",
    "\n",
    "    # Backup important files before starting\n",
    "    for q in range(1, 4):\n",
    "        plot_file = f\"cvae_plot_q{q}.png\"\n",
    "        if os.path.exists(plot_file):\n",
    "            output_file = f\"tuning_results/cvae_plot_q{q}_lr_{lr}_epochs_{num_ep}_particles_{num_part}_z_{z}_h1_{hid1}_h2_{hid2}.png\"\n",
    "            shutil.copy(plot_file, output_file)\n",
    "            print(f\"Backup created for '{plot_file}' as '{output_file}'.\")"
   ]
  },
  {
   "cell_type": "code",
   "execution_count": null,
   "id": "a72608f4-4b65-4eee-a441-cb5243ea5086",
   "metadata": {},
   "outputs": [],
   "source": []
  }
 ],
 "metadata": {
  "kernelspec": {
   "display_name": "Python 3 (ipykernel)",
   "language": "python",
   "name": "python3"
  },
  "language_info": {
   "codemirror_mode": {
    "name": "ipython",
    "version": 3
   },
   "file_extension": ".py",
   "mimetype": "text/x-python",
   "name": "python",
   "nbconvert_exporter": "python",
   "pygments_lexer": "ipython3",
   "version": "3.11.10"
  }
 },
 "nbformat": 4,
 "nbformat_minor": 5
}
