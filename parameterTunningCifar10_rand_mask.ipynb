{
 "cells": [
  {
   "cell_type": "code",
   "execution_count": 2,
   "metadata": {
    "colab": {
     "base_uri": "https://localhost:8080/"
    },
    "id": "QghFK8f9SY0_",
    "outputId": "86936bed-acc5-482e-c3d3-8bfc86333463"
   },
   "outputs": [],
   "source": [
    "import sys\n",
    "sys.path.append(\"./CVAE\")"
   ]
  },
  {
   "cell_type": "code",
   "execution_count": 3,
   "metadata": {
    "colab": {
     "base_uri": "https://localhost:8080/"
    },
    "id": "sImqpIA_Si3m",
    "outputId": "87b80760-6210-4a07-c6c3-fc7c3a56fc8b"
   },
   "outputs": [
    {
     "name": "stdout",
     "output_type": "stream",
     "text": [
      "Collecting pyro-ppl\n",
      "  Using cached pyro_ppl-1.9.1-py3-none-any.whl.metadata (7.8 kB)\n",
      "Requirement already satisfied: numpy>=1.7 in /opt/conda/lib/python3.11/site-packages (from pyro-ppl) (1.26.4)\n",
      "Requirement already satisfied: opt-einsum>=2.3.2 in /opt/conda/lib/python3.11/site-packages (from pyro-ppl) (3.4.0)\n",
      "Collecting pyro-api>=0.1.1 (from pyro-ppl)\n",
      "  Using cached pyro_api-0.1.2-py3-none-any.whl.metadata (2.5 kB)\n",
      "Requirement already satisfied: torch>=2.0 in /opt/conda/lib/python3.11/site-packages (from pyro-ppl) (2.1.2+cu121)\n",
      "Requirement already satisfied: tqdm>=4.36 in /opt/conda/lib/python3.11/site-packages (from pyro-ppl) (4.66.5)\n",
      "Requirement already satisfied: filelock in /opt/conda/lib/python3.11/site-packages (from torch>=2.0->pyro-ppl) (3.16.1)\n",
      "Requirement already satisfied: typing-extensions in /opt/conda/lib/python3.11/site-packages (from torch>=2.0->pyro-ppl) (4.12.2)\n",
      "Requirement already satisfied: sympy in /opt/conda/lib/python3.11/site-packages (from torch>=2.0->pyro-ppl) (1.13.3)\n",
      "Requirement already satisfied: networkx in /opt/conda/lib/python3.11/site-packages (from torch>=2.0->pyro-ppl) (3.4.1)\n",
      "Requirement already satisfied: jinja2 in /opt/conda/lib/python3.11/site-packages (from torch>=2.0->pyro-ppl) (3.1.4)\n",
      "Requirement already satisfied: fsspec in /opt/conda/lib/python3.11/site-packages (from torch>=2.0->pyro-ppl) (2024.9.0)\n",
      "Requirement already satisfied: triton==2.1.0 in /opt/conda/lib/python3.11/site-packages (from torch>=2.0->pyro-ppl) (2.1.0)\n",
      "Requirement already satisfied: MarkupSafe>=2.0 in /opt/conda/lib/python3.11/site-packages (from jinja2->torch>=2.0->pyro-ppl) (3.0.1)\n",
      "Requirement already satisfied: mpmath<1.4,>=1.1.0 in /opt/conda/lib/python3.11/site-packages (from sympy->torch>=2.0->pyro-ppl) (1.3.0)\n",
      "Using cached pyro_ppl-1.9.1-py3-none-any.whl (755 kB)\n",
      "Using cached pyro_api-0.1.2-py3-none-any.whl (11 kB)\n",
      "Installing collected packages: pyro-api, pyro-ppl\n",
      "Successfully installed pyro-api-0.1.2 pyro-ppl-1.9.1\n"
     ]
    }
   ],
   "source": [
    "!pip install pyro-ppl\n",
    "from main import main\n",
    "import argparse\n",
    "import itertools\n",
    "import pandas as pd\n",
    "import shutil\n",
    "import os\n",
    "import glob"
   ]
  },
  {
   "cell_type": "code",
   "execution_count": 4,
   "metadata": {
    "colab": {
     "base_uri": "https://localhost:8080/"
    },
    "id": "kouYN9f0SoIJ",
    "outputId": "a2145289-a9e6-4074-be01-f275f5f3ccff"
   },
   "outputs": [
    {
     "name": "stdout",
     "output_type": "stream",
     "text": [
      "Running with lr=0.0001, num_epochs=50, num_particles=20, z-dim=200\n",
      "Device:  cuda:0\n",
      "Using random mask\n",
      "Training with 1 quadrant as input...\n",
      "Files already downloaded and verified\n",
      "Files already downloaded and verified\n",
      "Error with configuration lr=0.0001, num_epochs=50, num_particles=20, z-dim=200: 'Namespace' object has no attribute 'allow_baseline_reuse'\n",
      "Running with lr=0.0001, num_epochs=50, num_particles=20, z-dim=400\n",
      "Device:  cuda:0\n",
      "Using random mask\n",
      "Training with 1 quadrant as input...\n",
      "Files already downloaded and verified\n",
      "Files already downloaded and verified\n",
      "Error with configuration lr=0.0001, num_epochs=50, num_particles=20, z-dim=400: 'Namespace' object has no attribute 'allow_baseline_reuse'\n",
      "Running with lr=0.0001, num_epochs=50, num_particles=10, z-dim=200\n",
      "Device:  cuda:0\n",
      "Using random mask\n",
      "Training with 1 quadrant as input...\n",
      "Files already downloaded and verified\n",
      "Files already downloaded and verified\n",
      "Error with configuration lr=0.0001, num_epochs=50, num_particles=10, z-dim=200: 'Namespace' object has no attribute 'allow_baseline_reuse'\n"
     ]
    },
    {
     "ename": "KeyboardInterrupt",
     "evalue": "",
     "output_type": "error",
     "traceback": [
      "\u001b[0;31m---------------------------------------------------------------------------\u001b[0m",
      "\u001b[0;31mKeyboardInterrupt\u001b[0m                         Traceback (most recent call last)",
      "Cell \u001b[0;32mIn[4], line 35\u001b[0m\n\u001b[1;32m     33\u001b[0m \u001b[38;5;28;01mexcept\u001b[39;00m \u001b[38;5;167;01mException\u001b[39;00m \u001b[38;5;28;01mas\u001b[39;00m e:\n\u001b[1;32m     34\u001b[0m     \u001b[38;5;28mprint\u001b[39m(\u001b[38;5;124mf\u001b[39m\u001b[38;5;124m\"\u001b[39m\u001b[38;5;124mError with configuration lr=\u001b[39m\u001b[38;5;132;01m{\u001b[39;00mlr\u001b[38;5;132;01m}\u001b[39;00m\u001b[38;5;124m, num_epochs=\u001b[39m\u001b[38;5;132;01m{\u001b[39;00mnum_epochs\u001b[38;5;132;01m}\u001b[39;00m\u001b[38;5;124m, num_particles=\u001b[39m\u001b[38;5;132;01m{\u001b[39;00mnum_particles\u001b[38;5;132;01m}\u001b[39;00m\u001b[38;5;124m, z-dim=\u001b[39m\u001b[38;5;132;01m{\u001b[39;00mz_dim\u001b[38;5;132;01m}\u001b[39;00m\u001b[38;5;124m: \u001b[39m\u001b[38;5;132;01m{\u001b[39;00me\u001b[38;5;132;01m}\u001b[39;00m\u001b[38;5;124m\"\u001b[39m)\n\u001b[0;32m---> 35\u001b[0m     \u001b[38;5;28;01mcontinue\u001b[39;00m\n\u001b[1;32m     37\u001b[0m \u001b[38;5;66;03m# Save the results\u001b[39;00m\n\u001b[1;32m     38\u001b[0m \u001b[38;5;28;01mif\u001b[39;00m os\u001b[38;5;241m.\u001b[39mpath\u001b[38;5;241m.\u001b[39mexists(\u001b[38;5;124m\"\u001b[39m\u001b[38;5;124mresults.csv\u001b[39m\u001b[38;5;124m\"\u001b[39m):\n",
      "\u001b[0;31mKeyboardInterrupt\u001b[0m: "
     ]
    }
   ],
   "source": [
    "# Define the hyperparameter search space\n",
    "learning_rates = [1e-4, 1e-3]\n",
    "num_epochs_list = [50, 101]\n",
    "num_particles_list = [20, 10]\n",
    "z_dims = [200, 400]\n",
    "random_mask = True\n",
    "\n",
    "# Iterate over all combinations of hyperparameters\n",
    "for lr, num_epochs, num_particles, z_dim in itertools.product(learning_rates, num_epochs_list, num_particles_list, z_dims):\n",
    "    # Set up arguments\n",
    "    args = argparse.Namespace(\n",
    "        num_quadrant_inputs=[1, 2, 3],\n",
    "        num_epochs=num_epochs,\n",
    "        early_stop_patience=3,\n",
    "        learning_rate=lr,\n",
    "        cuda=True,\n",
    "        num_images=10,\n",
    "        num_samples=10,\n",
    "        num_particles=num_particles,\n",
    "        dataset='cifar10',\n",
    "        z_dim=z_dim,\n",
    "        random_mask=random_mask,\n",
    "        hidden_1=500,\n",
    "        hidden_2=500,\n",
    "    )\n",
    "\n",
    "    # Log the current configuration\n",
    "    print(f\"Running with lr={lr}, num_epochs={num_epochs}, num_particles={num_particles}, z-dim={z_dim}\")\n",
    "\n",
    "    # Run the main function\n",
    "    try:\n",
    "        main(args)\n",
    "    except Exception as e:\n",
    "        print(f\"Error with configuration lr={lr}, num_epochs={num_epochs}, num_particles={num_particles}, z-dim={z_dim}: {e}\")\n",
    "        continue\n",
    "\n",
    "    # Save the results\n",
    "    if os.path.exists(\"results.csv\"):\n",
    "        output_file = f\"tuning_results/results_lr_{lr}_epochs_{num_epochs}_particles_{num_particles}_z_{z_dim}.csv\"\n",
    "        shutil.copy(\"results.csv\", output_file)\n",
    "        print(f\"Results saved to {output_file}\")\n",
    "    else:\n",
    "        print(f\"No 'results.csv' file generated for lr={lr}, num_epochs={num_epochs}, num_particles={num_particles}_z_{z_dim}.\")\n",
    "    # Backup important files before starting\n",
    "\n",
    "    for q in range(1, 3):\n",
    "        file_name = \"cvae{}_plot_q{}.png\".format(\"_rand_mask\" if random_mask else \"\", q)\n",
    "        if os.path.exists(file_name):\n",
    "            output_file = f\"tuning_results/cvae_plot{'_rand_mask' if random_mask else ''}_q{q}_lr_{lr}_epochs_{num_epochs}_particles_{num_particles}_z_{z_dim}.png\"\n",
    "            shutil.copy(file_name, output_file)\n",
    "            print(f\"Backup created for '{file_name}'.\")\n"
   ]
  },
  {
   "cell_type": "code",
   "execution_count": 5,
   "metadata": {
    "colab": {
     "base_uri": "https://localhost:8080/"
    },
    "id": "NTelD3I3Sqgt",
    "outputId": "378d6170-38f7-47df-9423-a538b035bdcb"
   },
   "outputs": [
    {
     "name": "stdout",
     "output_type": "stream",
     "text": [
      "               Method   1 quadrant  2 quadrants  3 quadrants\n",
      "0       NN (baseline)  2236.662846  1754.437353  1413.662279\n",
      "1  CVAE (Monte Carlo)  1423.987901  1035.200535   529.468100\n",
      "2     Performance gap   812.674944   719.236818   884.194179\n",
      "               Method   1 quadrant  2 quadrants  3 quadrants\n",
      "0       NN (baseline)  2545.570408  2551.728035  2139.701337\n",
      "1  CVAE (Monte Carlo)  1404.176360  1030.918563   530.842307\n",
      "2     Performance gap  1141.394047  1520.809473  1608.859031\n",
      "               Method   1 quadrant  2 quadrants  3 quadrants\n",
      "0       NN (baseline)  3453.096601  2748.454997  1947.861866\n",
      "1  CVAE (Monte Carlo)  1421.109816  1084.252118   554.312988\n",
      "2     Performance gap  2031.986784  1664.202879  1393.548878\n",
      "               Method   1 quadrant  2 quadrants  3 quadrants\n",
      "0       NN (baseline)  2560.857781  1611.340043  1710.103900\n",
      "1  CVAE (Monte Carlo)  1412.916168  1040.832582   532.713018\n",
      "2     Performance gap  1147.941614   570.507461  1177.390882\n",
      "               Method   1 quadrant  2 quadrants  3 quadrants\n",
      "0       NN (baseline)  2120.794950  1625.919894  1675.904996\n",
      "1  CVAE (Monte Carlo)  1434.583046  1030.141339   528.497992\n",
      "2     Performance gap   686.211904   595.778554  1147.407004\n",
      "               Method   1 quadrant  2 quadrants  3 quadrants\n",
      "0       NN (baseline)  3106.719152  1570.453582  1475.138915\n",
      "1  CVAE (Monte Carlo)  1431.349873  1033.183059   531.779050\n",
      "2     Performance gap  1675.369279   537.270523   943.359865\n",
      "               Method   1 quadrant  2 quadrants  3 quadrants\n",
      "0       NN (baseline)  2515.584463  1665.565376  1626.506494\n",
      "1  CVAE (Monte Carlo)  1434.669894  1052.139824   531.865346\n",
      "2     Performance gap  1080.914570   613.425552  1094.641147\n",
      "               Method   1 quadrant  2 quadrants  3 quadrants\n",
      "0       NN (baseline)  3197.066236  2499.953127  2257.836422\n",
      "1  CVAE (Monte Carlo)  1404.562769  1043.129873   530.057396\n",
      "2     Performance gap  1792.503467  1456.823254  1727.779026\n",
      "               Method   1 quadrant  2 quadrants  3 quadrants\n",
      "0       NN (baseline)  2797.378557  2242.188744  2829.483579\n",
      "1  CVAE (Monte Carlo)  1407.130623  1044.632866   528.753910\n",
      "2     Performance gap  1390.247934  1197.555878  2300.729669\n",
      "               Method   1 quadrant  2 quadrants  3 quadrants\n",
      "0       NN (baseline)  2126.029071  1727.350135  1708.204106\n",
      "1  CVAE (Monte Carlo)  1428.540766  1040.436854   535.550004\n",
      "2     Performance gap   697.488305   686.913281  1172.654102\n",
      "               Method   1 quadrant  2 quadrants  3 quadrants\n",
      "0       NN (baseline)  1976.267412  1707.016659  1323.588992\n",
      "1  CVAE (Monte Carlo)  1423.355609  1055.819078   532.526159\n",
      "2     Performance gap   552.911803   651.197580   791.062833\n",
      "               Method   1 quadrant  2 quadrants  3 quadrants\n",
      "0       NN (baseline)  2682.506694  2877.362015  2544.155305\n",
      "1  CVAE (Monte Carlo)  1409.455111  1020.268728   531.358011\n",
      "2     Performance gap  1273.051583  1857.093287  2012.797294\n",
      "               Method   1 quadrant  2 quadrants  3 quadrants\n",
      "0       NN (baseline)  3062.932898  2554.511653  2486.545622\n",
      "1  CVAE (Monte Carlo)  1405.575493  1008.880573   526.420389\n",
      "2     Performance gap  1657.357405  1545.631080  1960.125232\n",
      "               Method   1 quadrant  2 quadrants  3 quadrants\n",
      "0       NN (baseline)  2165.313083  1657.655911  1692.734461\n",
      "1  CVAE (Monte Carlo)  1422.528587  1037.150981   529.980859\n",
      "2     Performance gap   742.784496   620.504930  1162.753602\n",
      "               Method   1 quadrant  2 quadrants  3 quadrants\n",
      "0       NN (baseline)  2975.958246  2282.111633  2023.169052\n",
      "1  CVAE (Monte Carlo)  1402.384315  1042.610785   522.646289\n",
      "2     Performance gap  1573.573931  1239.500848  1500.522762\n",
      "               Method   1 quadrant  2 quadrants  3 quadrants\n",
      "0       NN (baseline)  2949.668454  2536.045775  2881.311686\n",
      "1  CVAE (Monte Carlo)  1405.875139  1053.813893   524.690948\n",
      "2     Performance gap  1543.793315  1482.231882  2356.620739\n",
      "All results combined and saved to 'tuning_results/combined_results.csv'.\n",
      "Best configuration:\n",
      "File: tuning_results/results_lr_0.001_epochs_50_particles_20_z_400.csv, Aggregate Performance Gap: 5382.645935546096\n",
      "\n",
      "Details of the best configuration:\n",
      "           Unnamed: 0   1 quadrant  2 quadrants  3 quadrants\n",
      "0       NN (baseline)  2949.668454  2536.045775  2881.311686\n",
      "1  CVAE (Monte Carlo)  1405.875139  1053.813893   524.690948\n",
      "2     Performance gap  1543.793315  1482.231882  2356.620739\n"
     ]
    }
   ],
   "source": [
    "# Combine all results for analysis\n",
    "result_files = glob.glob(\"tuning_results/*.csv\")\n",
    "if result_files:\n",
    "    combined_results = []\n",
    "\n",
    "    for file in result_files:\n",
    "        # Read each result file\n",
    "        df = pd.read_csv(file)\n",
    "\n",
    "        # Rename the first column if necessary\n",
    "        if 'Unnamed: 0' in df.columns:\n",
    "            df.rename(columns={'Unnamed: 0': 'Method'}, inplace=True)\n",
    "\n",
    "        print(df)\n",
    "\n",
    "        # Extract performance gaps and compute the aggregate gap\n",
    "        performance_gap_row = df.loc[df['Method'] == 'Performance gap']\n",
    "        aggregate_gap = performance_gap_row[['1 quadrant', '2 quadrants', '3 quadrants']].sum(axis=1).values[0]\n",
    "\n",
    "        # Store results with the file name and aggregate gap\n",
    "        combined_results.append({\n",
    "            \"file\": file,\n",
    "            \"aggregate_gap\": aggregate_gap\n",
    "        })\n",
    "\n",
    "    # Convert to a DataFrame for sorting and analysis\n",
    "    combined_results_df = pd.DataFrame(combined_results)\n",
    "\n",
    "    # Sort by aggregate gap in descending order (largest gap first)\n",
    "    combined_results_df = combined_results_df.sort_values(by=\"aggregate_gap\", ascending=False)\n",
    "\n",
    "    # Save the combined results to a file\n",
    "    combined_results_df.to_csv(\"tuning_results/combined_results.csv\", index=False)\n",
    "    print(\"All results combined and saved to 'tuning_results/combined_results.csv'.\")\n",
    "\n",
    "    # Display the best configuration\n",
    "    print(\"Best configuration:\")\n",
    "    best_file = combined_results_df.iloc[0]['file']\n",
    "    print(f\"File: {best_file}, Aggregate Performance Gap: {combined_results_df.iloc[0]['aggregate_gap']}\")\n",
    "\n",
    "    # Optionally, load and display the details of the best result\n",
    "    best_result = pd.read_csv(best_file)\n",
    "    print(\"\\nDetails of the best configuration:\")\n",
    "    print(best_result)\n",
    "else:\n",
    "    print(\"No results to combine.\")\n"
   ]
  },
  {
   "cell_type": "code",
   "execution_count": 8,
   "metadata": {},
   "outputs": [
    {
     "name": "stdout",
     "output_type": "stream",
     "text": [
      "num of files: 49\n"
     ]
    }
   ],
   "source": [
    "# zip all the files in tuning_results folder\n",
    "import tarfile\n",
    "import os\n",
    "import glob\n",
    "\n",
    "with tarfile.open(\"tuning_results.tar.gz\", \"w:gz\") as tar:\n",
    "    print(\"num of files:\", len(glob.glob(\"tuning_results/*\")))\n",
    "    for file in glob.glob(\"./tuning_results/*\"):\n",
    "        tar.add(file, arcname=os.path.basename(file))\n"
   ]
  }
 ],
 "metadata": {
  "accelerator": "GPU",
  "colab": {
   "gpuType": "T4",
   "provenance": []
  },
  "kernelspec": {
   "display_name": "Python 3 (ipykernel)",
   "language": "python",
   "name": "python3"
  },
  "language_info": {
   "codemirror_mode": {
    "name": "ipython",
    "version": 3
   },
   "file_extension": ".py",
   "mimetype": "text/x-python",
   "name": "python",
   "nbconvert_exporter": "python",
   "pygments_lexer": "ipython3",
   "version": "3.11.10"
  }
 },
 "nbformat": 4,
 "nbformat_minor": 4
}
